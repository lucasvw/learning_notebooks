{
 "cells": [
  {
   "cell_type": "code",
   "execution_count": 1,
   "id": "85affc40-bd95-483f-8b46-d13abddf9c2b",
   "metadata": {},
   "outputs": [
    {
     "name": "stderr",
     "output_type": "stream",
     "text": [
      "/Users/lucasvanwalstijn/mambaforge/lib/python3.10/site-packages/tqdm/auto.py:22: TqdmWarning: IProgress not found. Please update jupyter and ipywidgets. See https://ipywidgets.readthedocs.io/en/stable/user_install.html\n",
      "  from .autonotebook import tqdm as notebook_tqdm\n"
     ]
    }
   ],
   "source": [
    "from fastai.vision.all import *"
   ]
  },
  {
   "cell_type": "markdown",
   "id": "55617b7c-56b0-4f3b-8368-8329ce524dd0",
   "metadata": {},
   "source": [
    "### Continue with some actual data"
   ]
  },
  {
   "cell_type": "code",
   "execution_count": 2,
   "id": "40ed9b6c-f585-459d-acd3-bd93f4101ad6",
   "metadata": {},
   "outputs": [],
   "source": [
    "path = untar_data(URLs.MNIST_SAMPLE)"
   ]
  },
  {
   "cell_type": "code",
   "execution_count": 3,
   "id": "e34a4573-ad40-4e60-8aa7-17f9e4146392",
   "metadata": {},
   "outputs": [
    {
     "data": {
      "text/plain": [
       "(#3) [Path('/Users/lucasvanwalstijn/.fastai/data/mnist_sample/valid'),Path('/Users/lucasvanwalstijn/.fastai/data/mnist_sample/labels.csv'),Path('/Users/lucasvanwalstijn/.fastai/data/mnist_sample/train')]"
      ]
     },
     "execution_count": 3,
     "metadata": {},
     "output_type": "execute_result"
    }
   ],
   "source": [
    "(path).ls()"
   ]
  },
  {
   "cell_type": "code",
   "execution_count": 4,
   "id": "2dfd40b3-e292-4ccb-90f4-f1934eee4543",
   "metadata": {},
   "outputs": [],
   "source": [
    "dblock = DataBlock(\n",
    "    blocks=[ImageBlock(cls=PILImageBW), CategoryBlock],\n",
    "    get_items=get_image_files,\n",
    "    splitter=GrandparentSplitter('train','valid'),\n",
    "    get_y=parent_label,\n",
    "    batch_tfms=Normalize()\n",
    ")"
   ]
  },
  {
   "cell_type": "code",
   "execution_count": 5,
   "id": "66eee5d9-5c70-475b-a59d-7ab78e7bf775",
   "metadata": {},
   "outputs": [],
   "source": [
    "dls = dblock.dataloaders(path, bs=64)"
   ]
  },
  {
   "cell_type": "code",
   "execution_count": 7,
   "id": "24bfedaa-490e-4c65-91d0-7686f88d94b4",
   "metadata": {},
   "outputs": [
    {
     "data": {
      "text/plain": [
       "torch.Size([64, 1, 28, 28])"
      ]
     },
     "execution_count": 7,
     "metadata": {},
     "output_type": "execute_result"
    }
   ],
   "source": [
    "xb, yb = dls.one_batch()\n",
    "xb.shape"
   ]
  },
  {
   "cell_type": "code",
   "execution_count": 10,
   "id": "e913fd67-bf04-4302-92ce-cd37fc214f6f",
   "metadata": {},
   "outputs": [
    {
     "data": {
      "text/plain": [
       "torch.Size([64, 1])"
      ]
     },
     "execution_count": 10,
     "metadata": {},
     "output_type": "execute_result"
    }
   ],
   "source": [
    "xb.mean((2,3)).shape"
   ]
  },
  {
   "cell_type": "markdown",
   "id": "2f8e0c21-92ef-4215-a57a-7944fd295ff2",
   "metadata": {},
   "source": [
    "The problem with our previous approach was that if we have bigger images, we need a lot of stride 2 convolutions to arrive finally at a set of activations in which the grid size collapsed to (1,1):"
   ]
  },
  {
   "cell_type": "code",
   "execution_count": 21,
   "id": "f2c1ba62-5026-4c39-8f63-d079365f3cdc",
   "metadata": {},
   "outputs": [],
   "source": [
    "def conv_series(inp):\n",
    "    s = [inp] \n",
    "    while inp != 1:\n",
    "        inp = int(np.ceil(inp / 2))\n",
    "        s.append(inp)\n",
    "    print(s, f'{len(s)=}', sep='\\n')"
   ]
  },
  {
   "cell_type": "code",
   "execution_count": 22,
   "id": "838365b6-3fe4-43da-8492-ee4c2c1ae718",
   "metadata": {},
   "outputs": [
    {
     "name": "stdout",
     "output_type": "stream",
     "text": [
      "[28, 14, 7, 4, 2, 1]\n",
      "len(s)=6\n"
     ]
    }
   ],
   "source": [
    "conv_series(28)"
   ]
  },
  {
   "cell_type": "code",
   "execution_count": 25,
   "id": "a1cf5467-0d59-4025-95b9-f83681fe25d2",
   "metadata": {},
   "outputs": [
    {
     "name": "stdout",
     "output_type": "stream",
     "text": [
      "[256, 128, 64, 32, 16, 8, 4, 2, 1]\n",
      "len(s)=9\n"
     ]
    }
   ],
   "source": [
    "conv_series(256)"
   ]
  },
  {
   "cell_type": "code",
   "execution_count": 26,
   "id": "1444dc19-ee0c-4be9-9d53-26d0e3530d07",
   "metadata": {},
   "outputs": [
    {
     "name": "stdout",
     "output_type": "stream",
     "text": [
      "[512, 256, 128, 64, 32, 16, 8, 4, 2, 1]\n",
      "len(s)=10\n"
     ]
    }
   ],
   "source": [
    "conv_series(512)"
   ]
  },
  {
   "cell_type": "markdown",
   "id": "5bb9d1e3-14aa-4030-a984-f35edc7edda1",
   "metadata": {},
   "source": [
    "From looking at the above outputs, that doesn't seem like a huge problem, but it's still a reason given by JH to not use this approach, perhaps also because of the following:\n",
    "\n",
    "Also, the network wouldn't be able to deal with images of any input size, since a different image size would require a different amount of conv layers to reduce to a grid size of (1,1)"
   ]
  },
  {
   "cell_type": "markdown",
   "id": "d995c275-11e2-4873-b8ec-8e11b9d9acdc",
   "metadata": {},
   "source": [
    "So what to do then? Well, we could just do a fixed amount of convs and end up with whatever we then have, flatten it out and stick it into a fully connected layer. \n",
    "\n",
    "This is what VGG did. But the problem there is that these last FC layers are enormous. For example, the first FC layer has around 100 mio parameters:\n",
    "\n",
    "![vgg](vgg.png)"
   ]
  },
  {
   "cell_type": "code",
   "execution_count": 28,
   "id": "34703417-aad6-496c-b392-71b5a6993dd4",
   "metadata": {},
   "outputs": [
    {
     "name": "stdout",
     "output_type": "stream",
     "text": [
      "params:  102760448\n"
     ]
    }
   ],
   "source": [
    "n_in = 7*7*512\n",
    "n_out = 4096\n",
    "\n",
    "print('params: ', n_in*n_out)"
   ]
  },
  {
   "cell_type": "markdown",
   "id": "0ab1b101-f9f8-42a2-8499-e58f3a69c216",
   "metadata": {},
   "source": [
    "So instead let's use fully convolutional networks (no linear layers at the end) and instead use some feature reduction in the end. For example by using a simple:"
   ]
  },
  {
   "cell_type": "code",
   "execution_count": 31,
   "id": "f7c2d503-e323-4bad-89c7-6c39f4178607",
   "metadata": {},
   "outputs": [],
   "source": [
    "def avg_pool(x): return x.mean((-2,-1))"
   ]
  },
  {
   "cell_type": "code",
   "execution_count": 32,
   "id": "be4db1fd-a8a5-4978-9ed6-dd00cb3d00a7",
   "metadata": {},
   "outputs": [
    {
     "data": {
      "text/plain": [
       "torch.Size([64, 1])"
      ]
     },
     "execution_count": 32,
     "metadata": {},
     "output_type": "execute_result"
    }
   ],
   "source": [
    "avg_pool(xb).shape"
   ]
  },
  {
   "cell_type": "markdown",
   "id": "c83477ad-978c-4e85-ba10-81ad02ad4961",
   "metadata": {},
   "source": [
    "So this just flattens out the last 2 dimensions (size of the \"image\"). PyTorch has the `AdaptiveAvgPool2d` for that purpose"
   ]
  },
  {
   "cell_type": "code",
   "execution_count": 37,
   "id": "016c6756-467d-4239-b5bb-72d2f2154409",
   "metadata": {},
   "outputs": [
    {
     "data": {
      "text/plain": [
       "torch.Size([64, 1, 1, 1])"
      ]
     },
     "execution_count": 37,
     "metadata": {},
     "output_type": "execute_result"
    }
   ],
   "source": [
    "ap = nn.AdaptiveAvgPool2d(1)\n",
    "\n",
    "ap(xb).shape"
   ]
  },
  {
   "cell_type": "code",
   "execution_count": 39,
   "id": "a1863d08-5296-4f68-af7f-643c2a06afe8",
   "metadata": {},
   "outputs": [
    {
     "data": {
      "text/plain": [
       "torch.Size([64, 1, 4, 2])"
      ]
     },
     "execution_count": 39,
     "metadata": {},
     "output_type": "execute_result"
    }
   ],
   "source": [
    "# Or we specify some custom output size\n",
    "ap = nn.AdaptiveAvgPool2d((4,2))\n",
    "\n",
    "ap(xb).shape"
   ]
  },
  {
   "cell_type": "code",
   "execution_count": 40,
   "id": "8a9d58d8-c078-430a-a56c-f89b76a3b84e",
   "metadata": {},
   "outputs": [],
   "source": [
    "# We saw a different Pooling layer before, the MaxPool2d, the \"normal\" one and the adaptive one do exactly the same thing, they just differ in the API:\n",
    "# With AdaptivePooling you specify the output you want, with \"normal\" pooling you specify the stride and kernel size"
   ]
  },
  {
   "cell_type": "code",
   "execution_count": 41,
   "id": "b7df3ff8-d0d8-4c80-9aa0-b61f20bbdefc",
   "metadata": {},
   "outputs": [
    {
     "data": {
      "text/plain": [
       "torch.Size([64, 1, 28, 28])"
      ]
     },
     "execution_count": 41,
     "metadata": {},
     "output_type": "execute_result"
    }
   ],
   "source": [
    "xb.shape"
   ]
  },
  {
   "cell_type": "code",
   "execution_count": 42,
   "id": "645b5234-23cc-4716-ad4b-c7f68dd47636",
   "metadata": {},
   "outputs": [
    {
     "data": {
      "text/plain": [
       "torch.Size([64, 1, 14, 14])"
      ]
     },
     "execution_count": 42,
     "metadata": {},
     "output_type": "execute_result"
    }
   ],
   "source": [
    "mp = nn.MaxPool2d((2,2))\n",
    "\n",
    "mp(xb).shape"
   ]
  },
  {
   "cell_type": "code",
   "execution_count": 43,
   "id": "a668cf66-32d1-4040-b866-ba8674b8f40f",
   "metadata": {},
   "outputs": [
    {
     "data": {
      "text/plain": [
       "torch.Size([64, 1, 14, 14])"
      ]
     },
     "execution_count": 43,
     "metadata": {},
     "output_type": "execute_result"
    }
   ],
   "source": [
    "amp = nn.AdaptiveMaxPool2d((14,14))\n",
    "\n",
    "amp(xb).shape"
   ]
  },
  {
   "cell_type": "code",
   "execution_count": 44,
   "id": "97c70afe-abd1-4cf2-9470-2d7175f746ce",
   "metadata": {},
   "outputs": [
    {
     "data": {
      "text/plain": [
       "True"
      ]
     },
     "execution_count": 44,
     "metadata": {},
     "output_type": "execute_result"
    }
   ],
   "source": [
    "torch.allclose(mp(xb), amp(xb))"
   ]
  },
  {
   "cell_type": "markdown",
   "id": "f4015a38-9c55-45b0-815d-e107d31355c8",
   "metadata": {},
   "source": [
    "Whats ofcourse nice of the Adaptive one is that you can specify just the output size you need, regardless of the input size. Which makes it great to work with different image sizes as input.."
   ]
  },
  {
   "cell_type": "markdown",
   "id": "e0a6c789-aa38-40b6-b529-1431bb116ad8",
   "metadata": {},
   "source": [
    "*Consider this question: would this approach makes sense for an optical character recognition (OCR) problem such as MNIST? The vast majority of practitioners tackling OCR and similar problems tend to use fully convolutional networks, because that's what nearly everybody learns nowadays. But it really doesn't make any sense! You can't decide, for instance, whether a number is a 3 or an 8 by slicing it into small pieces, jumbling them up, and deciding whether on average each piece looks like a 3 or an 8. But that's what adaptive average pooling effectively does! Fully convolutional networks are only really a good choice for objects that don't have a single correct orientation or size (e.g., like most natural photos).*"
   ]
  },
  {
   "cell_type": "markdown",
   "id": "71ce269c-0edd-45c9-976c-a0c316debae8",
   "metadata": {},
   "source": [
    "Link to [thread](https://forums.fast.ai/t/lesson-8-official-topic/97159/51?u=lucasvw) on the forums concerning conv sizes and VGG"
   ]
  },
  {
   "cell_type": "markdown",
   "id": "1c1ef682-2c8f-4567-b1c3-ed54b9e84f4d",
   "metadata": {},
   "source": [
    "### Resnets"
   ]
  },
  {
   "cell_type": "markdown",
   "id": "e43eb565-9378-46e9-a6f8-7849c820e579",
   "metadata": {},
   "source": [
    "Observation that a deeper model was training worse then a smaller model, intuition that leads to ResNets:\n",
    "\n",
    "- Let's wrap the smaller model inside a deeper model\n",
    "- Let's start in a configuration in which the deeper model is exactly the same as the smaller model\n",
    "- The model itself can learn to use the additional layers\n",
    "\n",
    "But instead of first training a smaller model, then a larger:\n",
    "\n",
    "- Create ResBlocks, with skip connections\n",
    "- since now we have `y = x + block(x)` the block is kind of like learning the residual (difference) between y and x"
   ]
  },
  {
   "cell_type": "code",
   "execution_count": 197,
   "id": "23f1581b-454f-4e2c-82f0-045300a78632",
   "metadata": {},
   "outputs": [
    {
     "data": {
      "text/plain": [
       "ConvLayer(\n",
       "  (0): Conv2d(3, 64, kernel_size=(3, 3), stride=(1, 1), padding=(1, 1), bias=False)\n",
       "  (1): BatchNorm2d(64, eps=1e-05, momentum=0.1, affine=True, track_running_stats=True)\n",
       "  (2): ReLU()\n",
       ")"
      ]
     },
     "execution_count": 197,
     "metadata": {},
     "output_type": "execute_result"
    }
   ],
   "source": [
    "# So this is the basic conv layer in FastAI:\n",
    "ConvLayer(3, 64)"
   ]
  },
  {
   "cell_type": "markdown",
   "id": "2ae82eae-9f08-430f-a495-0ca454375fde",
   "metadata": {},
   "source": [
    "Order:\n",
    "\n",
    "1. conv\n",
    "2. batchnorm\n",
    "3. activation"
   ]
  },
  {
   "cell_type": "code",
   "execution_count": 198,
   "id": "38ffd88d-26af-459c-8f09-98acedcf25f6",
   "metadata": {},
   "outputs": [],
   "source": [
    "# This doesn't really work, since ni needs to be no\n",
    "\n",
    "class ResBlock(nn.Module):\n",
    "    def __init__(self, ni, no):\n",
    "        super().__init__()\n",
    "        \n",
    "        self.convs = nn.Sequential(\n",
    "            ConvLayer(ni, no),\n",
    "            ConvLayer(no, no)\n",
    "        )\n",
    "        \n",
    "    def forward(self, x):\n",
    "        return x + self.convs(x)\n",
    "        "
   ]
  },
  {
   "cell_type": "code",
   "execution_count": 199,
   "id": "e4ea5f7d-b2cc-4eba-933b-9447f8831f47",
   "metadata": {},
   "outputs": [],
   "source": [
    "def conv_block(ni, no, stride):\n",
    "    return nn.Sequential(\n",
    "        ConvLayer(ni, no, stride=stride),\n",
    "        ConvLayer(no, no, act_cls=None)\n",
    "    )\n",
    "\n",
    "class ResBlock(nn.Module):\n",
    "    def __init__(self, ni, no, stride=1):\n",
    "        super().__init__()\n",
    "        \n",
    "        self.convs = conv_block(ni, no, stride)\n",
    "        self.idconv = noop if ni == no else ConvLayer(ni, no, 1, act_cls=None)\n",
    "        self.pool = noop if stride==1 else nn.AvgPool2d(2, ceil_mode=True)\n",
    "        \n",
    "    def forward(self, x):\n",
    "        return F.relu(self.pool(self.idconv(x)) + self.convs(x))\n",
    "        "
   ]
  },
  {
   "cell_type": "code",
   "execution_count": 200,
   "id": "75c2ff41-4189-4178-94f7-99b130b53487",
   "metadata": {},
   "outputs": [
    {
     "data": {
      "text/plain": [
       "(torch.Size([64, 1, 28, 28]), torch.Size([64, 4, 28, 28]))"
      ]
     },
     "execution_count": 200,
     "metadata": {},
     "output_type": "execute_result"
    }
   ],
   "source": [
    "rb = ResBlock(1, 4)\n",
    "xb.shape, rb(xb).shape"
   ]
  },
  {
   "cell_type": "code",
   "execution_count": 201,
   "id": "46a13767-8076-4b9c-bbe2-0719bb8ebd9e",
   "metadata": {},
   "outputs": [
    {
     "data": {
      "text/plain": [
       "ResBlock(\n",
       "  (convs): Sequential(\n",
       "    (0): ConvLayer(\n",
       "      (0): Conv2d(1, 4, kernel_size=(3, 3), stride=(1, 1), padding=(1, 1), bias=False)\n",
       "      (1): BatchNorm2d(4, eps=1e-05, momentum=0.1, affine=True, track_running_stats=True)\n",
       "      (2): ReLU()\n",
       "    )\n",
       "    (1): ConvLayer(\n",
       "      (0): Conv2d(4, 4, kernel_size=(3, 3), stride=(1, 1), padding=(1, 1), bias=False)\n",
       "      (1): BatchNorm2d(4, eps=1e-05, momentum=0.1, affine=True, track_running_stats=True)\n",
       "    )\n",
       "  )\n",
       "  (idconv): ConvLayer(\n",
       "    (0): Conv2d(1, 4, kernel_size=(1, 1), stride=(1, 1), bias=False)\n",
       "    (1): BatchNorm2d(4, eps=1e-05, momentum=0.1, affine=True, track_running_stats=True)\n",
       "  )\n",
       ")"
      ]
     },
     "execution_count": 201,
     "metadata": {},
     "output_type": "execute_result"
    }
   ],
   "source": [
    "rb"
   ]
  },
  {
   "cell_type": "code",
   "execution_count": 202,
   "id": "0c88713d-832b-4ed2-827f-bb6546e5053b",
   "metadata": {},
   "outputs": [
    {
     "data": {
      "text/plain": [
       "(torch.Size([64, 1, 28, 28]), torch.Size([64, 4, 14, 14]))"
      ]
     },
     "execution_count": 202,
     "metadata": {},
     "output_type": "execute_result"
    }
   ],
   "source": [
    "rb = ResBlock(1, 4, stride=2)\n",
    "xb.shape, rb(xb).shape"
   ]
  },
  {
   "cell_type": "code",
   "execution_count": 203,
   "id": "29751780-52ee-4c2e-98dd-33a13a38fa91",
   "metadata": {},
   "outputs": [
    {
     "data": {
      "text/plain": [
       "torch.Size([4, 1, 1, 1])"
      ]
     },
     "execution_count": 203,
     "metadata": {},
     "output_type": "execute_result"
    }
   ],
   "source": [
    "rb.idconv[0].weight.shape"
   ]
  },
  {
   "cell_type": "code",
   "execution_count": 204,
   "id": "c5bc2bd6-9c97-4512-9b75-6544644a60f0",
   "metadata": {},
   "outputs": [],
   "source": [
    "# With 3 channel input:\n",
    "rb = ResBlock(3, 8, stride=2)"
   ]
  },
  {
   "cell_type": "code",
   "execution_count": 205,
   "id": "f46dd09b-adba-49ca-83d1-9e5d3b80f6b3",
   "metadata": {},
   "outputs": [
    {
     "data": {
      "text/plain": [
       "torch.Size([8, 3, 1, 1])"
      ]
     },
     "execution_count": 205,
     "metadata": {},
     "output_type": "execute_result"
    }
   ],
   "source": [
    "rb.idconv[0].weight.shape"
   ]
  },
  {
   "cell_type": "markdown",
   "id": "8d60945d-c120-450a-8c6e-b5b740ad2b03",
   "metadata": {},
   "source": [
    "Passage from book:\n",
    "\n",
    "*Changing the number of channels can be done by using a convolution. We want this skip connection to be as close to an identity map as possible, however, which means making this convolution as simple as possible. The simplest possible convolution is one where the kernel size is 1. That means that the kernel is size `ni*nf*1*1`, so it's only doing a dot product over the channels of each input pixel—it's not combining across pixels at all. This kind of *1x1 convolution* is very widely used in modern CNNs, so take a moment to think about how it works.*\n",
    "\n",
    "Perhaps we should help it make as close as possible by using a identity in the upper left corner?!"
   ]
  },
  {
   "cell_type": "code",
   "execution_count": 206,
   "id": "56481cb5-c14c-4965-acc8-b19c3ec03892",
   "metadata": {},
   "outputs": [],
   "source": [
    "with torch.no_grad():\n",
    "    rb.idconv[0].weight[0:3, 0:3, 0, 0] = torch.eye(3,3)"
   ]
  },
  {
   "cell_type": "code",
   "execution_count": 207,
   "id": "5214340f-077b-45cc-b39f-de25a7e30932",
   "metadata": {},
   "outputs": [
    {
     "data": {
      "text/plain": [
       "tensor([[1., 0., 0.],\n",
       "        [0., 1., 0.],\n",
       "        [0., 0., 1.]])"
      ]
     },
     "execution_count": 207,
     "metadata": {},
     "output_type": "execute_result"
    }
   ],
   "source": [
    "rb1 = ResBlock(3, 4, stride=2)\n",
    "rb1.idconv[0].weight[0:3, 0:3, 0, 0].data.copy_(torch.eye(3,3))"
   ]
  },
  {
   "cell_type": "code",
   "execution_count": 236,
   "id": "b53882bb-d499-46b0-aa5e-639ae6c63388",
   "metadata": {},
   "outputs": [
    {
     "data": {
      "text/plain": [
       "tensor([[ 1.0000,  0.0000,  0.0000],\n",
       "        [ 0.0000,  1.0000,  0.0000],\n",
       "        [ 0.0000,  0.0000,  1.0000],\n",
       "        [-0.1280, -0.4397, -0.5567],\n",
       "        [ 0.2435, -0.2283, -0.4996],\n",
       "        [ 0.4334,  0.3092,  0.2609],\n",
       "        [-0.5149,  0.3920, -0.3241],\n",
       "        [ 0.5083,  0.0669,  0.0929]], grad_fn=<SelectBackward0>)"
      ]
     },
     "execution_count": 236,
     "metadata": {},
     "output_type": "execute_result"
    }
   ],
   "source": [
    "rb.idconv[0].weight[:,:,0,0]"
   ]
  },
  {
   "cell_type": "markdown",
   "id": "9ae77523-1e30-4edf-8d8e-93e862e8bad7",
   "metadata": {},
   "source": [
    "This is kind of interesting, a convolution with ks 1x1 is drilling through the depth of the grid-size. E.g. per location in the grid-size, it's multiplying this very matrix above with the inputs:\n",
    "\n",
    "So let's say we have for a pixel location (0,0) 3 channels with values :\n",
    "\n",
    "```\n",
    "[0.4, 0.3, 0.5]\n",
    "```\n",
    "\n",
    "Then the output would be:\n"
   ]
  },
  {
   "cell_type": "code",
   "execution_count": 238,
   "id": "5933c476-132f-458f-9c69-5fcc655656e3",
   "metadata": {},
   "outputs": [
    {
     "data": {
      "text/plain": [
       "tensor([ 0.4000,  0.3000,  0.5000, -0.4614, -0.2209,  0.3965, -0.2504,  0.2698],\n",
       "       grad_fn=<MvBackward0>)"
      ]
     },
     "execution_count": 238,
     "metadata": {},
     "output_type": "execute_result"
    }
   ],
   "source": [
    "rb.idconv[0].weight[:,:,0,0] @ torch.tensor([0.4, 0.3, 0.5])"
   ]
  },
  {
   "cell_type": "markdown",
   "id": "c621a77f-a144-4828-b274-4884ac93003d",
   "metadata": {},
   "source": [
    "So the first 3 channels are just \"copied\" over and the other 5 are mixes of the input channels according to the weights"
   ]
  },
  {
   "cell_type": "markdown",
   "id": "e9846214-2d69-4959-89a9-d6b67b306389",
   "metadata": {},
   "source": [
    "Perhaps try out whether this actually helps convergence?!"
   ]
  },
  {
   "cell_type": "code",
   "execution_count": 209,
   "id": "5ca3b01c-c1d6-40d7-8d79-d15477a53f18",
   "metadata": {},
   "outputs": [],
   "source": [
    "def _resnet_stem(*sizes):\n",
    "    layers = []\n",
    "    for i, size in enumerate(sizes[:-1]):\n",
    "        stride = 2 if i==0 else 1\n",
    "        layers.append(ConvLayer(size, sizes[i+1], stride=stride))\n",
    "    layers.append(nn.MaxPool2d(3, stride=2, padding=1))\n",
    "    return layers\n",
    "    "
   ]
  },
  {
   "cell_type": "code",
   "execution_count": 210,
   "id": "c53722a1-eb3d-4ca9-bfb0-e3b970846e9b",
   "metadata": {},
   "outputs": [
    {
     "data": {
      "text/plain": [
       "[ConvLayer(\n",
       "   (0): Conv2d(3, 32, kernel_size=(3, 3), stride=(2, 2), padding=(1, 1), bias=False)\n",
       "   (1): BatchNorm2d(32, eps=1e-05, momentum=0.1, affine=True, track_running_stats=True)\n",
       "   (2): ReLU()\n",
       " ),\n",
       " ConvLayer(\n",
       "   (0): Conv2d(32, 32, kernel_size=(3, 3), stride=(1, 1), padding=(1, 1), bias=False)\n",
       "   (1): BatchNorm2d(32, eps=1e-05, momentum=0.1, affine=True, track_running_stats=True)\n",
       "   (2): ReLU()\n",
       " ),\n",
       " ConvLayer(\n",
       "   (0): Conv2d(32, 64, kernel_size=(3, 3), stride=(1, 1), padding=(1, 1), bias=False)\n",
       "   (1): BatchNorm2d(64, eps=1e-05, momentum=0.1, affine=True, track_running_stats=True)\n",
       "   (2): ReLU()\n",
       " ),\n",
       " MaxPool2d(kernel_size=3, stride=2, padding=1, dilation=1, ceil_mode=False)]"
      ]
     },
     "execution_count": 210,
     "metadata": {},
     "output_type": "execute_result"
    }
   ],
   "source": [
    "_resnet_stem(3, 32, 32, 64)"
   ]
  },
  {
   "cell_type": "markdown",
   "id": "cc775313-25ac-4251-8432-a99ed4ac11e8",
   "metadata": {},
   "source": [
    "`3*3*3 = 27` input pixels are getting mapped to `32` ouput pixels.. this is a smaller increase then what VGG is doing (increase to 64 channels) but it's still quite a large increase in my opinion and according to the earlier passage in the book, better would perhaps be 16 output channels..?"
   ]
  },
  {
   "cell_type": "code",
   "execution_count": 211,
   "id": "2bee8ccd-7bcb-4865-b0b6-d15c3a4371f4",
   "metadata": {},
   "outputs": [
    {
     "name": "stdout",
     "output_type": "stream",
     "text": [
      "[64, 64]\n",
      "[64, 128]\n",
      "[128, 256]\n",
      "[256, 512]\n",
      "[512]\n"
     ]
    }
   ],
   "source": [
    "block_szs = [64, 64, 128, 256, 512]\n",
    "\n",
    "for i,_ in enumerate(block_szs):\n",
    "    print(block_szs[i:i+2])"
   ]
  },
  {
   "cell_type": "code",
   "execution_count": 212,
   "id": "15e9426d-a6d7-4d13-bed0-609a6c282797",
   "metadata": {},
   "outputs": [],
   "source": [
    "class ResNet(nn.Sequential):\n",
    "    \n",
    "    def __init__(self, n_out, layers, expansion=1):\n",
    "        self.block_szs = [64, 64, 128, 256, 512]\n",
    "        for i in range(1,5): self.block_szs[i] *= expansion\n",
    "        \n",
    "        stem = _resnet_stem(3, 32, 32, 64)\n",
    "        blocks = [self._make_resblock(*o) for o in enumerate(layers)]\n",
    "        \n",
    "        super().__init__(*stem, *blocks, \n",
    "                         nn.AdaptiveAvgPool2d(1), \n",
    "                         Flatten(),\n",
    "                         nn.Linear(self.block_szs[-1], n_out))\n",
    "        \n",
    "    def _make_resblock(self, idx, n_layers):\n",
    "        stride = 1 if idx==0 else 2\n",
    "        ch_in, ch_out = self.block_szs[idx:idx+2]\n",
    "        return nn.Sequential(*[\n",
    "            ResBlock(ch_in if i==0 else ch_out, ch_out, stride if i==0 else 1) for i in range(n_layers)\n",
    "        ])\n",
    "        \n",
    "        "
   ]
  },
  {
   "cell_type": "code",
   "execution_count": 213,
   "id": "8fe9ca69-a790-4056-a36a-e53b110e0198",
   "metadata": {},
   "outputs": [],
   "source": [
    "rn = ResNet(10, [2,2,2,2])"
   ]
  },
  {
   "cell_type": "code",
   "execution_count": 214,
   "id": "b05021e9-b6c1-49cb-bb66-81572b8adc8b",
   "metadata": {},
   "outputs": [
    {
     "data": {
      "text/plain": [
       "torch.Size([64, 10])"
      ]
     },
     "execution_count": 214,
     "metadata": {},
     "output_type": "execute_result"
    }
   ],
   "source": [
    "rn(torch.randn(64, 3, 128, 128)).shape"
   ]
  },
  {
   "cell_type": "code",
   "execution_count": 215,
   "id": "e20f924c-d9e7-46e3-a29c-6b93574dc8ab",
   "metadata": {},
   "outputs": [
    {
     "data": {
      "text/plain": [
       "torch.Size([64, 10])"
      ]
     },
     "execution_count": 215,
     "metadata": {},
     "output_type": "execute_result"
    }
   ],
   "source": [
    "rn(torch.randn(64, 3, 8, 8)).shape"
   ]
  },
  {
   "cell_type": "markdown",
   "id": "a222ac4d-ea36-4ffe-9573-dc716cab9b9e",
   "metadata": {},
   "source": [
    "So that seems to all work, but how ?!?!"
   ]
  },
  {
   "cell_type": "code",
   "execution_count": 216,
   "id": "689cb387-8cb1-4c09-8204-5d233890e606",
   "metadata": {},
   "outputs": [
    {
     "data": {
      "text/plain": [
       "ResNet(\n",
       "  (0): ConvLayer(\n",
       "    (0): Conv2d(3, 32, kernel_size=(3, 3), stride=(2, 2), padding=(1, 1), bias=False)\n",
       "    (1): BatchNorm2d(32, eps=1e-05, momentum=0.1, affine=True, track_running_stats=True)\n",
       "    (2): ReLU()\n",
       "  )\n",
       "  (1): ConvLayer(\n",
       "    (0): Conv2d(32, 32, kernel_size=(3, 3), stride=(1, 1), padding=(1, 1), bias=False)\n",
       "    (1): BatchNorm2d(32, eps=1e-05, momentum=0.1, affine=True, track_running_stats=True)\n",
       "    (2): ReLU()\n",
       "  )\n",
       "  (2): ConvLayer(\n",
       "    (0): Conv2d(32, 64, kernel_size=(3, 3), stride=(1, 1), padding=(1, 1), bias=False)\n",
       "    (1): BatchNorm2d(64, eps=1e-05, momentum=0.1, affine=True, track_running_stats=True)\n",
       "    (2): ReLU()\n",
       "  )\n",
       "  (3): MaxPool2d(kernel_size=3, stride=2, padding=1, dilation=1, ceil_mode=False)\n",
       "  (4): Sequential(\n",
       "    (0): ResBlock(\n",
       "      (convs): Sequential(\n",
       "        (0): ConvLayer(\n",
       "          (0): Conv2d(64, 64, kernel_size=(3, 3), stride=(1, 1), padding=(1, 1), bias=False)\n",
       "          (1): BatchNorm2d(64, eps=1e-05, momentum=0.1, affine=True, track_running_stats=True)\n",
       "          (2): ReLU()\n",
       "        )\n",
       "        (1): ConvLayer(\n",
       "          (0): Conv2d(64, 64, kernel_size=(3, 3), stride=(1, 1), padding=(1, 1), bias=False)\n",
       "          (1): BatchNorm2d(64, eps=1e-05, momentum=0.1, affine=True, track_running_stats=True)\n",
       "        )\n",
       "      )\n",
       "    )\n",
       "    (1): ResBlock(\n",
       "      (convs): Sequential(\n",
       "        (0): ConvLayer(\n",
       "          (0): Conv2d(64, 64, kernel_size=(3, 3), stride=(1, 1), padding=(1, 1), bias=False)\n",
       "          (1): BatchNorm2d(64, eps=1e-05, momentum=0.1, affine=True, track_running_stats=True)\n",
       "          (2): ReLU()\n",
       "        )\n",
       "        (1): ConvLayer(\n",
       "          (0): Conv2d(64, 64, kernel_size=(3, 3), stride=(1, 1), padding=(1, 1), bias=False)\n",
       "          (1): BatchNorm2d(64, eps=1e-05, momentum=0.1, affine=True, track_running_stats=True)\n",
       "        )\n",
       "      )\n",
       "    )\n",
       "  )\n",
       "  (5): Sequential(\n",
       "    (0): ResBlock(\n",
       "      (convs): Sequential(\n",
       "        (0): ConvLayer(\n",
       "          (0): Conv2d(64, 128, kernel_size=(3, 3), stride=(2, 2), padding=(1, 1), bias=False)\n",
       "          (1): BatchNorm2d(128, eps=1e-05, momentum=0.1, affine=True, track_running_stats=True)\n",
       "          (2): ReLU()\n",
       "        )\n",
       "        (1): ConvLayer(\n",
       "          (0): Conv2d(128, 128, kernel_size=(3, 3), stride=(1, 1), padding=(1, 1), bias=False)\n",
       "          (1): BatchNorm2d(128, eps=1e-05, momentum=0.1, affine=True, track_running_stats=True)\n",
       "        )\n",
       "      )\n",
       "      (idconv): ConvLayer(\n",
       "        (0): Conv2d(64, 128, kernel_size=(1, 1), stride=(1, 1), bias=False)\n",
       "        (1): BatchNorm2d(128, eps=1e-05, momentum=0.1, affine=True, track_running_stats=True)\n",
       "      )\n",
       "      (pool): AvgPool2d(kernel_size=2, stride=2, padding=0)\n",
       "    )\n",
       "    (1): ResBlock(\n",
       "      (convs): Sequential(\n",
       "        (0): ConvLayer(\n",
       "          (0): Conv2d(128, 128, kernel_size=(3, 3), stride=(1, 1), padding=(1, 1), bias=False)\n",
       "          (1): BatchNorm2d(128, eps=1e-05, momentum=0.1, affine=True, track_running_stats=True)\n",
       "          (2): ReLU()\n",
       "        )\n",
       "        (1): ConvLayer(\n",
       "          (0): Conv2d(128, 128, kernel_size=(3, 3), stride=(1, 1), padding=(1, 1), bias=False)\n",
       "          (1): BatchNorm2d(128, eps=1e-05, momentum=0.1, affine=True, track_running_stats=True)\n",
       "        )\n",
       "      )\n",
       "    )\n",
       "  )\n",
       "  (6): Sequential(\n",
       "    (0): ResBlock(\n",
       "      (convs): Sequential(\n",
       "        (0): ConvLayer(\n",
       "          (0): Conv2d(128, 256, kernel_size=(3, 3), stride=(2, 2), padding=(1, 1), bias=False)\n",
       "          (1): BatchNorm2d(256, eps=1e-05, momentum=0.1, affine=True, track_running_stats=True)\n",
       "          (2): ReLU()\n",
       "        )\n",
       "        (1): ConvLayer(\n",
       "          (0): Conv2d(256, 256, kernel_size=(3, 3), stride=(1, 1), padding=(1, 1), bias=False)\n",
       "          (1): BatchNorm2d(256, eps=1e-05, momentum=0.1, affine=True, track_running_stats=True)\n",
       "        )\n",
       "      )\n",
       "      (idconv): ConvLayer(\n",
       "        (0): Conv2d(128, 256, kernel_size=(1, 1), stride=(1, 1), bias=False)\n",
       "        (1): BatchNorm2d(256, eps=1e-05, momentum=0.1, affine=True, track_running_stats=True)\n",
       "      )\n",
       "      (pool): AvgPool2d(kernel_size=2, stride=2, padding=0)\n",
       "    )\n",
       "    (1): ResBlock(\n",
       "      (convs): Sequential(\n",
       "        (0): ConvLayer(\n",
       "          (0): Conv2d(256, 256, kernel_size=(3, 3), stride=(1, 1), padding=(1, 1), bias=False)\n",
       "          (1): BatchNorm2d(256, eps=1e-05, momentum=0.1, affine=True, track_running_stats=True)\n",
       "          (2): ReLU()\n",
       "        )\n",
       "        (1): ConvLayer(\n",
       "          (0): Conv2d(256, 256, kernel_size=(3, 3), stride=(1, 1), padding=(1, 1), bias=False)\n",
       "          (1): BatchNorm2d(256, eps=1e-05, momentum=0.1, affine=True, track_running_stats=True)\n",
       "        )\n",
       "      )\n",
       "    )\n",
       "  )\n",
       "  (7): Sequential(\n",
       "    (0): ResBlock(\n",
       "      (convs): Sequential(\n",
       "        (0): ConvLayer(\n",
       "          (0): Conv2d(256, 512, kernel_size=(3, 3), stride=(2, 2), padding=(1, 1), bias=False)\n",
       "          (1): BatchNorm2d(512, eps=1e-05, momentum=0.1, affine=True, track_running_stats=True)\n",
       "          (2): ReLU()\n",
       "        )\n",
       "        (1): ConvLayer(\n",
       "          (0): Conv2d(512, 512, kernel_size=(3, 3), stride=(1, 1), padding=(1, 1), bias=False)\n",
       "          (1): BatchNorm2d(512, eps=1e-05, momentum=0.1, affine=True, track_running_stats=True)\n",
       "        )\n",
       "      )\n",
       "      (idconv): ConvLayer(\n",
       "        (0): Conv2d(256, 512, kernel_size=(1, 1), stride=(1, 1), bias=False)\n",
       "        (1): BatchNorm2d(512, eps=1e-05, momentum=0.1, affine=True, track_running_stats=True)\n",
       "      )\n",
       "      (pool): AvgPool2d(kernel_size=2, stride=2, padding=0)\n",
       "    )\n",
       "    (1): ResBlock(\n",
       "      (convs): Sequential(\n",
       "        (0): ConvLayer(\n",
       "          (0): Conv2d(512, 512, kernel_size=(3, 3), stride=(1, 1), padding=(1, 1), bias=False)\n",
       "          (1): BatchNorm2d(512, eps=1e-05, momentum=0.1, affine=True, track_running_stats=True)\n",
       "          (2): ReLU()\n",
       "        )\n",
       "        (1): ConvLayer(\n",
       "          (0): Conv2d(512, 512, kernel_size=(3, 3), stride=(1, 1), padding=(1, 1), bias=False)\n",
       "          (1): BatchNorm2d(512, eps=1e-05, momentum=0.1, affine=True, track_running_stats=True)\n",
       "        )\n",
       "      )\n",
       "    )\n",
       "  )\n",
       "  (8): AdaptiveAvgPool2d(output_size=1)\n",
       "  (9): fastai.layers.Flatten(full=False)\n",
       "  (10): Linear(in_features=512, out_features=10, bias=True)\n",
       ")"
      ]
     },
     "execution_count": 216,
     "metadata": {},
     "output_type": "execute_result"
    }
   ],
   "source": [
    "rn"
   ]
  },
  {
   "cell_type": "markdown",
   "id": "cfc13906-d0ff-4bb2-9028-35dd9d9b1349",
   "metadata": {},
   "source": [
    "Let's start with the stem, it consists of one stride 2 layer and one maxpool, so we go from 28 -> 14 -> 7 grid size"
   ]
  },
  {
   "cell_type": "code",
   "execution_count": 217,
   "id": "30c21e37-3c31-40be-9ddf-b83cb7b657f2",
   "metadata": {},
   "outputs": [
    {
     "data": {
      "text/plain": [
       "torch.Size([64, 64, 7, 7])"
      ]
     },
     "execution_count": 217,
     "metadata": {},
     "output_type": "execute_result"
    }
   ],
   "source": [
    "nn.Sequential(*_resnet_stem(3, 32, 32, 64))(torch.randn(64,3,28,28)).shape"
   ]
  },
  {
   "cell_type": "code",
   "execution_count": 218,
   "id": "14afc2c8-7237-4d86-957a-aa87ec104197",
   "metadata": {},
   "outputs": [
    {
     "name": "stdout",
     "output_type": "stream",
     "text": [
      "ConvLayer(\n",
      "  (0): Conv2d(3, 32, kernel_size=(3, 3), stride=(2, 2), padding=(1, 1), bias=False)\n",
      "  (1): BatchNorm2d(32, eps=1e-05, momentum=0.1, affine=True, track_running_stats=True)\n",
      "  (2): ReLU()\n",
      ")\n",
      "torch.Size([64, 3, 128, 128])  -->  torch.Size([64, 32, 64, 64])\n",
      "-------------------------------------------------------\n",
      "ConvLayer(\n",
      "  (0): Conv2d(32, 32, kernel_size=(3, 3), stride=(1, 1), padding=(1, 1), bias=False)\n",
      "  (1): BatchNorm2d(32, eps=1e-05, momentum=0.1, affine=True, track_running_stats=True)\n",
      "  (2): ReLU()\n",
      ")\n",
      "torch.Size([64, 32, 64, 64])  -->  torch.Size([64, 32, 64, 64])\n",
      "-------------------------------------------------------\n",
      "ConvLayer(\n",
      "  (0): Conv2d(32, 64, kernel_size=(3, 3), stride=(1, 1), padding=(1, 1), bias=False)\n",
      "  (1): BatchNorm2d(64, eps=1e-05, momentum=0.1, affine=True, track_running_stats=True)\n",
      "  (2): ReLU()\n",
      ")\n",
      "torch.Size([64, 32, 64, 64])  -->  torch.Size([64, 64, 64, 64])\n",
      "-------------------------------------------------------\n",
      "MaxPool2d(kernel_size=3, stride=2, padding=1, dilation=1, ceil_mode=False)\n",
      "torch.Size([64, 64, 64, 64])  -->  torch.Size([64, 64, 32, 32])\n",
      "-------------------------------------------------------\n",
      "Sequential(\n",
      "  (0): ResBlock(\n",
      "    (convs): Sequential(\n",
      "      (0): ConvLayer(\n",
      "        (0): Conv2d(64, 64, kernel_size=(3, 3), stride=(1, 1), padding=(1, 1), bias=False)\n",
      "        (1): BatchNorm2d(64, eps=1e-05, momentum=0.1, affine=True, track_running_stats=True)\n",
      "        (2): ReLU()\n",
      "      )\n",
      "      (1): ConvLayer(\n",
      "        (0): Conv2d(64, 64, kernel_size=(3, 3), stride=(1, 1), padding=(1, 1), bias=False)\n",
      "        (1): BatchNorm2d(64, eps=1e-05, momentum=0.1, affine=True, track_running_stats=True)\n",
      "      )\n",
      "    )\n",
      "  )\n",
      "  (1): ResBlock(\n",
      "    (convs): Sequential(\n",
      "      (0): ConvLayer(\n",
      "        (0): Conv2d(64, 64, kernel_size=(3, 3), stride=(1, 1), padding=(1, 1), bias=False)\n",
      "        (1): BatchNorm2d(64, eps=1e-05, momentum=0.1, affine=True, track_running_stats=True)\n",
      "        (2): ReLU()\n",
      "      )\n",
      "      (1): ConvLayer(\n",
      "        (0): Conv2d(64, 64, kernel_size=(3, 3), stride=(1, 1), padding=(1, 1), bias=False)\n",
      "        (1): BatchNorm2d(64, eps=1e-05, momentum=0.1, affine=True, track_running_stats=True)\n",
      "      )\n",
      "    )\n",
      "  )\n",
      ")\n",
      "torch.Size([64, 64, 32, 32])  -->  torch.Size([64, 64, 32, 32])\n",
      "-------------------------------------------------------\n",
      "Sequential(\n",
      "  (0): ResBlock(\n",
      "    (convs): Sequential(\n",
      "      (0): ConvLayer(\n",
      "        (0): Conv2d(64, 128, kernel_size=(3, 3), stride=(2, 2), padding=(1, 1), bias=False)\n",
      "        (1): BatchNorm2d(128, eps=1e-05, momentum=0.1, affine=True, track_running_stats=True)\n",
      "        (2): ReLU()\n",
      "      )\n",
      "      (1): ConvLayer(\n",
      "        (0): Conv2d(128, 128, kernel_size=(3, 3), stride=(1, 1), padding=(1, 1), bias=False)\n",
      "        (1): BatchNorm2d(128, eps=1e-05, momentum=0.1, affine=True, track_running_stats=True)\n",
      "      )\n",
      "    )\n",
      "    (idconv): ConvLayer(\n",
      "      (0): Conv2d(64, 128, kernel_size=(1, 1), stride=(1, 1), bias=False)\n",
      "      (1): BatchNorm2d(128, eps=1e-05, momentum=0.1, affine=True, track_running_stats=True)\n",
      "    )\n",
      "    (pool): AvgPool2d(kernel_size=2, stride=2, padding=0)\n",
      "  )\n",
      "  (1): ResBlock(\n",
      "    (convs): Sequential(\n",
      "      (0): ConvLayer(\n",
      "        (0): Conv2d(128, 128, kernel_size=(3, 3), stride=(1, 1), padding=(1, 1), bias=False)\n",
      "        (1): BatchNorm2d(128, eps=1e-05, momentum=0.1, affine=True, track_running_stats=True)\n",
      "        (2): ReLU()\n",
      "      )\n",
      "      (1): ConvLayer(\n",
      "        (0): Conv2d(128, 128, kernel_size=(3, 3), stride=(1, 1), padding=(1, 1), bias=False)\n",
      "        (1): BatchNorm2d(128, eps=1e-05, momentum=0.1, affine=True, track_running_stats=True)\n",
      "      )\n",
      "    )\n",
      "  )\n",
      ")\n",
      "torch.Size([64, 64, 32, 32])  -->  torch.Size([64, 128, 16, 16])\n",
      "-------------------------------------------------------\n",
      "Sequential(\n",
      "  (0): ResBlock(\n",
      "    (convs): Sequential(\n",
      "      (0): ConvLayer(\n",
      "        (0): Conv2d(128, 256, kernel_size=(3, 3), stride=(2, 2), padding=(1, 1), bias=False)\n",
      "        (1): BatchNorm2d(256, eps=1e-05, momentum=0.1, affine=True, track_running_stats=True)\n",
      "        (2): ReLU()\n",
      "      )\n",
      "      (1): ConvLayer(\n",
      "        (0): Conv2d(256, 256, kernel_size=(3, 3), stride=(1, 1), padding=(1, 1), bias=False)\n",
      "        (1): BatchNorm2d(256, eps=1e-05, momentum=0.1, affine=True, track_running_stats=True)\n",
      "      )\n",
      "    )\n",
      "    (idconv): ConvLayer(\n",
      "      (0): Conv2d(128, 256, kernel_size=(1, 1), stride=(1, 1), bias=False)\n",
      "      (1): BatchNorm2d(256, eps=1e-05, momentum=0.1, affine=True, track_running_stats=True)\n",
      "    )\n",
      "    (pool): AvgPool2d(kernel_size=2, stride=2, padding=0)\n",
      "  )\n",
      "  (1): ResBlock(\n",
      "    (convs): Sequential(\n",
      "      (0): ConvLayer(\n",
      "        (0): Conv2d(256, 256, kernel_size=(3, 3), stride=(1, 1), padding=(1, 1), bias=False)\n",
      "        (1): BatchNorm2d(256, eps=1e-05, momentum=0.1, affine=True, track_running_stats=True)\n",
      "        (2): ReLU()\n",
      "      )\n",
      "      (1): ConvLayer(\n",
      "        (0): Conv2d(256, 256, kernel_size=(3, 3), stride=(1, 1), padding=(1, 1), bias=False)\n",
      "        (1): BatchNorm2d(256, eps=1e-05, momentum=0.1, affine=True, track_running_stats=True)\n",
      "      )\n",
      "    )\n",
      "  )\n",
      ")\n",
      "torch.Size([64, 128, 16, 16])  -->  torch.Size([64, 256, 8, 8])\n",
      "-------------------------------------------------------\n",
      "Sequential(\n",
      "  (0): ResBlock(\n",
      "    (convs): Sequential(\n",
      "      (0): ConvLayer(\n",
      "        (0): Conv2d(256, 512, kernel_size=(3, 3), stride=(2, 2), padding=(1, 1), bias=False)\n",
      "        (1): BatchNorm2d(512, eps=1e-05, momentum=0.1, affine=True, track_running_stats=True)\n",
      "        (2): ReLU()\n",
      "      )\n",
      "      (1): ConvLayer(\n",
      "        (0): Conv2d(512, 512, kernel_size=(3, 3), stride=(1, 1), padding=(1, 1), bias=False)\n",
      "        (1): BatchNorm2d(512, eps=1e-05, momentum=0.1, affine=True, track_running_stats=True)\n",
      "      )\n",
      "    )\n",
      "    (idconv): ConvLayer(\n",
      "      (0): Conv2d(256, 512, kernel_size=(1, 1), stride=(1, 1), bias=False)\n",
      "      (1): BatchNorm2d(512, eps=1e-05, momentum=0.1, affine=True, track_running_stats=True)\n",
      "    )\n",
      "    (pool): AvgPool2d(kernel_size=2, stride=2, padding=0)\n",
      "  )\n",
      "  (1): ResBlock(\n",
      "    (convs): Sequential(\n",
      "      (0): ConvLayer(\n",
      "        (0): Conv2d(512, 512, kernel_size=(3, 3), stride=(1, 1), padding=(1, 1), bias=False)\n",
      "        (1): BatchNorm2d(512, eps=1e-05, momentum=0.1, affine=True, track_running_stats=True)\n",
      "        (2): ReLU()\n",
      "      )\n",
      "      (1): ConvLayer(\n",
      "        (0): Conv2d(512, 512, kernel_size=(3, 3), stride=(1, 1), padding=(1, 1), bias=False)\n",
      "        (1): BatchNorm2d(512, eps=1e-05, momentum=0.1, affine=True, track_running_stats=True)\n",
      "      )\n",
      "    )\n",
      "  )\n",
      ")\n",
      "torch.Size([64, 256, 8, 8])  -->  torch.Size([64, 512, 4, 4])\n",
      "-------------------------------------------------------\n",
      "AdaptiveAvgPool2d(output_size=1)\n",
      "torch.Size([64, 512, 4, 4])  -->  torch.Size([64, 512, 1, 1])\n",
      "-------------------------------------------------------\n",
      "fastai.layers.Flatten(full=False)\n",
      "torch.Size([64, 512, 1, 1])  -->  torch.Size([64, 512])\n",
      "-------------------------------------------------------\n",
      "Linear(in_features=512, out_features=10, bias=True)\n",
      "torch.Size([64, 512])  -->  torch.Size([64, 10])\n",
      "-------------------------------------------------------\n"
     ]
    }
   ],
   "source": [
    "inp = torch.randn(64,3,128,128)\n",
    "\n",
    "for i in rn:\n",
    "    print(i)\n",
    "    out = i(inp)\n",
    "    print(inp.shape, ' --> ', out.shape)\n",
    "    inp = out\n",
    "    print('-------------------------------------------------------')"
   ]
  },
  {
   "cell_type": "code",
   "execution_count": null,
   "id": "fb14a7d2-ef91-46b8-98eb-461127d94c54",
   "metadata": {},
   "outputs": [],
   "source": []
  },
  {
   "cell_type": "code",
   "execution_count": null,
   "id": "5964cfa3-d5a7-4c8d-a971-91a4b167b0a3",
   "metadata": {},
   "outputs": [],
   "source": []
  },
  {
   "cell_type": "code",
   "execution_count": 231,
   "id": "3421ab73-c13b-453e-92bc-58320ccd3b8f",
   "metadata": {},
   "outputs": [],
   "source": [
    "def conv_block(ni, nf, stride):\n",
    "    return nn.Sequential(\n",
    "        ConvLayer(ni, nf//4, 1),\n",
    "        ConvLayer(nf//4, nf//4, stride=stride),\n",
    "        ConvLayer(nf//4, nf, 1, act_cls=None)\n",
    "    )"
   ]
  },
  {
   "cell_type": "code",
   "execution_count": 232,
   "id": "4d733bdf-b608-4fac-9720-a66534a9db4d",
   "metadata": {},
   "outputs": [],
   "source": [
    "rn1 = ResNet(10, [3, 4, 6, 3], 4)"
   ]
  },
  {
   "cell_type": "code",
   "execution_count": 234,
   "id": "dcc1fd34-05eb-4940-8758-ae784a24655a",
   "metadata": {},
   "outputs": [
    {
     "name": "stdout",
     "output_type": "stream",
     "text": [
      "ConvLayer(\n",
      "  (0): Conv2d(3, 32, kernel_size=(3, 3), stride=(2, 2), padding=(1, 1), bias=False)\n",
      "  (1): BatchNorm2d(32, eps=1e-05, momentum=0.1, affine=True, track_running_stats=True)\n",
      "  (2): ReLU()\n",
      ")\n",
      "torch.Size([64, 3, 128, 128])  -->  torch.Size([64, 32, 64, 64])\n",
      "-------------------------------------------------------\n",
      "ConvLayer(\n",
      "  (0): Conv2d(32, 32, kernel_size=(3, 3), stride=(1, 1), padding=(1, 1), bias=False)\n",
      "  (1): BatchNorm2d(32, eps=1e-05, momentum=0.1, affine=True, track_running_stats=True)\n",
      "  (2): ReLU()\n",
      ")\n",
      "torch.Size([64, 32, 64, 64])  -->  torch.Size([64, 32, 64, 64])\n",
      "-------------------------------------------------------\n",
      "ConvLayer(\n",
      "  (0): Conv2d(32, 64, kernel_size=(3, 3), stride=(1, 1), padding=(1, 1), bias=False)\n",
      "  (1): BatchNorm2d(64, eps=1e-05, momentum=0.1, affine=True, track_running_stats=True)\n",
      "  (2): ReLU()\n",
      ")\n",
      "torch.Size([64, 32, 64, 64])  -->  torch.Size([64, 64, 64, 64])\n",
      "-------------------------------------------------------\n",
      "MaxPool2d(kernel_size=3, stride=2, padding=1, dilation=1, ceil_mode=False)\n",
      "torch.Size([64, 64, 64, 64])  -->  torch.Size([64, 64, 32, 32])\n",
      "-------------------------------------------------------\n",
      "Sequential(\n",
      "  (0): ResBlock(\n",
      "    (convs): Sequential(\n",
      "      (0): ConvLayer(\n",
      "        (0): Conv2d(64, 64, kernel_size=(1, 1), stride=(1, 1), bias=False)\n",
      "        (1): BatchNorm2d(64, eps=1e-05, momentum=0.1, affine=True, track_running_stats=True)\n",
      "        (2): ReLU()\n",
      "      )\n",
      "      (1): ConvLayer(\n",
      "        (0): Conv2d(64, 64, kernel_size=(3, 3), stride=(1, 1), padding=(1, 1), bias=False)\n",
      "        (1): BatchNorm2d(64, eps=1e-05, momentum=0.1, affine=True, track_running_stats=True)\n",
      "        (2): ReLU()\n",
      "      )\n",
      "      (2): ConvLayer(\n",
      "        (0): Conv2d(64, 256, kernel_size=(1, 1), stride=(1, 1), bias=False)\n",
      "        (1): BatchNorm2d(256, eps=1e-05, momentum=0.1, affine=True, track_running_stats=True)\n",
      "      )\n",
      "    )\n",
      "    (idconv): ConvLayer(\n",
      "      (0): Conv2d(64, 256, kernel_size=(1, 1), stride=(1, 1), bias=False)\n",
      "      (1): BatchNorm2d(256, eps=1e-05, momentum=0.1, affine=True, track_running_stats=True)\n",
      "    )\n",
      "  )\n",
      "  (1): ResBlock(\n",
      "    (convs): Sequential(\n",
      "      (0): ConvLayer(\n",
      "        (0): Conv2d(256, 64, kernel_size=(1, 1), stride=(1, 1), bias=False)\n",
      "        (1): BatchNorm2d(64, eps=1e-05, momentum=0.1, affine=True, track_running_stats=True)\n",
      "        (2): ReLU()\n",
      "      )\n",
      "      (1): ConvLayer(\n",
      "        (0): Conv2d(64, 64, kernel_size=(3, 3), stride=(1, 1), padding=(1, 1), bias=False)\n",
      "        (1): BatchNorm2d(64, eps=1e-05, momentum=0.1, affine=True, track_running_stats=True)\n",
      "        (2): ReLU()\n",
      "      )\n",
      "      (2): ConvLayer(\n",
      "        (0): Conv2d(64, 256, kernel_size=(1, 1), stride=(1, 1), bias=False)\n",
      "        (1): BatchNorm2d(256, eps=1e-05, momentum=0.1, affine=True, track_running_stats=True)\n",
      "      )\n",
      "    )\n",
      "  )\n",
      "  (2): ResBlock(\n",
      "    (convs): Sequential(\n",
      "      (0): ConvLayer(\n",
      "        (0): Conv2d(256, 64, kernel_size=(1, 1), stride=(1, 1), bias=False)\n",
      "        (1): BatchNorm2d(64, eps=1e-05, momentum=0.1, affine=True, track_running_stats=True)\n",
      "        (2): ReLU()\n",
      "      )\n",
      "      (1): ConvLayer(\n",
      "        (0): Conv2d(64, 64, kernel_size=(3, 3), stride=(1, 1), padding=(1, 1), bias=False)\n",
      "        (1): BatchNorm2d(64, eps=1e-05, momentum=0.1, affine=True, track_running_stats=True)\n",
      "        (2): ReLU()\n",
      "      )\n",
      "      (2): ConvLayer(\n",
      "        (0): Conv2d(64, 256, kernel_size=(1, 1), stride=(1, 1), bias=False)\n",
      "        (1): BatchNorm2d(256, eps=1e-05, momentum=0.1, affine=True, track_running_stats=True)\n",
      "      )\n",
      "    )\n",
      "  )\n",
      ")\n",
      "torch.Size([64, 64, 32, 32])  -->  torch.Size([64, 256, 32, 32])\n",
      "-------------------------------------------------------\n",
      "Sequential(\n",
      "  (0): ResBlock(\n",
      "    (convs): Sequential(\n",
      "      (0): ConvLayer(\n",
      "        (0): Conv2d(256, 128, kernel_size=(1, 1), stride=(1, 1), bias=False)\n",
      "        (1): BatchNorm2d(128, eps=1e-05, momentum=0.1, affine=True, track_running_stats=True)\n",
      "        (2): ReLU()\n",
      "      )\n",
      "      (1): ConvLayer(\n",
      "        (0): Conv2d(128, 128, kernel_size=(3, 3), stride=(2, 2), padding=(1, 1), bias=False)\n",
      "        (1): BatchNorm2d(128, eps=1e-05, momentum=0.1, affine=True, track_running_stats=True)\n",
      "        (2): ReLU()\n",
      "      )\n",
      "      (2): ConvLayer(\n",
      "        (0): Conv2d(128, 512, kernel_size=(1, 1), stride=(1, 1), bias=False)\n",
      "        (1): BatchNorm2d(512, eps=1e-05, momentum=0.1, affine=True, track_running_stats=True)\n",
      "      )\n",
      "    )\n",
      "    (idconv): ConvLayer(\n",
      "      (0): Conv2d(256, 512, kernel_size=(1, 1), stride=(1, 1), bias=False)\n",
      "      (1): BatchNorm2d(512, eps=1e-05, momentum=0.1, affine=True, track_running_stats=True)\n",
      "    )\n",
      "    (pool): AvgPool2d(kernel_size=2, stride=2, padding=0)\n",
      "  )\n",
      "  (1): ResBlock(\n",
      "    (convs): Sequential(\n",
      "      (0): ConvLayer(\n",
      "        (0): Conv2d(512, 128, kernel_size=(1, 1), stride=(1, 1), bias=False)\n",
      "        (1): BatchNorm2d(128, eps=1e-05, momentum=0.1, affine=True, track_running_stats=True)\n",
      "        (2): ReLU()\n",
      "      )\n",
      "      (1): ConvLayer(\n",
      "        (0): Conv2d(128, 128, kernel_size=(3, 3), stride=(1, 1), padding=(1, 1), bias=False)\n",
      "        (1): BatchNorm2d(128, eps=1e-05, momentum=0.1, affine=True, track_running_stats=True)\n",
      "        (2): ReLU()\n",
      "      )\n",
      "      (2): ConvLayer(\n",
      "        (0): Conv2d(128, 512, kernel_size=(1, 1), stride=(1, 1), bias=False)\n",
      "        (1): BatchNorm2d(512, eps=1e-05, momentum=0.1, affine=True, track_running_stats=True)\n",
      "      )\n",
      "    )\n",
      "  )\n",
      "  (2): ResBlock(\n",
      "    (convs): Sequential(\n",
      "      (0): ConvLayer(\n",
      "        (0): Conv2d(512, 128, kernel_size=(1, 1), stride=(1, 1), bias=False)\n",
      "        (1): BatchNorm2d(128, eps=1e-05, momentum=0.1, affine=True, track_running_stats=True)\n",
      "        (2): ReLU()\n",
      "      )\n",
      "      (1): ConvLayer(\n",
      "        (0): Conv2d(128, 128, kernel_size=(3, 3), stride=(1, 1), padding=(1, 1), bias=False)\n",
      "        (1): BatchNorm2d(128, eps=1e-05, momentum=0.1, affine=True, track_running_stats=True)\n",
      "        (2): ReLU()\n",
      "      )\n",
      "      (2): ConvLayer(\n",
      "        (0): Conv2d(128, 512, kernel_size=(1, 1), stride=(1, 1), bias=False)\n",
      "        (1): BatchNorm2d(512, eps=1e-05, momentum=0.1, affine=True, track_running_stats=True)\n",
      "      )\n",
      "    )\n",
      "  )\n",
      "  (3): ResBlock(\n",
      "    (convs): Sequential(\n",
      "      (0): ConvLayer(\n",
      "        (0): Conv2d(512, 128, kernel_size=(1, 1), stride=(1, 1), bias=False)\n",
      "        (1): BatchNorm2d(128, eps=1e-05, momentum=0.1, affine=True, track_running_stats=True)\n",
      "        (2): ReLU()\n",
      "      )\n",
      "      (1): ConvLayer(\n",
      "        (0): Conv2d(128, 128, kernel_size=(3, 3), stride=(1, 1), padding=(1, 1), bias=False)\n",
      "        (1): BatchNorm2d(128, eps=1e-05, momentum=0.1, affine=True, track_running_stats=True)\n",
      "        (2): ReLU()\n",
      "      )\n",
      "      (2): ConvLayer(\n",
      "        (0): Conv2d(128, 512, kernel_size=(1, 1), stride=(1, 1), bias=False)\n",
      "        (1): BatchNorm2d(512, eps=1e-05, momentum=0.1, affine=True, track_running_stats=True)\n",
      "      )\n",
      "    )\n",
      "  )\n",
      ")\n",
      "torch.Size([64, 256, 32, 32])  -->  torch.Size([64, 512, 16, 16])\n",
      "-------------------------------------------------------\n",
      "Sequential(\n",
      "  (0): ResBlock(\n",
      "    (convs): Sequential(\n",
      "      (0): ConvLayer(\n",
      "        (0): Conv2d(512, 256, kernel_size=(1, 1), stride=(1, 1), bias=False)\n",
      "        (1): BatchNorm2d(256, eps=1e-05, momentum=0.1, affine=True, track_running_stats=True)\n",
      "        (2): ReLU()\n",
      "      )\n",
      "      (1): ConvLayer(\n",
      "        (0): Conv2d(256, 256, kernel_size=(3, 3), stride=(2, 2), padding=(1, 1), bias=False)\n",
      "        (1): BatchNorm2d(256, eps=1e-05, momentum=0.1, affine=True, track_running_stats=True)\n",
      "        (2): ReLU()\n",
      "      )\n",
      "      (2): ConvLayer(\n",
      "        (0): Conv2d(256, 1024, kernel_size=(1, 1), stride=(1, 1), bias=False)\n",
      "        (1): BatchNorm2d(1024, eps=1e-05, momentum=0.1, affine=True, track_running_stats=True)\n",
      "      )\n",
      "    )\n",
      "    (idconv): ConvLayer(\n",
      "      (0): Conv2d(512, 1024, kernel_size=(1, 1), stride=(1, 1), bias=False)\n",
      "      (1): BatchNorm2d(1024, eps=1e-05, momentum=0.1, affine=True, track_running_stats=True)\n",
      "    )\n",
      "    (pool): AvgPool2d(kernel_size=2, stride=2, padding=0)\n",
      "  )\n",
      "  (1): ResBlock(\n",
      "    (convs): Sequential(\n",
      "      (0): ConvLayer(\n",
      "        (0): Conv2d(1024, 256, kernel_size=(1, 1), stride=(1, 1), bias=False)\n",
      "        (1): BatchNorm2d(256, eps=1e-05, momentum=0.1, affine=True, track_running_stats=True)\n",
      "        (2): ReLU()\n",
      "      )\n",
      "      (1): ConvLayer(\n",
      "        (0): Conv2d(256, 256, kernel_size=(3, 3), stride=(1, 1), padding=(1, 1), bias=False)\n",
      "        (1): BatchNorm2d(256, eps=1e-05, momentum=0.1, affine=True, track_running_stats=True)\n",
      "        (2): ReLU()\n",
      "      )\n",
      "      (2): ConvLayer(\n",
      "        (0): Conv2d(256, 1024, kernel_size=(1, 1), stride=(1, 1), bias=False)\n",
      "        (1): BatchNorm2d(1024, eps=1e-05, momentum=0.1, affine=True, track_running_stats=True)\n",
      "      )\n",
      "    )\n",
      "  )\n",
      "  (2): ResBlock(\n",
      "    (convs): Sequential(\n",
      "      (0): ConvLayer(\n",
      "        (0): Conv2d(1024, 256, kernel_size=(1, 1), stride=(1, 1), bias=False)\n",
      "        (1): BatchNorm2d(256, eps=1e-05, momentum=0.1, affine=True, track_running_stats=True)\n",
      "        (2): ReLU()\n",
      "      )\n",
      "      (1): ConvLayer(\n",
      "        (0): Conv2d(256, 256, kernel_size=(3, 3), stride=(1, 1), padding=(1, 1), bias=False)\n",
      "        (1): BatchNorm2d(256, eps=1e-05, momentum=0.1, affine=True, track_running_stats=True)\n",
      "        (2): ReLU()\n",
      "      )\n",
      "      (2): ConvLayer(\n",
      "        (0): Conv2d(256, 1024, kernel_size=(1, 1), stride=(1, 1), bias=False)\n",
      "        (1): BatchNorm2d(1024, eps=1e-05, momentum=0.1, affine=True, track_running_stats=True)\n",
      "      )\n",
      "    )\n",
      "  )\n",
      "  (3): ResBlock(\n",
      "    (convs): Sequential(\n",
      "      (0): ConvLayer(\n",
      "        (0): Conv2d(1024, 256, kernel_size=(1, 1), stride=(1, 1), bias=False)\n",
      "        (1): BatchNorm2d(256, eps=1e-05, momentum=0.1, affine=True, track_running_stats=True)\n",
      "        (2): ReLU()\n",
      "      )\n",
      "      (1): ConvLayer(\n",
      "        (0): Conv2d(256, 256, kernel_size=(3, 3), stride=(1, 1), padding=(1, 1), bias=False)\n",
      "        (1): BatchNorm2d(256, eps=1e-05, momentum=0.1, affine=True, track_running_stats=True)\n",
      "        (2): ReLU()\n",
      "      )\n",
      "      (2): ConvLayer(\n",
      "        (0): Conv2d(256, 1024, kernel_size=(1, 1), stride=(1, 1), bias=False)\n",
      "        (1): BatchNorm2d(1024, eps=1e-05, momentum=0.1, affine=True, track_running_stats=True)\n",
      "      )\n",
      "    )\n",
      "  )\n",
      "  (4): ResBlock(\n",
      "    (convs): Sequential(\n",
      "      (0): ConvLayer(\n",
      "        (0): Conv2d(1024, 256, kernel_size=(1, 1), stride=(1, 1), bias=False)\n",
      "        (1): BatchNorm2d(256, eps=1e-05, momentum=0.1, affine=True, track_running_stats=True)\n",
      "        (2): ReLU()\n",
      "      )\n",
      "      (1): ConvLayer(\n",
      "        (0): Conv2d(256, 256, kernel_size=(3, 3), stride=(1, 1), padding=(1, 1), bias=False)\n",
      "        (1): BatchNorm2d(256, eps=1e-05, momentum=0.1, affine=True, track_running_stats=True)\n",
      "        (2): ReLU()\n",
      "      )\n",
      "      (2): ConvLayer(\n",
      "        (0): Conv2d(256, 1024, kernel_size=(1, 1), stride=(1, 1), bias=False)\n",
      "        (1): BatchNorm2d(1024, eps=1e-05, momentum=0.1, affine=True, track_running_stats=True)\n",
      "      )\n",
      "    )\n",
      "  )\n",
      "  (5): ResBlock(\n",
      "    (convs): Sequential(\n",
      "      (0): ConvLayer(\n",
      "        (0): Conv2d(1024, 256, kernel_size=(1, 1), stride=(1, 1), bias=False)\n",
      "        (1): BatchNorm2d(256, eps=1e-05, momentum=0.1, affine=True, track_running_stats=True)\n",
      "        (2): ReLU()\n",
      "      )\n",
      "      (1): ConvLayer(\n",
      "        (0): Conv2d(256, 256, kernel_size=(3, 3), stride=(1, 1), padding=(1, 1), bias=False)\n",
      "        (1): BatchNorm2d(256, eps=1e-05, momentum=0.1, affine=True, track_running_stats=True)\n",
      "        (2): ReLU()\n",
      "      )\n",
      "      (2): ConvLayer(\n",
      "        (0): Conv2d(256, 1024, kernel_size=(1, 1), stride=(1, 1), bias=False)\n",
      "        (1): BatchNorm2d(1024, eps=1e-05, momentum=0.1, affine=True, track_running_stats=True)\n",
      "      )\n",
      "    )\n",
      "  )\n",
      ")\n",
      "torch.Size([64, 512, 16, 16])  -->  torch.Size([64, 1024, 8, 8])\n",
      "-------------------------------------------------------\n",
      "Sequential(\n",
      "  (0): ResBlock(\n",
      "    (convs): Sequential(\n",
      "      (0): ConvLayer(\n",
      "        (0): Conv2d(1024, 512, kernel_size=(1, 1), stride=(1, 1), bias=False)\n",
      "        (1): BatchNorm2d(512, eps=1e-05, momentum=0.1, affine=True, track_running_stats=True)\n",
      "        (2): ReLU()\n",
      "      )\n",
      "      (1): ConvLayer(\n",
      "        (0): Conv2d(512, 512, kernel_size=(3, 3), stride=(2, 2), padding=(1, 1), bias=False)\n",
      "        (1): BatchNorm2d(512, eps=1e-05, momentum=0.1, affine=True, track_running_stats=True)\n",
      "        (2): ReLU()\n",
      "      )\n",
      "      (2): ConvLayer(\n",
      "        (0): Conv2d(512, 2048, kernel_size=(1, 1), stride=(1, 1), bias=False)\n",
      "        (1): BatchNorm2d(2048, eps=1e-05, momentum=0.1, affine=True, track_running_stats=True)\n",
      "      )\n",
      "    )\n",
      "    (idconv): ConvLayer(\n",
      "      (0): Conv2d(1024, 2048, kernel_size=(1, 1), stride=(1, 1), bias=False)\n",
      "      (1): BatchNorm2d(2048, eps=1e-05, momentum=0.1, affine=True, track_running_stats=True)\n",
      "    )\n",
      "    (pool): AvgPool2d(kernel_size=2, stride=2, padding=0)\n",
      "  )\n",
      "  (1): ResBlock(\n",
      "    (convs): Sequential(\n",
      "      (0): ConvLayer(\n",
      "        (0): Conv2d(2048, 512, kernel_size=(1, 1), stride=(1, 1), bias=False)\n",
      "        (1): BatchNorm2d(512, eps=1e-05, momentum=0.1, affine=True, track_running_stats=True)\n",
      "        (2): ReLU()\n",
      "      )\n",
      "      (1): ConvLayer(\n",
      "        (0): Conv2d(512, 512, kernel_size=(3, 3), stride=(1, 1), padding=(1, 1), bias=False)\n",
      "        (1): BatchNorm2d(512, eps=1e-05, momentum=0.1, affine=True, track_running_stats=True)\n",
      "        (2): ReLU()\n",
      "      )\n",
      "      (2): ConvLayer(\n",
      "        (0): Conv2d(512, 2048, kernel_size=(1, 1), stride=(1, 1), bias=False)\n",
      "        (1): BatchNorm2d(2048, eps=1e-05, momentum=0.1, affine=True, track_running_stats=True)\n",
      "      )\n",
      "    )\n",
      "  )\n",
      "  (2): ResBlock(\n",
      "    (convs): Sequential(\n",
      "      (0): ConvLayer(\n",
      "        (0): Conv2d(2048, 512, kernel_size=(1, 1), stride=(1, 1), bias=False)\n",
      "        (1): BatchNorm2d(512, eps=1e-05, momentum=0.1, affine=True, track_running_stats=True)\n",
      "        (2): ReLU()\n",
      "      )\n",
      "      (1): ConvLayer(\n",
      "        (0): Conv2d(512, 512, kernel_size=(3, 3), stride=(1, 1), padding=(1, 1), bias=False)\n",
      "        (1): BatchNorm2d(512, eps=1e-05, momentum=0.1, affine=True, track_running_stats=True)\n",
      "        (2): ReLU()\n",
      "      )\n",
      "      (2): ConvLayer(\n",
      "        (0): Conv2d(512, 2048, kernel_size=(1, 1), stride=(1, 1), bias=False)\n",
      "        (1): BatchNorm2d(2048, eps=1e-05, momentum=0.1, affine=True, track_running_stats=True)\n",
      "      )\n",
      "    )\n",
      "  )\n",
      ")\n",
      "torch.Size([64, 1024, 8, 8])  -->  torch.Size([64, 2048, 4, 4])\n",
      "-------------------------------------------------------\n",
      "AdaptiveAvgPool2d(output_size=1)\n",
      "torch.Size([64, 2048, 4, 4])  -->  torch.Size([64, 2048, 1, 1])\n",
      "-------------------------------------------------------\n",
      "fastai.layers.Flatten(full=False)\n",
      "torch.Size([64, 2048, 1, 1])  -->  torch.Size([64, 2048])\n",
      "-------------------------------------------------------\n",
      "Linear(in_features=2048, out_features=10, bias=True)\n",
      "torch.Size([64, 2048])  -->  torch.Size([64, 10])\n",
      "-------------------------------------------------------\n"
     ]
    }
   ],
   "source": [
    "inp = torch.randn(64,3,128,128)\n",
    "\n",
    "for i in rn1:\n",
    "    print(i)\n",
    "    out = i(inp)\n",
    "    print(inp.shape, ' --> ', out.shape)\n",
    "    inp = out\n",
    "    print('-------------------------------------------------------')"
   ]
  },
  {
   "cell_type": "code",
   "execution_count": 245,
   "id": "b6aa8272-fa49-4e84-88fc-778cdefa8448",
   "metadata": {},
   "outputs": [
    {
     "name": "stdout",
     "output_type": "stream",
     "text": [
      "tensor([[1., 0., 0.],\n",
      "        [0., 1., 0.],\n",
      "        [0., 0., 1.],\n",
      "        [1., 0., 0.]])\n"
     ]
    }
   ],
   "source": [
    "def repeated_identity_matrix(n_rows, n_cols):\n",
    "    identity_matrix = torch.eye(n_cols)\n",
    "    repeated_matrix = identity\n",
    "    _matrix.repeat((n_rows // n_cols) + 1, 1)\n",
    "    return repeated_matrix[:n_rows, :]\n",
    "\n",
    "n_rows = 4\n",
    "n_cols = 3\n",
    "repeated_identity = repeated_identity_matrix(n_rows, n_cols)\n",
    "\n",
    "print(repeated_identity)"
   ]
  },
  {
   "cell_type": "markdown",
   "id": "8e4b91c7-6c10-4072-8982-2b79574bbfbb",
   "metadata": {},
   "source": [
    "### Resnets repeated"
   ]
  },
  {
   "cell_type": "markdown",
   "id": "dc39c6e1-8d9f-4097-83de-e4e9249ad225",
   "metadata": {},
   "source": [
    "It all starts with a simple ConvLayer:"
   ]
  },
  {
   "cell_type": "code",
   "execution_count": 246,
   "id": "88acb439-8b7a-47ae-88ce-220712bccc1e",
   "metadata": {},
   "outputs": [
    {
     "data": {
      "text/plain": [
       "ConvLayer(\n",
       "  (0): Conv2d(1, 3, kernel_size=(3, 3), stride=(1, 1), padding=(1, 1), bias=False)\n",
       "  (1): BatchNorm2d(3, eps=1e-05, momentum=0.1, affine=True, track_running_stats=True)\n",
       "  (2): ReLU()\n",
       ")"
      ]
     },
     "execution_count": 246,
     "metadata": {},
     "output_type": "execute_result"
    }
   ],
   "source": [
    "ConvLayer(1, 3)"
   ]
  },
  {
   "cell_type": "markdown",
   "id": "f29d92dd-6b42-4b12-b1d5-da4a83850d1b",
   "metadata": {},
   "source": [
    "Then we create a ResBlock:"
   ]
  },
  {
   "cell_type": "code",
   "execution_count": 357,
   "id": "3d9fcc49-573e-4cc6-9466-730b9839f03e",
   "metadata": {},
   "outputs": [],
   "source": [
    "class ConvBlock(nn.Sequential):\n",
    "    def __init__(self, n_in, n_out, stride):\n",
    "        convs = [\n",
    "            ConvLayer(n_in, n_out, stride=stride),\n",
    "            ConvLayer(n_out, n_out, act_cls=None, norm_type=NormType.BatchZero)]\n",
    "        super().__init__(*convs)\n",
    "\n",
    "        \n",
    "class ResBlock(nn.Module):\n",
    "    def __init__(self, n_in, n_out, stride):\n",
    "        super().__init__()\n",
    "        self.conv_block = ConvBlock(n_in, n_out, stride)\n",
    "        self.id_conv = noop if n_in == n_out else ConvLayer(n_in, n_out, 1, act_cls=None)\n",
    "        self.pool = noop if stride == 1 else nn.AvgPool2d(2, ceil_mode=True)\n",
    "        \n",
    "    def forward(self, x):\n",
    "        return F.relu(self.conv_block(x) + self.id_conv(self.pool(x)))\n"
   ]
  },
  {
   "cell_type": "code",
   "execution_count": 276,
   "id": "abdeab08-aac9-45f2-a7aa-ce920d390312",
   "metadata": {},
   "outputs": [
    {
     "data": {
      "text/plain": [
       "ConvBlock(\n",
       "  (0): ConvLayer(\n",
       "    (0): Conv2d(1, 3, kernel_size=(3, 3), stride=(1, 1), padding=(1, 1), bias=False)\n",
       "    (1): BatchNorm2d(3, eps=1e-05, momentum=0.1, affine=True, track_running_stats=True)\n",
       "    (2): ReLU()\n",
       "  )\n",
       "  (1): ConvLayer(\n",
       "    (0): Conv2d(3, 3, kernel_size=(3, 3), stride=(1, 1), padding=(1, 1), bias=False)\n",
       "    (1): BatchNorm2d(3, eps=1e-05, momentum=0.1, affine=True, track_running_stats=True)\n",
       "  )\n",
       ")"
      ]
     },
     "execution_count": 276,
     "metadata": {},
     "output_type": "execute_result"
    }
   ],
   "source": [
    "cv = ConvBlock(1, 3, 1)\n",
    "cv"
   ]
  },
  {
   "cell_type": "code",
   "execution_count": 277,
   "id": "04a1f26e-36c5-4654-b900-0664def352fb",
   "metadata": {},
   "outputs": [
    {
     "data": {
      "text/plain": [
       "torch.Size([64, 3, 28, 28])"
      ]
     },
     "execution_count": 277,
     "metadata": {},
     "output_type": "execute_result"
    }
   ],
   "source": [
    "cv(torch.randn(64,1,28,28)).shape"
   ]
  },
  {
   "cell_type": "code",
   "execution_count": 278,
   "id": "fbbac1c0-31b7-464c-b2d6-5c634bb6f52a",
   "metadata": {},
   "outputs": [
    {
     "data": {
      "text/plain": [
       "torch.Size([64, 3, 14, 14])"
      ]
     },
     "execution_count": 278,
     "metadata": {},
     "output_type": "execute_result"
    }
   ],
   "source": [
    "cv = ConvBlock(1, 3, 2)\n",
    "cv(torch.randn(64,1,28,28)).shape"
   ]
  },
  {
   "cell_type": "code",
   "execution_count": 279,
   "id": "39412b21-1a45-440e-84a2-5eeacead4506",
   "metadata": {},
   "outputs": [
    {
     "data": {
      "text/plain": [
       "ResBlock(\n",
       "  (conv_block): ConvBlock(\n",
       "    (0): ConvLayer(\n",
       "      (0): Conv2d(1, 3, kernel_size=(3, 3), stride=(2, 2), padding=(1, 1), bias=False)\n",
       "      (1): BatchNorm2d(3, eps=1e-05, momentum=0.1, affine=True, track_running_stats=True)\n",
       "      (2): ReLU()\n",
       "    )\n",
       "    (1): ConvLayer(\n",
       "      (0): Conv2d(3, 3, kernel_size=(3, 3), stride=(1, 1), padding=(1, 1), bias=False)\n",
       "      (1): BatchNorm2d(3, eps=1e-05, momentum=0.1, affine=True, track_running_stats=True)\n",
       "    )\n",
       "  )\n",
       "  (id_conv): ConvLayer(\n",
       "    (0): Conv2d(1, 3, kernel_size=(1, 1), stride=(1, 1), bias=False)\n",
       "    (1): BatchNorm2d(3, eps=1e-05, momentum=0.1, affine=True, track_running_stats=True)\n",
       "  )\n",
       "  (pool): AvgPool2d(kernel_size=2, stride=2, padding=0)\n",
       ")"
      ]
     },
     "execution_count": 279,
     "metadata": {},
     "output_type": "execute_result"
    }
   ],
   "source": [
    "rb = ResBlock(1, 3, 2)\n",
    "rb"
   ]
  },
  {
   "cell_type": "code",
   "execution_count": 274,
   "id": "8a7d0336-24d0-4bc0-a3c7-1609ac3878f1",
   "metadata": {},
   "outputs": [
    {
     "data": {
      "text/plain": [
       "torch.Size([64, 3, 14, 14])"
      ]
     },
     "execution_count": 274,
     "metadata": {},
     "output_type": "execute_result"
    }
   ],
   "source": [
    "rb(torch.randn(64,1,28,28)).shape"
   ]
  },
  {
   "cell_type": "code",
   "execution_count": 284,
   "id": "fdd6f560-384c-4bc7-b35b-610fa97672d1",
   "metadata": {},
   "outputs": [],
   "source": [
    "class ResnetStem(nn.Sequential):\n",
    "    def __init__(self, sizes):\n",
    "        layers = [ConvLayer(size[0], size[1], stride=2 if idx==0 else 1) for idx, size in enumerate(sizes)]\n",
    "        layers.append(nn.MaxPool2d(3, 2, 1))\n",
    "        super().__init__(*layers)"
   ]
  },
  {
   "cell_type": "code",
   "execution_count": 286,
   "id": "3f6f8408-92bf-4182-b243-daa22153ba76",
   "metadata": {},
   "outputs": [
    {
     "data": {
      "text/plain": [
       "ResnetStem(\n",
       "  (0): ConvLayer(\n",
       "    (0): Conv2d(3, 32, kernel_size=(3, 3), stride=(2, 2), padding=(1, 1), bias=False)\n",
       "    (1): BatchNorm2d(32, eps=1e-05, momentum=0.1, affine=True, track_running_stats=True)\n",
       "    (2): ReLU()\n",
       "  )\n",
       "  (1): ConvLayer(\n",
       "    (0): Conv2d(32, 32, kernel_size=(3, 3), stride=(1, 1), padding=(1, 1), bias=False)\n",
       "    (1): BatchNorm2d(32, eps=1e-05, momentum=0.1, affine=True, track_running_stats=True)\n",
       "    (2): ReLU()\n",
       "  )\n",
       "  (2): ConvLayer(\n",
       "    (0): Conv2d(32, 64, kernel_size=(3, 3), stride=(1, 1), padding=(1, 1), bias=False)\n",
       "    (1): BatchNorm2d(64, eps=1e-05, momentum=0.1, affine=True, track_running_stats=True)\n",
       "    (2): ReLU()\n",
       "  )\n",
       "  (3): MaxPool2d(kernel_size=3, stride=2, padding=1, dilation=1, ceil_mode=False)\n",
       ")"
      ]
     },
     "execution_count": 286,
     "metadata": {},
     "output_type": "execute_result"
    }
   ],
   "source": [
    "stem = ResnetStem([[3,32], [32,32], [32,64]])\n",
    "stem"
   ]
  },
  {
   "cell_type": "code",
   "execution_count": 288,
   "id": "ed90e24f-490c-4d85-84ea-0b379d3757cd",
   "metadata": {},
   "outputs": [
    {
     "data": {
      "text/plain": [
       "torch.Size([64, 64, 7, 7])"
      ]
     },
     "execution_count": 288,
     "metadata": {},
     "output_type": "execute_result"
    }
   ],
   "source": [
    "stem(torch.randn(64,3,28,28)).shape"
   ]
  },
  {
   "cell_type": "code",
   "execution_count": 359,
   "id": "fbdeb7a8-9378-421b-8405-062f88ec3385",
   "metadata": {},
   "outputs": [],
   "source": [
    "class ResNet(nn.Module):\n",
    "    def __init__(self, n_out, sizes):\n",
    "        super().__init__()\n",
    "        self.stem = ResnetStem([[3,32], [32,32], [32,64]])\n",
    "        self.resblock_layers = []\n",
    "        for idx, size in enumerate(sizes):\n",
    "            grouped_rb = [ResBlock(size[0] if i==0 else size[1],\n",
    "                                   size[1],\n",
    "                                   stride=1 if idx==0 else 2) for i in range(size[2])]\n",
    "            grouped_rb = nn.Sequential(*grouped_rb)\n",
    "            self.resblock_layers.append(grouped_rb)\n",
    "        self.layers = nn.Sequential(*self.resblock_layers)\n",
    "        self.head = nn.Sequential(nn.AdaptiveAvgPool2d(1),\n",
    "                                  Flatten(),\n",
    "                                  nn.Linear(sizes[-1][1], n_out))\n",
    "        \n",
    "    \n",
    "    def forward(self, x):\n",
    "        return self.head(self.layers(self.stem(x)))\n",
    "    "
   ]
  },
  {
   "cell_type": "code",
   "execution_count": 360,
   "id": "3c9878b9-8fc2-4aa2-bbf1-25ed2df3df2b",
   "metadata": {},
   "outputs": [],
   "source": [
    "rn = ResNet(10, [[64, 64, 2], [64, 128, 2], [128, 256, 2], [256, 512, 2]])"
   ]
  },
  {
   "cell_type": "code",
   "execution_count": 362,
   "id": "77643fa2-0c07-4d71-a41a-eba039feb0a4",
   "metadata": {},
   "outputs": [
    {
     "data": {
      "text/plain": [
       "torch.Size([64, 10])"
      ]
     },
     "execution_count": 362,
     "metadata": {},
     "output_type": "execute_result"
    }
   ],
   "source": [
    "rn(torch.randn(64,3,128,128)).shape"
   ]
  },
  {
   "cell_type": "code",
   "execution_count": 354,
   "id": "9ac06642-d75e-489b-be42-390ca903c740",
   "metadata": {},
   "outputs": [
    {
     "data": {
      "text/plain": [
       "ResNet(\n",
       "  (stem): ResnetStem(\n",
       "    (0): ConvLayer(\n",
       "      (0): Conv2d(3, 32, kernel_size=(3, 3), stride=(2, 2), padding=(1, 1), bias=False)\n",
       "      (1): BatchNorm2d(32, eps=1e-05, momentum=0.1, affine=True, track_running_stats=True)\n",
       "      (2): ReLU()\n",
       "    )\n",
       "    (1): ConvLayer(\n",
       "      (0): Conv2d(32, 32, kernel_size=(3, 3), stride=(1, 1), padding=(1, 1), bias=False)\n",
       "      (1): BatchNorm2d(32, eps=1e-05, momentum=0.1, affine=True, track_running_stats=True)\n",
       "      (2): ReLU()\n",
       "    )\n",
       "    (2): ConvLayer(\n",
       "      (0): Conv2d(32, 64, kernel_size=(3, 3), stride=(1, 1), padding=(1, 1), bias=False)\n",
       "      (1): BatchNorm2d(64, eps=1e-05, momentum=0.1, affine=True, track_running_stats=True)\n",
       "      (2): ReLU()\n",
       "    )\n",
       "    (3): MaxPool2d(kernel_size=3, stride=2, padding=1, dilation=1, ceil_mode=False)\n",
       "  )\n",
       "  (layers): Sequential(\n",
       "    (0): Sequential(\n",
       "      (0): ResBlock(\n",
       "        (conv_block): ConvBlock(\n",
       "          (0): ConvLayer(\n",
       "            (0): Conv2d(64, 64, kernel_size=(3, 3), stride=(1, 1), padding=(1, 1), bias=False)\n",
       "            (1): BatchNorm2d(64, eps=1e-05, momentum=0.1, affine=True, track_running_stats=True)\n",
       "            (2): ReLU()\n",
       "          )\n",
       "          (1): ConvLayer(\n",
       "            (0): Conv2d(64, 64, kernel_size=(3, 3), stride=(1, 1), padding=(1, 1), bias=False)\n",
       "            (1): BatchNorm2d(64, eps=1e-05, momentum=0.1, affine=True, track_running_stats=True)\n",
       "          )\n",
       "        )\n",
       "      )\n",
       "      (1): ResBlock(\n",
       "        (conv_block): ConvBlock(\n",
       "          (0): ConvLayer(\n",
       "            (0): Conv2d(64, 64, kernel_size=(3, 3), stride=(1, 1), padding=(1, 1), bias=False)\n",
       "            (1): BatchNorm2d(64, eps=1e-05, momentum=0.1, affine=True, track_running_stats=True)\n",
       "            (2): ReLU()\n",
       "          )\n",
       "          (1): ConvLayer(\n",
       "            (0): Conv2d(64, 64, kernel_size=(3, 3), stride=(1, 1), padding=(1, 1), bias=False)\n",
       "            (1): BatchNorm2d(64, eps=1e-05, momentum=0.1, affine=True, track_running_stats=True)\n",
       "          )\n",
       "        )\n",
       "      )\n",
       "    )\n",
       "    (1): Sequential(\n",
       "      (0): ResBlock(\n",
       "        (conv_block): ConvBlock(\n",
       "          (0): ConvLayer(\n",
       "            (0): Conv2d(64, 128, kernel_size=(3, 3), stride=(2, 2), padding=(1, 1), bias=False)\n",
       "            (1): BatchNorm2d(128, eps=1e-05, momentum=0.1, affine=True, track_running_stats=True)\n",
       "            (2): ReLU()\n",
       "          )\n",
       "          (1): ConvLayer(\n",
       "            (0): Conv2d(128, 128, kernel_size=(3, 3), stride=(1, 1), padding=(1, 1), bias=False)\n",
       "            (1): BatchNorm2d(128, eps=1e-05, momentum=0.1, affine=True, track_running_stats=True)\n",
       "          )\n",
       "        )\n",
       "        (id_conv): ConvLayer(\n",
       "          (0): Conv2d(64, 128, kernel_size=(1, 1), stride=(1, 1), bias=False)\n",
       "          (1): BatchNorm2d(128, eps=1e-05, momentum=0.1, affine=True, track_running_stats=True)\n",
       "        )\n",
       "        (pool): AvgPool2d(kernel_size=2, stride=2, padding=0)\n",
       "      )\n",
       "      (1): ResBlock(\n",
       "        (conv_block): ConvBlock(\n",
       "          (0): ConvLayer(\n",
       "            (0): Conv2d(128, 128, kernel_size=(3, 3), stride=(2, 2), padding=(1, 1), bias=False)\n",
       "            (1): BatchNorm2d(128, eps=1e-05, momentum=0.1, affine=True, track_running_stats=True)\n",
       "            (2): ReLU()\n",
       "          )\n",
       "          (1): ConvLayer(\n",
       "            (0): Conv2d(128, 128, kernel_size=(3, 3), stride=(1, 1), padding=(1, 1), bias=False)\n",
       "            (1): BatchNorm2d(128, eps=1e-05, momentum=0.1, affine=True, track_running_stats=True)\n",
       "          )\n",
       "        )\n",
       "        (pool): AvgPool2d(kernel_size=2, stride=2, padding=0)\n",
       "      )\n",
       "    )\n",
       "    (2): Sequential(\n",
       "      (0): ResBlock(\n",
       "        (conv_block): ConvBlock(\n",
       "          (0): ConvLayer(\n",
       "            (0): Conv2d(128, 256, kernel_size=(3, 3), stride=(2, 2), padding=(1, 1), bias=False)\n",
       "            (1): BatchNorm2d(256, eps=1e-05, momentum=0.1, affine=True, track_running_stats=True)\n",
       "            (2): ReLU()\n",
       "          )\n",
       "          (1): ConvLayer(\n",
       "            (0): Conv2d(256, 256, kernel_size=(3, 3), stride=(1, 1), padding=(1, 1), bias=False)\n",
       "            (1): BatchNorm2d(256, eps=1e-05, momentum=0.1, affine=True, track_running_stats=True)\n",
       "          )\n",
       "        )\n",
       "        (id_conv): ConvLayer(\n",
       "          (0): Conv2d(128, 256, kernel_size=(1, 1), stride=(1, 1), bias=False)\n",
       "          (1): BatchNorm2d(256, eps=1e-05, momentum=0.1, affine=True, track_running_stats=True)\n",
       "        )\n",
       "        (pool): AvgPool2d(kernel_size=2, stride=2, padding=0)\n",
       "      )\n",
       "      (1): ResBlock(\n",
       "        (conv_block): ConvBlock(\n",
       "          (0): ConvLayer(\n",
       "            (0): Conv2d(256, 256, kernel_size=(3, 3), stride=(2, 2), padding=(1, 1), bias=False)\n",
       "            (1): BatchNorm2d(256, eps=1e-05, momentum=0.1, affine=True, track_running_stats=True)\n",
       "            (2): ReLU()\n",
       "          )\n",
       "          (1): ConvLayer(\n",
       "            (0): Conv2d(256, 256, kernel_size=(3, 3), stride=(1, 1), padding=(1, 1), bias=False)\n",
       "            (1): BatchNorm2d(256, eps=1e-05, momentum=0.1, affine=True, track_running_stats=True)\n",
       "          )\n",
       "        )\n",
       "        (pool): AvgPool2d(kernel_size=2, stride=2, padding=0)\n",
       "      )\n",
       "    )\n",
       "    (3): Sequential(\n",
       "      (0): ResBlock(\n",
       "        (conv_block): ConvBlock(\n",
       "          (0): ConvLayer(\n",
       "            (0): Conv2d(256, 512, kernel_size=(3, 3), stride=(2, 2), padding=(1, 1), bias=False)\n",
       "            (1): BatchNorm2d(512, eps=1e-05, momentum=0.1, affine=True, track_running_stats=True)\n",
       "            (2): ReLU()\n",
       "          )\n",
       "          (1): ConvLayer(\n",
       "            (0): Conv2d(512, 512, kernel_size=(3, 3), stride=(1, 1), padding=(1, 1), bias=False)\n",
       "            (1): BatchNorm2d(512, eps=1e-05, momentum=0.1, affine=True, track_running_stats=True)\n",
       "          )\n",
       "        )\n",
       "        (id_conv): ConvLayer(\n",
       "          (0): Conv2d(256, 512, kernel_size=(1, 1), stride=(1, 1), bias=False)\n",
       "          (1): BatchNorm2d(512, eps=1e-05, momentum=0.1, affine=True, track_running_stats=True)\n",
       "        )\n",
       "        (pool): AvgPool2d(kernel_size=2, stride=2, padding=0)\n",
       "      )\n",
       "      (1): ResBlock(\n",
       "        (conv_block): ConvBlock(\n",
       "          (0): ConvLayer(\n",
       "            (0): Conv2d(512, 512, kernel_size=(3, 3), stride=(2, 2), padding=(1, 1), bias=False)\n",
       "            (1): BatchNorm2d(512, eps=1e-05, momentum=0.1, affine=True, track_running_stats=True)\n",
       "            (2): ReLU()\n",
       "          )\n",
       "          (1): ConvLayer(\n",
       "            (0): Conv2d(512, 512, kernel_size=(3, 3), stride=(1, 1), padding=(1, 1), bias=False)\n",
       "            (1): BatchNorm2d(512, eps=1e-05, momentum=0.1, affine=True, track_running_stats=True)\n",
       "          )\n",
       "        )\n",
       "        (pool): AvgPool2d(kernel_size=2, stride=2, padding=0)\n",
       "      )\n",
       "    )\n",
       "  )\n",
       "  (head): Sequential(\n",
       "    (0): AdaptiveAvgPool2d(output_size=1)\n",
       "    (1): fastai.layers.Flatten(full=False)\n",
       "    (2): Linear(in_features=512, out_features=10, bias=True)\n",
       "  )\n",
       ")"
      ]
     },
     "execution_count": 354,
     "metadata": {},
     "output_type": "execute_result"
    }
   ],
   "source": [
    "rn"
   ]
  },
  {
   "cell_type": "code",
   "execution_count": null,
   "id": "087b8524-5f60-458a-8a73-e6ba619b094c",
   "metadata": {},
   "outputs": [],
   "source": []
  }
 ],
 "metadata": {
  "kernelspec": {
   "display_name": "Python 3 (ipykernel)",
   "language": "python",
   "name": "python3"
  },
  "language_info": {
   "codemirror_mode": {
    "name": "ipython",
    "version": 3
   },
   "file_extension": ".py",
   "mimetype": "text/x-python",
   "name": "python",
   "nbconvert_exporter": "python",
   "pygments_lexer": "ipython3",
   "version": "3.10.8"
  }
 },
 "nbformat": 4,
 "nbformat_minor": 5
}
