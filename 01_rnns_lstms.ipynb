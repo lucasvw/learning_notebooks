{
 "cells": [
  {
   "cell_type": "code",
   "execution_count": 53,
   "id": "c5528ee1-526e-497c-887f-c62440fedb46",
   "metadata": {},
   "outputs": [],
   "source": [
    "from fastai.text.all import *\n",
    "\n",
    "import pdb"
   ]
  },
  {
   "cell_type": "code",
   "execution_count": 1,
   "id": "5c9ffe68-fbc6-475d-a33c-6415d01bc9db",
   "metadata": {},
   "outputs": [
    {
     "name": "stdout",
     "output_type": "stream",
     "text": [
      "--2023-03-29 11:36:46--  https://s3.amazonaws.com/text-datasets/nietzsche.txt\n",
      "Resolving s3.amazonaws.com (s3.amazonaws.com)... 52.217.77.102, 52.216.62.152, 52.217.107.94, ...\n",
      "Connecting to s3.amazonaws.com (s3.amazonaws.com)|52.217.77.102|:443... connected.\n",
      "HTTP request sent, awaiting response... 200 OK\n",
      "Length: 600901 (587K) [text/plain]\n",
      "Saving to: ‘nietzsche.txt’\n",
      "\n",
      "nietzsche.txt       100%[===================>] 586,82K  1,22MB/s    in 0,5s    \n",
      "\n",
      "2023-03-29 11:36:47 (1,22 MB/s) - ‘nietzsche.txt’ saved [600901/600901]\n",
      "\n"
     ]
    }
   ],
   "source": [
    "# !wget https://s3.amazonaws.com/text-datasets/nietzsche.txt"
   ]
  },
  {
   "cell_type": "code",
   "execution_count": 3,
   "id": "cf59233f-df6e-4551-93ee-bead7446594f",
   "metadata": {},
   "outputs": [],
   "source": [
    "text = open('nietzsche.txt').read()"
   ]
  },
  {
   "cell_type": "code",
   "execution_count": 4,
   "id": "f6ac2778-7197-46cd-aa92-2918572aa8f4",
   "metadata": {},
   "outputs": [
    {
     "name": "stdout",
     "output_type": "stream",
     "text": [
      "total chars: 85\n"
     ]
    }
   ],
   "source": [
    "chars = sorted(list(set(text)))\n",
    "vocab_size = len(chars)+1\n",
    "print('total chars:', vocab_size)"
   ]
  },
  {
   "cell_type": "code",
   "execution_count": 5,
   "id": "0c4bc7c3-b623-4eeb-b508-77953aac1cc4",
   "metadata": {},
   "outputs": [
    {
     "data": {
      "text/plain": [
       "'\\x00\\n !\"\\'(),-.0123456789:;=?ABCDEFGHIJKLMNOPQRSTUVWXYZ[]_abcdefghijklmnopqrstuvwxyzÆäæéë'"
      ]
     },
     "execution_count": 5,
     "metadata": {},
     "output_type": "execute_result"
    }
   ],
   "source": [
    "chars.insert(0, \"\\0\")\n",
    "\n",
    "''.join(chars)"
   ]
  },
  {
   "cell_type": "code",
   "execution_count": 6,
   "id": "3a160773-5422-4b94-bdb4-557b3ac81924",
   "metadata": {},
   "outputs": [],
   "source": [
    "char_indices = {c: i for i, c in enumerate(chars)}\n",
    "indices_char = {i: c for i, c in enumerate(chars)}"
   ]
  },
  {
   "cell_type": "code",
   "execution_count": 7,
   "id": "a5628d73-5a7a-4867-b89b-375cfb296f89",
   "metadata": {},
   "outputs": [
    {
     "data": {
      "text/plain": [
       "(#600893) ['P','R','E','F','A','C','E','\\n','\\n','\\n'...]"
      ]
     },
     "execution_count": 7,
     "metadata": {},
     "output_type": "execute_result"
    }
   ],
   "source": [
    "tokens = L([c for c in text])\n",
    "tokens"
   ]
  },
  {
   "cell_type": "code",
   "execution_count": 8,
   "id": "8d65329e-d5fc-471c-916d-67890c6bc7eb",
   "metadata": {},
   "outputs": [
    {
     "data": {
      "text/plain": [
       "(#600893) [40,42,29,30,25,27,29,1,1,1...]"
      ]
     },
     "execution_count": 8,
     "metadata": {},
     "output_type": "execute_result"
    }
   ],
   "source": [
    "nums = L(char_indices[i] for i in tokens)\n",
    "nums"
   ]
  },
  {
   "cell_type": "code",
   "execution_count": 9,
   "id": "6ef02e66-5b37-472f-8336-d2e7dd352e6c",
   "metadata": {},
   "outputs": [
    {
     "data": {
      "text/plain": [
       "(#600890) [(['P', 'R', 'E'], 'F'),(['R', 'E', 'F'], 'A'),(['E', 'F', 'A'], 'C'),(['F', 'A', 'C'], 'E'),(['A', 'C', 'E'], '\\n'),(['C', 'E', '\\n'], '\\n'),(['E', '\\n', '\\n'], '\\n'),(['\\n', '\\n', '\\n'], 'S'),(['\\n', '\\n', 'S'], 'U'),(['\\n', 'S', 'U'], 'P')...]"
      ]
     },
     "execution_count": 9,
     "metadata": {},
     "output_type": "execute_result"
    }
   ],
   "source": [
    "sl = 3\n",
    "\n",
    "L([\n",
    "    (tokens[i:i+sl], tokens[i+sl]) for i in range(len(tokens)-sl)\n",
    "])"
   ]
  },
  {
   "cell_type": "code",
   "execution_count": 10,
   "id": "ab94d394-3204-42d4-a7f2-e7eba3d493f9",
   "metadata": {},
   "outputs": [
    {
     "data": {
      "text/plain": [
       "(#600890) [(tensor([40, 42, 29]), 30),(tensor([42, 29, 30]), 25),(tensor([29, 30, 25]), 27),(tensor([30, 25, 27]), 29),(tensor([25, 27, 29]), 1),(tensor([27, 29,  1]), 1),(tensor([29,  1,  1]), 1),(tensor([1, 1, 1]), 43),(tensor([ 1,  1, 43]), 45),(tensor([ 1, 43, 45]), 40)...]"
      ]
     },
     "execution_count": 10,
     "metadata": {},
     "output_type": "execute_result"
    }
   ],
   "source": [
    "L([\n",
    "    (tensor(nums[i:i+sl]), nums[i+sl]) for i in range(len(tokens)-sl)\n",
    "])"
   ]
  },
  {
   "cell_type": "code",
   "execution_count": 11,
   "id": "3b04ae03-cec7-439e-8045-5258ae79888e",
   "metadata": {},
   "outputs": [],
   "source": [
    "d = nums[:100000]\n",
    "\n",
    "\n",
    "data = L([\n",
    "    (tensor(d[i:i+sl]), d[i+sl]) for i in range(len(d)-sl)\n",
    "])"
   ]
  },
  {
   "cell_type": "code",
   "execution_count": 12,
   "id": "710b8f37-e7a7-4643-ad8c-1a340096c6e8",
   "metadata": {},
   "outputs": [],
   "source": [
    "bs = 1024\n",
    "cut = int(len(data) * 0.8)\n",
    "dls = DataLoaders.from_dsets(data[:cut], data[cut:], bs=bs, shuffle=False)"
   ]
  },
  {
   "cell_type": "code",
   "execution_count": 13,
   "id": "0f69e517-1537-40af-91df-02b816bacc2e",
   "metadata": {},
   "outputs": [
    {
     "data": {
      "text/plain": [
       "torch.Size([1024, 3])"
      ]
     },
     "execution_count": 13,
     "metadata": {},
     "output_type": "execute_result"
    }
   ],
   "source": [
    "xb, yb = dls.one_batch()\n",
    "xb.shape"
   ]
  },
  {
   "cell_type": "code",
   "execution_count": 14,
   "id": "aaabe381-46b9-4543-b7da-9c92de0b989e",
   "metadata": {},
   "outputs": [
    {
     "data": {
      "text/plain": [
       "tensor([30, 25, 27,  ..., 56, 58, 72])"
      ]
     },
     "execution_count": 14,
     "metadata": {},
     "output_type": "execute_result"
    }
   ],
   "source": [
    "yb"
   ]
  },
  {
   "cell_type": "code",
   "execution_count": 15,
   "id": "3dda018e-6e2f-4f66-b830-c85b5d922592",
   "metadata": {},
   "outputs": [],
   "source": [
    "class Char3Model(nn.Module):\n",
    "    def __init__(self, vocab_size, n_hidden):\n",
    "        super().__init__()\n",
    "        \n",
    "        self.i_h = nn.Embedding(vocab_size, n_hidden) # [85, 256]\n",
    "        self.h_h = nn.Linear(n_hidden, n_hidden) # [256,256]\n",
    "        self.h_o = nn.Linear(n_hidden, vocab_size) # [256, 85]\n",
    "        \n",
    "    def forward(self, x):\n",
    "        # x = [1024, 3]\n",
    "        \n",
    "        in1 = self.i_h(x[:,0]) # [1024, 256]\n",
    "        h1 = F.tanh(self.h_h(in1)) # [1024, 256]\n",
    "        \n",
    "        in2 = self.i_h(x[:,1]) # [1024, 256]\n",
    "        h2 =  F.tanh(self.h_h(h1 + in2)) # [1024, 256]\n",
    "        \n",
    "        in3 = self.i_h(x[:,2]) # [1024, 256]\n",
    "        h3 = F.tanh(self.h_h(h2 + in3)) # [1024, 256]\n",
    "        \n",
    "        out = self.h_o(h3) #[1024, 85]\n",
    "        \n",
    "        return out\n",
    "    "
   ]
  },
  {
   "cell_type": "code",
   "execution_count": 17,
   "id": "896ed272-7052-44a7-9b6a-4dc072988b05",
   "metadata": {},
   "outputs": [],
   "source": [
    "model = Char3Model(vocab_size, 256)\n",
    "\n",
    "learner = Learner(dls, model, loss_func=F.cross_entropy)"
   ]
  },
  {
   "cell_type": "code",
   "execution_count": 18,
   "id": "71ec2497-2cfa-4cc4-b0a3-7151a5917cf7",
   "metadata": {},
   "outputs": [
    {
     "data": {
      "text/html": [
       "\n",
       "<style>\n",
       "    /* Turns off some styling */\n",
       "    progress {\n",
       "        /* gets rid of default border in Firefox and Opera. */\n",
       "        border: none;\n",
       "        /* Needs to be in here for Safari polyfill so background images work as expected. */\n",
       "        background-size: auto;\n",
       "    }\n",
       "    progress:not([value]), progress:not([value])::-webkit-progress-bar {\n",
       "        background: repeating-linear-gradient(45deg, #7e7e7e, #7e7e7e 10px, #5c5c5c 10px, #5c5c5c 20px);\n",
       "    }\n",
       "    .progress-bar-interrupted, .progress-bar-interrupted::-webkit-progress-bar {\n",
       "        background: #F44336;\n",
       "    }\n",
       "</style>\n"
      ],
      "text/plain": [
       "<IPython.core.display.HTML object>"
      ]
     },
     "metadata": {},
     "output_type": "display_data"
    },
    {
     "data": {
      "text/html": [
       "<table border=\"1\" class=\"dataframe\">\n",
       "  <thead>\n",
       "    <tr style=\"text-align: left;\">\n",
       "      <th>epoch</th>\n",
       "      <th>train_loss</th>\n",
       "      <th>valid_loss</th>\n",
       "      <th>time</th>\n",
       "    </tr>\n",
       "  </thead>\n",
       "  <tbody>\n",
       "    <tr>\n",
       "      <td>0</td>\n",
       "      <td>2.681352</td>\n",
       "      <td>2.357966</td>\n",
       "      <td>00:01</td>\n",
       "    </tr>\n",
       "    <tr>\n",
       "      <td>1</td>\n",
       "      <td>2.244841</td>\n",
       "      <td>2.148472</td>\n",
       "      <td>00:01</td>\n",
       "    </tr>\n",
       "    <tr>\n",
       "      <td>2</td>\n",
       "      <td>2.062920</td>\n",
       "      <td>2.075403</td>\n",
       "      <td>00:01</td>\n",
       "    </tr>\n",
       "    <tr>\n",
       "      <td>3</td>\n",
       "      <td>1.956914</td>\n",
       "      <td>2.023210</td>\n",
       "      <td>00:01</td>\n",
       "    </tr>\n",
       "    <tr>\n",
       "      <td>4</td>\n",
       "      <td>1.883873</td>\n",
       "      <td>1.977676</td>\n",
       "      <td>00:01</td>\n",
       "    </tr>\n",
       "    <tr>\n",
       "      <td>5</td>\n",
       "      <td>1.811974</td>\n",
       "      <td>1.936352</td>\n",
       "      <td>00:01</td>\n",
       "    </tr>\n",
       "    <tr>\n",
       "      <td>6</td>\n",
       "      <td>1.742999</td>\n",
       "      <td>1.882813</td>\n",
       "      <td>00:01</td>\n",
       "    </tr>\n",
       "    <tr>\n",
       "      <td>7</td>\n",
       "      <td>1.674462</td>\n",
       "      <td>1.853813</td>\n",
       "      <td>00:01</td>\n",
       "    </tr>\n",
       "    <tr>\n",
       "      <td>8</td>\n",
       "      <td>1.610426</td>\n",
       "      <td>1.828449</td>\n",
       "      <td>00:01</td>\n",
       "    </tr>\n",
       "    <tr>\n",
       "      <td>9</td>\n",
       "      <td>1.567370</td>\n",
       "      <td>1.824165</td>\n",
       "      <td>00:01</td>\n",
       "    </tr>\n",
       "  </tbody>\n",
       "</table>"
      ],
      "text/plain": [
       "<IPython.core.display.HTML object>"
      ]
     },
     "metadata": {},
     "output_type": "display_data"
    },
    {
     "name": "stderr",
     "output_type": "stream",
     "text": [
      "/Users/lucasvanwalstijn/mambaforge/lib/python3.10/site-packages/torch/nn/functional.py:1956: UserWarning: nn.functional.tanh is deprecated. Use torch.tanh instead.\n",
      "  warnings.warn(\"nn.functional.tanh is deprecated. Use torch.tanh instead.\")\n"
     ]
    }
   ],
   "source": [
    "learner.fit_one_cycle(10, 1e-2)"
   ]
  },
  {
   "cell_type": "code",
   "execution_count": 19,
   "id": "4ff9cd62-badd-47a0-bade-adfae81f5123",
   "metadata": {},
   "outputs": [],
   "source": [
    "class CharXModel(nn.Module):\n",
    "    def __init__(self, vocab_size, n_hidden):\n",
    "        super().__init__()\n",
    "        \n",
    "        self.i_h = nn.Embedding(vocab_size, n_hidden) # [85, 256]\n",
    "        self.h_h = nn.Linear(n_hidden, n_hidden) # [256,256]\n",
    "        self.h_o = nn.Linear(n_hidden, vocab_size) # [256, 85]\n",
    "        \n",
    "    def forward(self, xs):\n",
    "        # x = [1024, \"sl\"]\n",
    "        \n",
    "        h = 0.\n",
    "        for i in range(xs.shape[1]):\n",
    "            h = h + self.i_h(xs[:,i]) # [1024, 256]\n",
    "            h = F.tanh(self.h_h(h)) # [1024, 256]\n",
    "                \n",
    "        out = self.h_o(h) #[1024, 85]\n",
    "        \n",
    "        return out\n",
    "        "
   ]
  },
  {
   "cell_type": "code",
   "execution_count": 20,
   "id": "c72f3b13-86c8-496a-8b0f-28d8614502e2",
   "metadata": {},
   "outputs": [
    {
     "data": {
      "text/html": [
       "\n",
       "<style>\n",
       "    /* Turns off some styling */\n",
       "    progress {\n",
       "        /* gets rid of default border in Firefox and Opera. */\n",
       "        border: none;\n",
       "        /* Needs to be in here for Safari polyfill so background images work as expected. */\n",
       "        background-size: auto;\n",
       "    }\n",
       "    progress:not([value]), progress:not([value])::-webkit-progress-bar {\n",
       "        background: repeating-linear-gradient(45deg, #7e7e7e, #7e7e7e 10px, #5c5c5c 10px, #5c5c5c 20px);\n",
       "    }\n",
       "    .progress-bar-interrupted, .progress-bar-interrupted::-webkit-progress-bar {\n",
       "        background: #F44336;\n",
       "    }\n",
       "</style>\n"
      ],
      "text/plain": [
       "<IPython.core.display.HTML object>"
      ]
     },
     "metadata": {},
     "output_type": "display_data"
    },
    {
     "data": {
      "text/html": [
       "<table border=\"1\" class=\"dataframe\">\n",
       "  <thead>\n",
       "    <tr style=\"text-align: left;\">\n",
       "      <th>epoch</th>\n",
       "      <th>train_loss</th>\n",
       "      <th>valid_loss</th>\n",
       "      <th>time</th>\n",
       "    </tr>\n",
       "  </thead>\n",
       "  <tbody>\n",
       "    <tr>\n",
       "      <td>0</td>\n",
       "      <td>2.695577</td>\n",
       "      <td>2.357954</td>\n",
       "      <td>00:01</td>\n",
       "    </tr>\n",
       "    <tr>\n",
       "      <td>1</td>\n",
       "      <td>2.247527</td>\n",
       "      <td>2.149469</td>\n",
       "      <td>00:01</td>\n",
       "    </tr>\n",
       "    <tr>\n",
       "      <td>2</td>\n",
       "      <td>2.061855</td>\n",
       "      <td>2.082031</td>\n",
       "      <td>00:01</td>\n",
       "    </tr>\n",
       "    <tr>\n",
       "      <td>3</td>\n",
       "      <td>1.954810</td>\n",
       "      <td>2.016302</td>\n",
       "      <td>00:01</td>\n",
       "    </tr>\n",
       "    <tr>\n",
       "      <td>4</td>\n",
       "      <td>1.880038</td>\n",
       "      <td>1.979227</td>\n",
       "      <td>00:01</td>\n",
       "    </tr>\n",
       "    <tr>\n",
       "      <td>5</td>\n",
       "      <td>1.808372</td>\n",
       "      <td>1.940966</td>\n",
       "      <td>00:01</td>\n",
       "    </tr>\n",
       "    <tr>\n",
       "      <td>6</td>\n",
       "      <td>1.739033</td>\n",
       "      <td>1.891341</td>\n",
       "      <td>00:01</td>\n",
       "    </tr>\n",
       "    <tr>\n",
       "      <td>7</td>\n",
       "      <td>1.671465</td>\n",
       "      <td>1.862090</td>\n",
       "      <td>00:01</td>\n",
       "    </tr>\n",
       "    <tr>\n",
       "      <td>8</td>\n",
       "      <td>1.608615</td>\n",
       "      <td>1.834718</td>\n",
       "      <td>00:01</td>\n",
       "    </tr>\n",
       "    <tr>\n",
       "      <td>9</td>\n",
       "      <td>1.565807</td>\n",
       "      <td>1.830057</td>\n",
       "      <td>00:01</td>\n",
       "    </tr>\n",
       "  </tbody>\n",
       "</table>"
      ],
      "text/plain": [
       "<IPython.core.display.HTML object>"
      ]
     },
     "metadata": {},
     "output_type": "display_data"
    }
   ],
   "source": [
    "model = CharXModel(vocab_size, 256)\n",
    "learner = Learner(dls, model, loss_func=F.cross_entropy)\n",
    "learner.fit_one_cycle(10, 1e-2)"
   ]
  },
  {
   "cell_type": "code",
   "execution_count": 24,
   "id": "1a628d79-ef04-4e1e-a35a-dc079ca4d294",
   "metadata": {},
   "outputs": [],
   "source": [
    "class CharXConcatModel(nn.Module):\n",
    "    def __init__(self, vocab_size, n_hidden):\n",
    "        super().__init__()\n",
    "        self.vocab_size = vocab_size\n",
    "        self.n_hidden = n_hidden\n",
    "        \n",
    "        self.i_h = nn.Embedding(vocab_size, n_hidden) # [85, 256]\n",
    "        self.h_h = nn.Linear(n_hidden+n_hidden, n_hidden) # [256x2,256]\n",
    "        self.h_o = nn.Linear(n_hidden, vocab_size) # [256, 85]\n",
    "        \n",
    "    def forward(self, xs):\n",
    "        # x = [1024, \"sl\"]\n",
    "        \n",
    "        bs = xs.shape[0]\n",
    "        h = torch.zeros(bs,self.n_hidden)\n",
    "        for i in range(xs.shape[1]):\n",
    "            h = torch.cat([h, self.i_h(xs[:,i])], dim=1) # [1024, 512]\n",
    "            h = F.tanh(self.h_h(h)) # [1024, 256]\n",
    "                \n",
    "        out = self.h_o(h) #[1024, 85]\n",
    "        \n",
    "        return out\n",
    "        "
   ]
  },
  {
   "cell_type": "code",
   "execution_count": 25,
   "id": "191afc4c-b07e-4fb7-8174-cb206a21c9f2",
   "metadata": {},
   "outputs": [
    {
     "data": {
      "text/html": [
       "\n",
       "<style>\n",
       "    /* Turns off some styling */\n",
       "    progress {\n",
       "        /* gets rid of default border in Firefox and Opera. */\n",
       "        border: none;\n",
       "        /* Needs to be in here for Safari polyfill so background images work as expected. */\n",
       "        background-size: auto;\n",
       "    }\n",
       "    progress:not([value]), progress:not([value])::-webkit-progress-bar {\n",
       "        background: repeating-linear-gradient(45deg, #7e7e7e, #7e7e7e 10px, #5c5c5c 10px, #5c5c5c 20px);\n",
       "    }\n",
       "    .progress-bar-interrupted, .progress-bar-interrupted::-webkit-progress-bar {\n",
       "        background: #F44336;\n",
       "    }\n",
       "</style>\n"
      ],
      "text/plain": [
       "<IPython.core.display.HTML object>"
      ]
     },
     "metadata": {},
     "output_type": "display_data"
    },
    {
     "data": {
      "text/html": [
       "<table border=\"1\" class=\"dataframe\">\n",
       "  <thead>\n",
       "    <tr style=\"text-align: left;\">\n",
       "      <th>epoch</th>\n",
       "      <th>train_loss</th>\n",
       "      <th>valid_loss</th>\n",
       "      <th>time</th>\n",
       "    </tr>\n",
       "  </thead>\n",
       "  <tbody>\n",
       "    <tr>\n",
       "      <td>0</td>\n",
       "      <td>2.653754</td>\n",
       "      <td>2.339791</td>\n",
       "      <td>00:01</td>\n",
       "    </tr>\n",
       "    <tr>\n",
       "      <td>1</td>\n",
       "      <td>2.222025</td>\n",
       "      <td>2.131947</td>\n",
       "      <td>00:01</td>\n",
       "    </tr>\n",
       "    <tr>\n",
       "      <td>2</td>\n",
       "      <td>2.050427</td>\n",
       "      <td>2.069796</td>\n",
       "      <td>00:01</td>\n",
       "    </tr>\n",
       "    <tr>\n",
       "      <td>3</td>\n",
       "      <td>1.955510</td>\n",
       "      <td>2.014739</td>\n",
       "      <td>00:01</td>\n",
       "    </tr>\n",
       "    <tr>\n",
       "      <td>4</td>\n",
       "      <td>1.885468</td>\n",
       "      <td>1.984746</td>\n",
       "      <td>00:01</td>\n",
       "    </tr>\n",
       "    <tr>\n",
       "      <td>5</td>\n",
       "      <td>1.819210</td>\n",
       "      <td>1.940857</td>\n",
       "      <td>00:01</td>\n",
       "    </tr>\n",
       "    <tr>\n",
       "      <td>6</td>\n",
       "      <td>1.751030</td>\n",
       "      <td>1.881467</td>\n",
       "      <td>00:01</td>\n",
       "    </tr>\n",
       "    <tr>\n",
       "      <td>7</td>\n",
       "      <td>1.678259</td>\n",
       "      <td>1.850601</td>\n",
       "      <td>00:01</td>\n",
       "    </tr>\n",
       "    <tr>\n",
       "      <td>8</td>\n",
       "      <td>1.610384</td>\n",
       "      <td>1.822538</td>\n",
       "      <td>00:01</td>\n",
       "    </tr>\n",
       "    <tr>\n",
       "      <td>9</td>\n",
       "      <td>1.563779</td>\n",
       "      <td>1.818214</td>\n",
       "      <td>00:01</td>\n",
       "    </tr>\n",
       "  </tbody>\n",
       "</table>"
      ],
      "text/plain": [
       "<IPython.core.display.HTML object>"
      ]
     },
     "metadata": {},
     "output_type": "display_data"
    }
   ],
   "source": [
    "model = CharXConcatModel(vocab_size, 256)\n",
    "learner = Learner(dls, model, loss_func=F.cross_entropy)\n",
    "learner.fit_one_cycle(10, 1e-2)"
   ]
  },
  {
   "cell_type": "code",
   "execution_count": 26,
   "id": "d395b373-f469-41cb-b356-94adedb29a12",
   "metadata": {},
   "outputs": [],
   "source": [
    "class CharXRNNModel(nn.Module):\n",
    "    def __init__(self, vocab_size, n_hidden):\n",
    "        super().__init__()\n",
    "        self.vocab_size = vocab_size\n",
    "        self.n_hidden = n_hidden\n",
    "        \n",
    "        self.i_h = nn.Embedding(vocab_size, n_hidden) # [85, 256]\n",
    "        self.rnn = nn.RNN(256, 256) # [256, 256]\n",
    "        self.h_o = nn.Linear(n_hidden, vocab_size) # [256, 85]\n",
    "        \n",
    "    def forward(self, xs):\n",
    "        # xs = [1024, sl]\n",
    "        \n",
    "        bs = xs.shape[0] # 1024\n",
    "        h = torch.zeros(1, bs, self.n_hidden) # [1,1024, 256]\n",
    "        \n",
    "        x = self.i_h(xs) # [1024, sl, 256]\n",
    "        \n",
    "        hs, h = self.rnn(x.transpose(0,1), h)\n",
    "        # hs [sl, 1024, 256]\n",
    "        # h [1, 1024, 256]\n",
    "        \n",
    "        out = self.h_o(h.squeeze())\n",
    "        \n",
    "        return out\n",
    "        "
   ]
  },
  {
   "cell_type": "code",
   "execution_count": 27,
   "id": "8ed0e416-870f-4674-83a6-3f44fa52fc0f",
   "metadata": {},
   "outputs": [
    {
     "data": {
      "text/html": [
       "\n",
       "<style>\n",
       "    /* Turns off some styling */\n",
       "    progress {\n",
       "        /* gets rid of default border in Firefox and Opera. */\n",
       "        border: none;\n",
       "        /* Needs to be in here for Safari polyfill so background images work as expected. */\n",
       "        background-size: auto;\n",
       "    }\n",
       "    progress:not([value]), progress:not([value])::-webkit-progress-bar {\n",
       "        background: repeating-linear-gradient(45deg, #7e7e7e, #7e7e7e 10px, #5c5c5c 10px, #5c5c5c 20px);\n",
       "    }\n",
       "    .progress-bar-interrupted, .progress-bar-interrupted::-webkit-progress-bar {\n",
       "        background: #F44336;\n",
       "    }\n",
       "</style>\n"
      ],
      "text/plain": [
       "<IPython.core.display.HTML object>"
      ]
     },
     "metadata": {},
     "output_type": "display_data"
    },
    {
     "data": {
      "text/html": [
       "<table border=\"1\" class=\"dataframe\">\n",
       "  <thead>\n",
       "    <tr style=\"text-align: left;\">\n",
       "      <th>epoch</th>\n",
       "      <th>train_loss</th>\n",
       "      <th>valid_loss</th>\n",
       "      <th>time</th>\n",
       "    </tr>\n",
       "  </thead>\n",
       "  <tbody>\n",
       "    <tr>\n",
       "      <td>0</td>\n",
       "      <td>2.640129</td>\n",
       "      <td>2.325046</td>\n",
       "      <td>00:01</td>\n",
       "    </tr>\n",
       "    <tr>\n",
       "      <td>1</td>\n",
       "      <td>2.211674</td>\n",
       "      <td>2.126548</td>\n",
       "      <td>00:01</td>\n",
       "    </tr>\n",
       "    <tr>\n",
       "      <td>2</td>\n",
       "      <td>2.048181</td>\n",
       "      <td>2.076583</td>\n",
       "      <td>00:01</td>\n",
       "    </tr>\n",
       "    <tr>\n",
       "      <td>3</td>\n",
       "      <td>1.955322</td>\n",
       "      <td>2.021035</td>\n",
       "      <td>00:01</td>\n",
       "    </tr>\n",
       "    <tr>\n",
       "      <td>4</td>\n",
       "      <td>1.888071</td>\n",
       "      <td>1.984448</td>\n",
       "      <td>00:01</td>\n",
       "    </tr>\n",
       "    <tr>\n",
       "      <td>5</td>\n",
       "      <td>1.823170</td>\n",
       "      <td>1.936843</td>\n",
       "      <td>00:01</td>\n",
       "    </tr>\n",
       "    <tr>\n",
       "      <td>6</td>\n",
       "      <td>1.750477</td>\n",
       "      <td>1.887074</td>\n",
       "      <td>00:01</td>\n",
       "    </tr>\n",
       "    <tr>\n",
       "      <td>7</td>\n",
       "      <td>1.676031</td>\n",
       "      <td>1.849825</td>\n",
       "      <td>00:01</td>\n",
       "    </tr>\n",
       "    <tr>\n",
       "      <td>8</td>\n",
       "      <td>1.606963</td>\n",
       "      <td>1.822414</td>\n",
       "      <td>00:01</td>\n",
       "    </tr>\n",
       "    <tr>\n",
       "      <td>9</td>\n",
       "      <td>1.559890</td>\n",
       "      <td>1.818767</td>\n",
       "      <td>00:01</td>\n",
       "    </tr>\n",
       "  </tbody>\n",
       "</table>"
      ],
      "text/plain": [
       "<IPython.core.display.HTML object>"
      ]
     },
     "metadata": {},
     "output_type": "display_data"
    }
   ],
   "source": [
    "model = CharXRNNModel(vocab_size, 256)\n",
    "learner = Learner(dls, model, loss_func=F.cross_entropy)\n",
    "learner.fit_one_cycle(10, 1e-2)"
   ]
  },
  {
   "cell_type": "code",
   "execution_count": 28,
   "id": "3bf42d43-ada2-4ad8-b716-81fefc76a5b6",
   "metadata": {},
   "outputs": [],
   "source": [
    "class CustomRNN(nn.Module):\n",
    "    def __init__(self, n_in, n_out):\n",
    "        super().__init__()\n",
    "        self.n_in = n_in\n",
    "        self.n_out = n_out\n",
    "        \n",
    "        self.l_hidden = nn.Linear(n_in, n_out)\n",
    "        \n",
    "    def forward(self, xs, h):\n",
    "        # xs [sl, 1024, 256]\n",
    "        # h  [1024, 256]\n",
    "        hs = []\n",
    "        for x in xs:\n",
    "            inp = x + h # [1024, 256]\n",
    "            h = torch.tanh(self.l_hidden(inp))\n",
    "            hs.append(h)\n",
    "        return torch.stack(hs), h\n",
    "\n",
    "\n",
    "class CharXCustomRNNModel(nn.Module):\n",
    "    def __init__(self, vocab_size, n_hidden):\n",
    "        super().__init__()\n",
    "        self.vocab_size = vocab_size\n",
    "        self.n_hidden = n_hidden\n",
    "        \n",
    "        self.i_h = nn.Embedding(vocab_size, n_hidden) # [85, 256]\n",
    "        self.rnn = CustomRNN(256, 256)\n",
    "        # self.h_h = nn.Linear(n_hidden, n_hidden) # [256,256]\n",
    "        self.h_o = nn.Linear(n_hidden, vocab_size) # [256, 85]\n",
    "        \n",
    "    def forward(self, xs):\n",
    "        # xs = [1024, sl]\n",
    "        \n",
    "        bs = xs.shape[0] # 1024\n",
    "        \n",
    "        h = torch.zeros(bs, self.n_hidden) # [1024, 256]\n",
    "        x = self.i_h(xs) # [1024, sl, 256]\n",
    "        \n",
    "        hs, h = self.rnn(x.transpose(0,1), h)\n",
    "        # hs [sl, 1024, 256]\n",
    "        # h [1024, 256]\n",
    "        \n",
    "        out = self.h_o(h)\n",
    "        \n",
    "        return out\n",
    "        "
   ]
  },
  {
   "cell_type": "code",
   "execution_count": 29,
   "id": "ec827d8b-ff2f-400c-ac44-6fa9cec6abc6",
   "metadata": {},
   "outputs": [
    {
     "data": {
      "text/html": [
       "\n",
       "<style>\n",
       "    /* Turns off some styling */\n",
       "    progress {\n",
       "        /* gets rid of default border in Firefox and Opera. */\n",
       "        border: none;\n",
       "        /* Needs to be in here for Safari polyfill so background images work as expected. */\n",
       "        background-size: auto;\n",
       "    }\n",
       "    progress:not([value]), progress:not([value])::-webkit-progress-bar {\n",
       "        background: repeating-linear-gradient(45deg, #7e7e7e, #7e7e7e 10px, #5c5c5c 10px, #5c5c5c 20px);\n",
       "    }\n",
       "    .progress-bar-interrupted, .progress-bar-interrupted::-webkit-progress-bar {\n",
       "        background: #F44336;\n",
       "    }\n",
       "</style>\n"
      ],
      "text/plain": [
       "<IPython.core.display.HTML object>"
      ]
     },
     "metadata": {},
     "output_type": "display_data"
    },
    {
     "data": {
      "text/html": [
       "<table border=\"1\" class=\"dataframe\">\n",
       "  <thead>\n",
       "    <tr style=\"text-align: left;\">\n",
       "      <th>epoch</th>\n",
       "      <th>train_loss</th>\n",
       "      <th>valid_loss</th>\n",
       "      <th>time</th>\n",
       "    </tr>\n",
       "  </thead>\n",
       "  <tbody>\n",
       "    <tr>\n",
       "      <td>0</td>\n",
       "      <td>2.684840</td>\n",
       "      <td>2.356459</td>\n",
       "      <td>00:01</td>\n",
       "    </tr>\n",
       "    <tr>\n",
       "      <td>1</td>\n",
       "      <td>2.248914</td>\n",
       "      <td>2.138613</td>\n",
       "      <td>00:01</td>\n",
       "    </tr>\n",
       "    <tr>\n",
       "      <td>2</td>\n",
       "      <td>2.062666</td>\n",
       "      <td>2.080703</td>\n",
       "      <td>00:01</td>\n",
       "    </tr>\n",
       "    <tr>\n",
       "      <td>3</td>\n",
       "      <td>1.955841</td>\n",
       "      <td>2.020806</td>\n",
       "      <td>00:01</td>\n",
       "    </tr>\n",
       "    <tr>\n",
       "      <td>4</td>\n",
       "      <td>1.879938</td>\n",
       "      <td>1.983840</td>\n",
       "      <td>00:01</td>\n",
       "    </tr>\n",
       "    <tr>\n",
       "      <td>5</td>\n",
       "      <td>1.813352</td>\n",
       "      <td>1.939183</td>\n",
       "      <td>00:01</td>\n",
       "    </tr>\n",
       "    <tr>\n",
       "      <td>6</td>\n",
       "      <td>1.743211</td>\n",
       "      <td>1.887770</td>\n",
       "      <td>00:01</td>\n",
       "    </tr>\n",
       "    <tr>\n",
       "      <td>7</td>\n",
       "      <td>1.674205</td>\n",
       "      <td>1.856273</td>\n",
       "      <td>00:01</td>\n",
       "    </tr>\n",
       "    <tr>\n",
       "      <td>8</td>\n",
       "      <td>1.612710</td>\n",
       "      <td>1.830978</td>\n",
       "      <td>00:01</td>\n",
       "    </tr>\n",
       "    <tr>\n",
       "      <td>9</td>\n",
       "      <td>1.569182</td>\n",
       "      <td>1.826869</td>\n",
       "      <td>00:01</td>\n",
       "    </tr>\n",
       "  </tbody>\n",
       "</table>"
      ],
      "text/plain": [
       "<IPython.core.display.HTML object>"
      ]
     },
     "metadata": {},
     "output_type": "display_data"
    }
   ],
   "source": [
    "model = CharXCustomRNNModel(vocab_size, 256)\n",
    "learner = Learner(dls, model, loss_func=F.cross_entropy)\n",
    "learner.fit_one_cycle(10, 1e-2)"
   ]
  },
  {
   "cell_type": "code",
   "execution_count": 30,
   "id": "9480f978-5359-4351-992a-09b4fc659f7c",
   "metadata": {},
   "outputs": [],
   "source": [
    "class CustomConcatRNN(nn.Module):\n",
    "    def __init__(self, n_in, n_out):\n",
    "        super().__init__()\n",
    "        self.n_in = n_in\n",
    "        self.n_out = n_out\n",
    "        \n",
    "        self.l_hidden = nn.Linear(2*n_in, n_out)\n",
    "        \n",
    "    def forward(self, xs, h):\n",
    "        # xs [sl, 1024, 256]\n",
    "        # h  [1024, 256]\n",
    "        hs = []\n",
    "        for x in xs:\n",
    "            inp = torch.cat([x, h], dim=1) # [1024, 512]\n",
    "            h = torch.tanh(self.l_hidden(inp))\n",
    "            hs.append(h)\n",
    "        return torch.stack(hs), h\n",
    "\n",
    "\n",
    "class CharXCustomConcatRNNModel(nn.Module):\n",
    "    def __init__(self, vocab_size, n_hidden):\n",
    "        super().__init__()\n",
    "        self.vocab_size = vocab_size\n",
    "        self.n_hidden = n_hidden\n",
    "        \n",
    "        self.i_h = nn.Embedding(vocab_size, n_hidden) # [85, 256]\n",
    "        self.rnn = CustomConcatRNN(256, 256)\n",
    "        # self.h_h = nn.Linear(n_hidden, n_hidden) # [256,256]\n",
    "        self.h_o = nn.Linear(n_hidden, vocab_size) # [256, 85]\n",
    "        \n",
    "    def forward(self, xs):\n",
    "        # xs = [1024, sl]\n",
    "        \n",
    "        bs = xs.shape[0] # 1024\n",
    "        \n",
    "        h = torch.zeros(bs, self.n_hidden) # [1024, 256]\n",
    "        x = self.i_h(xs) # [1024, sl, 256]\n",
    "        \n",
    "        hs, h = self.rnn(x.transpose(0,1), h)\n",
    "        # hs [sl, 1024, 256]\n",
    "        # h [1024, 256]\n",
    "        \n",
    "        out = self.h_o(h)\n",
    "        \n",
    "        return out\n",
    "        "
   ]
  },
  {
   "cell_type": "code",
   "execution_count": 31,
   "id": "7a027f07-4955-42e4-a105-89078a685087",
   "metadata": {},
   "outputs": [
    {
     "data": {
      "text/html": [
       "\n",
       "<style>\n",
       "    /* Turns off some styling */\n",
       "    progress {\n",
       "        /* gets rid of default border in Firefox and Opera. */\n",
       "        border: none;\n",
       "        /* Needs to be in here for Safari polyfill so background images work as expected. */\n",
       "        background-size: auto;\n",
       "    }\n",
       "    progress:not([value]), progress:not([value])::-webkit-progress-bar {\n",
       "        background: repeating-linear-gradient(45deg, #7e7e7e, #7e7e7e 10px, #5c5c5c 10px, #5c5c5c 20px);\n",
       "    }\n",
       "    .progress-bar-interrupted, .progress-bar-interrupted::-webkit-progress-bar {\n",
       "        background: #F44336;\n",
       "    }\n",
       "</style>\n"
      ],
      "text/plain": [
       "<IPython.core.display.HTML object>"
      ]
     },
     "metadata": {},
     "output_type": "display_data"
    },
    {
     "data": {
      "text/html": [
       "<table border=\"1\" class=\"dataframe\">\n",
       "  <thead>\n",
       "    <tr style=\"text-align: left;\">\n",
       "      <th>epoch</th>\n",
       "      <th>train_loss</th>\n",
       "      <th>valid_loss</th>\n",
       "      <th>time</th>\n",
       "    </tr>\n",
       "  </thead>\n",
       "  <tbody>\n",
       "    <tr>\n",
       "      <td>0</td>\n",
       "      <td>2.663217</td>\n",
       "      <td>2.350113</td>\n",
       "      <td>00:01</td>\n",
       "    </tr>\n",
       "    <tr>\n",
       "      <td>1</td>\n",
       "      <td>2.235993</td>\n",
       "      <td>2.128180</td>\n",
       "      <td>00:01</td>\n",
       "    </tr>\n",
       "    <tr>\n",
       "      <td>2</td>\n",
       "      <td>2.060384</td>\n",
       "      <td>2.071265</td>\n",
       "      <td>00:01</td>\n",
       "    </tr>\n",
       "    <tr>\n",
       "      <td>3</td>\n",
       "      <td>1.964063</td>\n",
       "      <td>2.014110</td>\n",
       "      <td>00:01</td>\n",
       "    </tr>\n",
       "    <tr>\n",
       "      <td>4</td>\n",
       "      <td>1.893441</td>\n",
       "      <td>1.983125</td>\n",
       "      <td>00:01</td>\n",
       "    </tr>\n",
       "    <tr>\n",
       "      <td>5</td>\n",
       "      <td>1.824177</td>\n",
       "      <td>1.940240</td>\n",
       "      <td>00:01</td>\n",
       "    </tr>\n",
       "    <tr>\n",
       "      <td>6</td>\n",
       "      <td>1.754602</td>\n",
       "      <td>1.892925</td>\n",
       "      <td>00:01</td>\n",
       "    </tr>\n",
       "    <tr>\n",
       "      <td>7</td>\n",
       "      <td>1.682467</td>\n",
       "      <td>1.856571</td>\n",
       "      <td>00:01</td>\n",
       "    </tr>\n",
       "    <tr>\n",
       "      <td>8</td>\n",
       "      <td>1.613159</td>\n",
       "      <td>1.828200</td>\n",
       "      <td>00:01</td>\n",
       "    </tr>\n",
       "    <tr>\n",
       "      <td>9</td>\n",
       "      <td>1.566036</td>\n",
       "      <td>1.823506</td>\n",
       "      <td>00:01</td>\n",
       "    </tr>\n",
       "  </tbody>\n",
       "</table>"
      ],
      "text/plain": [
       "<IPython.core.display.HTML object>"
      ]
     },
     "metadata": {},
     "output_type": "display_data"
    }
   ],
   "source": [
    "model = CharXCustomConcatRNNModel(vocab_size, 256)\n",
    "learner = Learner(dls, model, loss_func=F.cross_entropy)\n",
    "learner.fit_one_cycle(10, 1e-2)"
   ]
  },
  {
   "cell_type": "markdown",
   "id": "8cedf4f9-77de-43f5-a776-311e6f5ec4b7",
   "metadata": {},
   "source": [
    "### Now let's make this more efficient by using a different way to load the data"
   ]
  },
  {
   "cell_type": "code",
   "execution_count": 32,
   "id": "5b2e0c07-808f-4626-8629-5512c14bd8ed",
   "metadata": {},
   "outputs": [],
   "source": [
    "data = [\n",
    "    (tensor(d[i:i+sl]), tensor(d[i+1:i+1+sl])) for i in range(0, len(d)-sl, sl)\n",
    "]"
   ]
  },
  {
   "cell_type": "code",
   "execution_count": 33,
   "id": "db18b701-b0e4-4718-935c-1213c7e29575",
   "metadata": {},
   "outputs": [
    {
     "data": {
      "text/plain": [
       "(tensor([40, 42, 29]), tensor([42, 29, 30]))"
      ]
     },
     "execution_count": 33,
     "metadata": {},
     "output_type": "execute_result"
    }
   ],
   "source": [
    "data[0]"
   ]
  },
  {
   "cell_type": "code",
   "execution_count": 34,
   "id": "3d550452-159d-4764-8d60-d06a2a9e48e0",
   "metadata": {},
   "outputs": [
    {
     "data": {
      "text/plain": [
       "(tensor([30, 25, 27]), tensor([25, 27, 29]))"
      ]
     },
     "execution_count": 34,
     "metadata": {},
     "output_type": "execute_result"
    }
   ],
   "source": [
    "data[1]"
   ]
  },
  {
   "cell_type": "code",
   "execution_count": 35,
   "id": "4921e712-ff67-413b-bbc3-d396d6b0770d",
   "metadata": {},
   "outputs": [],
   "source": [
    "bs = 1024\n",
    "cut = int(len(data) * 0.8)\n",
    "dls = DataLoaders.from_dsets(data[:cut], data[cut:], bs=bs, shuffle=False)"
   ]
  },
  {
   "cell_type": "code",
   "execution_count": 36,
   "id": "2f95f37f-07b7-4b6c-90d6-edcf75489aa3",
   "metadata": {},
   "outputs": [
    {
     "data": {
      "text/plain": [
       "(tensor([[40, 42, 29],\n",
       "         [30, 25, 27],\n",
       "         [29,  1,  1],\n",
       "         ...,\n",
       "         [ 2, 69, 65],\n",
       "         [54, 62, 67],\n",
       "         [58, 71,  8]]),\n",
       " tensor([[42, 29, 30],\n",
       "         [25, 27, 29],\n",
       "         [ 1,  1,  1],\n",
       "         ...,\n",
       "         [69, 65, 54],\n",
       "         [62, 67, 58],\n",
       "         [71,  8,  2]]))"
      ]
     },
     "execution_count": 36,
     "metadata": {},
     "output_type": "execute_result"
    }
   ],
   "source": [
    "dls.one_batch()"
   ]
  },
  {
   "cell_type": "code",
   "execution_count": 37,
   "id": "21557d05-96d9-4400-8561-d29914d03d05",
   "metadata": {},
   "outputs": [],
   "source": [
    "def multi_output_ce(inp, targ):\n",
    "    # inp = [sl, 1024, 85]\n",
    "    # targ = [1024, sl]\n",
    "    \n",
    "    targ = targ.transpose(0,1).contiguous().view(-1) # [1024*sl]\n",
    "    \n",
    "    sl, bs, vocab_size = inp.shape\n",
    "    inp = inp.view(-1,vocab_size) # [1024*sl, 85]\n",
    "    \n",
    "    return F.cross_entropy(inp, targ)\n",
    "\n",
    "\n",
    "class CharXRNNModelMultiOutput(nn.Module):\n",
    "    def __init__(self, vocab_size, n_hidden):\n",
    "        super().__init__()\n",
    "        self.vocab_size = vocab_size\n",
    "        self.n_hidden = n_hidden\n",
    "        \n",
    "        self.i_h = nn.Embedding(vocab_size, n_hidden) # [85, 256]\n",
    "        self.rnn = nn.RNN(256, 256) # [256, 256]\n",
    "        self.h_o = nn.Linear(n_hidden, vocab_size) # [256, 85]\n",
    "        \n",
    "    def forward(self, xs):\n",
    "        # xs = [1024, sl]\n",
    "        \n",
    "        bs = xs.shape[0] # 1024\n",
    "        h = torch.zeros(1, bs, self.n_hidden) # [1,1024, 256]\n",
    "        \n",
    "        x = self.i_h(xs) # [1024, sl, 256]\n",
    "        \n",
    "        hs, h = self.rnn(x.transpose(0,1), h)\n",
    "        # hs [sl, 1024, 256]\n",
    "        # h [1, 1024, 256]\n",
    "        \n",
    "        out = self.h_o(hs) # [3, 1024, 85]\n",
    "        \n",
    "        return out\n",
    "        "
   ]
  },
  {
   "cell_type": "code",
   "execution_count": 38,
   "id": "7dc5ffb6-65ba-4a30-bf7a-e546c4fcd083",
   "metadata": {},
   "outputs": [
    {
     "data": {
      "text/html": [
       "\n",
       "<style>\n",
       "    /* Turns off some styling */\n",
       "    progress {\n",
       "        /* gets rid of default border in Firefox and Opera. */\n",
       "        border: none;\n",
       "        /* Needs to be in here for Safari polyfill so background images work as expected. */\n",
       "        background-size: auto;\n",
       "    }\n",
       "    progress:not([value]), progress:not([value])::-webkit-progress-bar {\n",
       "        background: repeating-linear-gradient(45deg, #7e7e7e, #7e7e7e 10px, #5c5c5c 10px, #5c5c5c 20px);\n",
       "    }\n",
       "    .progress-bar-interrupted, .progress-bar-interrupted::-webkit-progress-bar {\n",
       "        background: #F44336;\n",
       "    }\n",
       "</style>\n"
      ],
      "text/plain": [
       "<IPython.core.display.HTML object>"
      ]
     },
     "metadata": {},
     "output_type": "display_data"
    },
    {
     "data": {
      "text/html": [
       "<table border=\"1\" class=\"dataframe\">\n",
       "  <thead>\n",
       "    <tr style=\"text-align: left;\">\n",
       "      <th>epoch</th>\n",
       "      <th>train_loss</th>\n",
       "      <th>valid_loss</th>\n",
       "      <th>time</th>\n",
       "    </tr>\n",
       "  </thead>\n",
       "  <tbody>\n",
       "    <tr>\n",
       "      <td>0</td>\n",
       "      <td>3.322781</td>\n",
       "      <td>2.724751</td>\n",
       "      <td>00:00</td>\n",
       "    </tr>\n",
       "    <tr>\n",
       "      <td>1</td>\n",
       "      <td>2.799685</td>\n",
       "      <td>2.410069</td>\n",
       "      <td>00:00</td>\n",
       "    </tr>\n",
       "    <tr>\n",
       "      <td>2</td>\n",
       "      <td>2.562100</td>\n",
       "      <td>2.334680</td>\n",
       "      <td>00:00</td>\n",
       "    </tr>\n",
       "    <tr>\n",
       "      <td>3</td>\n",
       "      <td>2.423090</td>\n",
       "      <td>2.302087</td>\n",
       "      <td>00:00</td>\n",
       "    </tr>\n",
       "    <tr>\n",
       "      <td>4</td>\n",
       "      <td>2.330526</td>\n",
       "      <td>2.276958</td>\n",
       "      <td>00:00</td>\n",
       "    </tr>\n",
       "    <tr>\n",
       "      <td>5</td>\n",
       "      <td>2.260746</td>\n",
       "      <td>2.254164</td>\n",
       "      <td>00:00</td>\n",
       "    </tr>\n",
       "    <tr>\n",
       "      <td>6</td>\n",
       "      <td>2.204988</td>\n",
       "      <td>2.232140</td>\n",
       "      <td>00:00</td>\n",
       "    </tr>\n",
       "    <tr>\n",
       "      <td>7</td>\n",
       "      <td>2.157377</td>\n",
       "      <td>2.215478</td>\n",
       "      <td>00:00</td>\n",
       "    </tr>\n",
       "    <tr>\n",
       "      <td>8</td>\n",
       "      <td>2.116749</td>\n",
       "      <td>2.207410</td>\n",
       "      <td>00:00</td>\n",
       "    </tr>\n",
       "    <tr>\n",
       "      <td>9</td>\n",
       "      <td>2.086792</td>\n",
       "      <td>2.202936</td>\n",
       "      <td>00:00</td>\n",
       "    </tr>\n",
       "  </tbody>\n",
       "</table>"
      ],
      "text/plain": [
       "<IPython.core.display.HTML object>"
      ]
     },
     "metadata": {},
     "output_type": "display_data"
    }
   ],
   "source": [
    "model = CharXRNNModelMultiOutput(vocab_size, 256)\n",
    "learner = Learner(dls, model, loss_func=multi_output_ce)\n",
    "learner.fit_one_cycle(10, 1e-2)"
   ]
  },
  {
   "cell_type": "markdown",
   "id": "87595288-6f4c-4f01-aef3-4cda96356481",
   "metadata": {},
   "source": [
    "### So this does speed things up.. however we get pretty bad loss. Let's improve this by making things statefull"
   ]
  },
  {
   "cell_type": "code",
   "execution_count": 39,
   "id": "6fde863b-af71-4232-b462-fa1f911249c0",
   "metadata": {},
   "outputs": [],
   "source": [
    "dls = DataLoaders.from_dsets(data[:cut], data[cut:], bs=bs, shuffle=False, drop_last=True)\n",
    "\n",
    "class CharXRNNModelMultiOutputStateful(nn.Module):\n",
    "    def __init__(self, vocab_size, n_hidden, bs):\n",
    "        super().__init__()\n",
    "        self.vocab_size = vocab_size\n",
    "        self.n_hidden = n_hidden\n",
    "        \n",
    "        self.h = torch.zeros(1, bs, self.n_hidden) # [1,1024, 256]\n",
    "        \n",
    "        self.i_h = nn.Embedding(vocab_size, n_hidden) # [85, 256]\n",
    "        self.rnn = nn.RNN(256, 256) # [256, 256]\n",
    "        self.h_o = nn.Linear(n_hidden, vocab_size) # [256, 85]\n",
    "        \n",
    "    def forward(self, xs):\n",
    "        # xs = [1024, sl]\n",
    "        \n",
    "        x = self.i_h(xs) # [1024, sl, 256]\n",
    "        \n",
    "        hs, h = self.rnn(x.transpose(0,1), self.h)\n",
    "        # hs [sl, 1024, 256]\n",
    "        # h [1, 1024, 256]\n",
    "        \n",
    "        self.h = h.detach()\n",
    "        \n",
    "        out = self.h_o(hs) # [3, 1024, 85]\n",
    "        \n",
    "        return out\n",
    "        "
   ]
  },
  {
   "cell_type": "code",
   "execution_count": 40,
   "id": "bbd07a6d-7893-4b2e-8638-1f4fa8b06f98",
   "metadata": {},
   "outputs": [
    {
     "data": {
      "text/html": [
       "\n",
       "<style>\n",
       "    /* Turns off some styling */\n",
       "    progress {\n",
       "        /* gets rid of default border in Firefox and Opera. */\n",
       "        border: none;\n",
       "        /* Needs to be in here for Safari polyfill so background images work as expected. */\n",
       "        background-size: auto;\n",
       "    }\n",
       "    progress:not([value]), progress:not([value])::-webkit-progress-bar {\n",
       "        background: repeating-linear-gradient(45deg, #7e7e7e, #7e7e7e 10px, #5c5c5c 10px, #5c5c5c 20px);\n",
       "    }\n",
       "    .progress-bar-interrupted, .progress-bar-interrupted::-webkit-progress-bar {\n",
       "        background: #F44336;\n",
       "    }\n",
       "</style>\n"
      ],
      "text/plain": [
       "<IPython.core.display.HTML object>"
      ]
     },
     "metadata": {},
     "output_type": "display_data"
    },
    {
     "data": {
      "text/html": [
       "<table border=\"1\" class=\"dataframe\">\n",
       "  <thead>\n",
       "    <tr style=\"text-align: left;\">\n",
       "      <th>epoch</th>\n",
       "      <th>train_loss</th>\n",
       "      <th>valid_loss</th>\n",
       "      <th>time</th>\n",
       "    </tr>\n",
       "  </thead>\n",
       "  <tbody>\n",
       "    <tr>\n",
       "      <td>0</td>\n",
       "      <td>3.257765</td>\n",
       "      <td>2.633426</td>\n",
       "      <td>00:00</td>\n",
       "    </tr>\n",
       "    <tr>\n",
       "      <td>1</td>\n",
       "      <td>2.797917</td>\n",
       "      <td>2.423020</td>\n",
       "      <td>00:00</td>\n",
       "    </tr>\n",
       "    <tr>\n",
       "      <td>2</td>\n",
       "      <td>2.598141</td>\n",
       "      <td>2.384452</td>\n",
       "      <td>00:00</td>\n",
       "    </tr>\n",
       "    <tr>\n",
       "      <td>3</td>\n",
       "      <td>2.484302</td>\n",
       "      <td>2.346257</td>\n",
       "      <td>00:00</td>\n",
       "    </tr>\n",
       "    <tr>\n",
       "      <td>4</td>\n",
       "      <td>2.408065</td>\n",
       "      <td>2.340763</td>\n",
       "      <td>00:00</td>\n",
       "    </tr>\n",
       "    <tr>\n",
       "      <td>5</td>\n",
       "      <td>2.351110</td>\n",
       "      <td>2.321306</td>\n",
       "      <td>00:00</td>\n",
       "    </tr>\n",
       "    <tr>\n",
       "      <td>6</td>\n",
       "      <td>2.303579</td>\n",
       "      <td>2.307419</td>\n",
       "      <td>00:00</td>\n",
       "    </tr>\n",
       "    <tr>\n",
       "      <td>7</td>\n",
       "      <td>2.261971</td>\n",
       "      <td>2.291590</td>\n",
       "      <td>00:00</td>\n",
       "    </tr>\n",
       "    <tr>\n",
       "      <td>8</td>\n",
       "      <td>2.224066</td>\n",
       "      <td>2.286012</td>\n",
       "      <td>00:00</td>\n",
       "    </tr>\n",
       "    <tr>\n",
       "      <td>9</td>\n",
       "      <td>2.195254</td>\n",
       "      <td>2.281302</td>\n",
       "      <td>00:00</td>\n",
       "    </tr>\n",
       "  </tbody>\n",
       "</table>"
      ],
      "text/plain": [
       "<IPython.core.display.HTML object>"
      ]
     },
     "metadata": {},
     "output_type": "display_data"
    }
   ],
   "source": [
    "model = CharXRNNModelMultiOutputStateful(vocab_size, 256, 1024)\n",
    "learner = Learner(dls, model, loss_func=multi_output_ce)\n",
    "learner.fit_one_cycle(10, 1e-2)"
   ]
  },
  {
   "cell_type": "markdown",
   "id": "3c30aec8-7f82-4b5a-ab68-2fe2e1845982",
   "metadata": {},
   "source": [
    "### Still not really a lot better, that's because the stuff doesn't align..."
   ]
  },
  {
   "cell_type": "code",
   "execution_count": 41,
   "id": "c3297fd2-fb94-4720-ac14-f0f5724bec52",
   "metadata": {},
   "outputs": [],
   "source": [
    "def group_chunks(ds, bs):\n",
    "    m = len(ds) // bs\n",
    "    new_ds = L()\n",
    "    for i in range(m): new_ds += L(ds[i + m*j] for j in range(bs))\n",
    "    return new_ds"
   ]
  },
  {
   "cell_type": "code",
   "execution_count": 42,
   "id": "0762abbb-d0ee-4f3a-9e76-0a7fa4d5a97f",
   "metadata": {},
   "outputs": [],
   "source": [
    "cut = int(len(data) * 0.8)\n",
    "dls = DataLoaders.from_dsets(\n",
    "    group_chunks(data[:cut], bs), \n",
    "    group_chunks(data[cut:], bs), \n",
    "    bs=bs, drop_last=True, shuffle=False)"
   ]
  },
  {
   "cell_type": "code",
   "execution_count": 43,
   "id": "54d59e3f-e775-4d6a-be21-dfa8df8f524d",
   "metadata": {},
   "outputs": [
    {
     "data": {
      "text/html": [
       "\n",
       "<style>\n",
       "    /* Turns off some styling */\n",
       "    progress {\n",
       "        /* gets rid of default border in Firefox and Opera. */\n",
       "        border: none;\n",
       "        /* Needs to be in here for Safari polyfill so background images work as expected. */\n",
       "        background-size: auto;\n",
       "    }\n",
       "    progress:not([value]), progress:not([value])::-webkit-progress-bar {\n",
       "        background: repeating-linear-gradient(45deg, #7e7e7e, #7e7e7e 10px, #5c5c5c 10px, #5c5c5c 20px);\n",
       "    }\n",
       "    .progress-bar-interrupted, .progress-bar-interrupted::-webkit-progress-bar {\n",
       "        background: #F44336;\n",
       "    }\n",
       "</style>\n"
      ],
      "text/plain": [
       "<IPython.core.display.HTML object>"
      ]
     },
     "metadata": {},
     "output_type": "display_data"
    },
    {
     "data": {
      "text/html": [
       "<table border=\"1\" class=\"dataframe\">\n",
       "  <thead>\n",
       "    <tr style=\"text-align: left;\">\n",
       "      <th>epoch</th>\n",
       "      <th>train_loss</th>\n",
       "      <th>valid_loss</th>\n",
       "      <th>time</th>\n",
       "    </tr>\n",
       "  </thead>\n",
       "  <tbody>\n",
       "    <tr>\n",
       "      <td>0</td>\n",
       "      <td>3.227303</td>\n",
       "      <td>2.585609</td>\n",
       "      <td>00:00</td>\n",
       "    </tr>\n",
       "    <tr>\n",
       "      <td>1</td>\n",
       "      <td>2.682618</td>\n",
       "      <td>2.227214</td>\n",
       "      <td>00:00</td>\n",
       "    </tr>\n",
       "    <tr>\n",
       "      <td>2</td>\n",
       "      <td>2.367397</td>\n",
       "      <td>2.081430</td>\n",
       "      <td>00:00</td>\n",
       "    </tr>\n",
       "    <tr>\n",
       "      <td>3</td>\n",
       "      <td>2.159767</td>\n",
       "      <td>2.018955</td>\n",
       "      <td>00:00</td>\n",
       "    </tr>\n",
       "    <tr>\n",
       "      <td>4</td>\n",
       "      <td>2.010766</td>\n",
       "      <td>1.978363</td>\n",
       "      <td>00:00</td>\n",
       "    </tr>\n",
       "    <tr>\n",
       "      <td>5</td>\n",
       "      <td>1.900762</td>\n",
       "      <td>1.963945</td>\n",
       "      <td>00:00</td>\n",
       "    </tr>\n",
       "    <tr>\n",
       "      <td>6</td>\n",
       "      <td>1.810790</td>\n",
       "      <td>1.920839</td>\n",
       "      <td>00:00</td>\n",
       "    </tr>\n",
       "    <tr>\n",
       "      <td>7</td>\n",
       "      <td>1.737220</td>\n",
       "      <td>1.898980</td>\n",
       "      <td>00:00</td>\n",
       "    </tr>\n",
       "    <tr>\n",
       "      <td>8</td>\n",
       "      <td>1.675749</td>\n",
       "      <td>1.883400</td>\n",
       "      <td>00:00</td>\n",
       "    </tr>\n",
       "    <tr>\n",
       "      <td>9</td>\n",
       "      <td>1.630580</td>\n",
       "      <td>1.878325</td>\n",
       "      <td>00:00</td>\n",
       "    </tr>\n",
       "  </tbody>\n",
       "</table>"
      ],
      "text/plain": [
       "<IPython.core.display.HTML object>"
      ]
     },
     "metadata": {},
     "output_type": "display_data"
    }
   ],
   "source": [
    "model = CharXRNNModelMultiOutputStateful(vocab_size, 256, 1024)\n",
    "learner = Learner(dls, model, loss_func=multi_output_ce)\n",
    "learner.fit_one_cycle(10, 1e-2)"
   ]
  },
  {
   "cell_type": "markdown",
   "id": "7ddaa1cb-eb32-4d48-93e8-daf91be8e204",
   "metadata": {},
   "source": [
    "### Now it's fast and has good performance!"
   ]
  },
  {
   "cell_type": "markdown",
   "id": "ee365d22-781b-40f2-b40a-8cfa0116b389",
   "metadata": {},
   "source": [
    "### Let's simplify a couple of things by reordering and using batch_first=True on the RNN"
   ]
  },
  {
   "cell_type": "code",
   "execution_count": 44,
   "id": "e546df89-b391-4a6a-bdce-09ff02c148ce",
   "metadata": {},
   "outputs": [],
   "source": [
    "def multi_output_ce(inp, targ):\n",
    "    # inp = [1024, sl, 85]\n",
    "    # targ = [1024, sl]\n",
    "    \n",
    "    targ = targ.view(-1) # [1024*sl]\n",
    "    \n",
    "    sl, bs, vocab_size = inp.shape\n",
    "    inp = inp.view(-1,vocab_size) # [1024*sl, 85]\n",
    "    \n",
    "    return F.cross_entropy(inp, targ)\n",
    "\n",
    "\n",
    "class CharXRNNModelMultiOutputStatefulBatchFirst(nn.Module):\n",
    "    def __init__(self, vocab_size, n_hidden, bs):\n",
    "        super().__init__()\n",
    "        self.vocab_size = vocab_size\n",
    "        self.n_hidden = n_hidden\n",
    "        \n",
    "        self.h = torch.zeros(1, bs, self.n_hidden) # [1,1024, 256]\n",
    "        \n",
    "        self.i_h = nn.Embedding(vocab_size, n_hidden) # [85, 256]\n",
    "        self.rnn = nn.RNN(256, 256, batch_first=True) # [256, 256]\n",
    "        self.h_o = nn.Linear(n_hidden, vocab_size) # [256, 85]\n",
    "        \n",
    "    def forward(self, xs):\n",
    "        # xs = [1024, sl]\n",
    "        \n",
    "        x = self.i_h(xs) # [1024, sl, 256]\n",
    "        \n",
    "        hs, h = self.rnn(x, self.h)\n",
    "        # hs [1024, sl, 256]\n",
    "        # h [1, 1024, 256]\n",
    "        \n",
    "        self.h = h.detach()\n",
    "        \n",
    "        out = self.h_o(hs) # [1024, sl, 85]\n",
    "        return out\n",
    "        "
   ]
  },
  {
   "cell_type": "code",
   "execution_count": 45,
   "id": "d4d16a18-fd58-4e83-82fb-5f2803e3ff84",
   "metadata": {},
   "outputs": [
    {
     "data": {
      "text/html": [
       "\n",
       "<style>\n",
       "    /* Turns off some styling */\n",
       "    progress {\n",
       "        /* gets rid of default border in Firefox and Opera. */\n",
       "        border: none;\n",
       "        /* Needs to be in here for Safari polyfill so background images work as expected. */\n",
       "        background-size: auto;\n",
       "    }\n",
       "    progress:not([value]), progress:not([value])::-webkit-progress-bar {\n",
       "        background: repeating-linear-gradient(45deg, #7e7e7e, #7e7e7e 10px, #5c5c5c 10px, #5c5c5c 20px);\n",
       "    }\n",
       "    .progress-bar-interrupted, .progress-bar-interrupted::-webkit-progress-bar {\n",
       "        background: #F44336;\n",
       "    }\n",
       "</style>\n"
      ],
      "text/plain": [
       "<IPython.core.display.HTML object>"
      ]
     },
     "metadata": {},
     "output_type": "display_data"
    },
    {
     "data": {
      "text/html": [
       "<table border=\"1\" class=\"dataframe\">\n",
       "  <thead>\n",
       "    <tr style=\"text-align: left;\">\n",
       "      <th>epoch</th>\n",
       "      <th>train_loss</th>\n",
       "      <th>valid_loss</th>\n",
       "      <th>time</th>\n",
       "    </tr>\n",
       "  </thead>\n",
       "  <tbody>\n",
       "    <tr>\n",
       "      <td>0</td>\n",
       "      <td>3.236350</td>\n",
       "      <td>2.580962</td>\n",
       "      <td>00:00</td>\n",
       "    </tr>\n",
       "    <tr>\n",
       "      <td>1</td>\n",
       "      <td>2.685823</td>\n",
       "      <td>2.231140</td>\n",
       "      <td>00:00</td>\n",
       "    </tr>\n",
       "    <tr>\n",
       "      <td>2</td>\n",
       "      <td>2.370497</td>\n",
       "      <td>2.092850</td>\n",
       "      <td>00:00</td>\n",
       "    </tr>\n",
       "    <tr>\n",
       "      <td>3</td>\n",
       "      <td>2.164947</td>\n",
       "      <td>2.016285</td>\n",
       "      <td>00:00</td>\n",
       "    </tr>\n",
       "    <tr>\n",
       "      <td>4</td>\n",
       "      <td>2.011562</td>\n",
       "      <td>1.967001</td>\n",
       "      <td>00:00</td>\n",
       "    </tr>\n",
       "    <tr>\n",
       "      <td>5</td>\n",
       "      <td>1.896052</td>\n",
       "      <td>1.941080</td>\n",
       "      <td>00:00</td>\n",
       "    </tr>\n",
       "    <tr>\n",
       "      <td>6</td>\n",
       "      <td>1.806493</td>\n",
       "      <td>1.916360</td>\n",
       "      <td>00:00</td>\n",
       "    </tr>\n",
       "    <tr>\n",
       "      <td>7</td>\n",
       "      <td>1.731916</td>\n",
       "      <td>1.888724</td>\n",
       "      <td>00:00</td>\n",
       "    </tr>\n",
       "    <tr>\n",
       "      <td>8</td>\n",
       "      <td>1.669649</td>\n",
       "      <td>1.874724</td>\n",
       "      <td>00:00</td>\n",
       "    </tr>\n",
       "    <tr>\n",
       "      <td>9</td>\n",
       "      <td>1.624042</td>\n",
       "      <td>1.869331</td>\n",
       "      <td>00:00</td>\n",
       "    </tr>\n",
       "  </tbody>\n",
       "</table>"
      ],
      "text/plain": [
       "<IPython.core.display.HTML object>"
      ]
     },
     "metadata": {},
     "output_type": "display_data"
    }
   ],
   "source": [
    "model = CharXRNNModelMultiOutputStatefulBatchFirst(vocab_size, 256, 1024)\n",
    "learner = Learner(dls, model, loss_func=multi_output_ce)\n",
    "learner.fit_one_cycle(10, 1e-2)"
   ]
  },
  {
   "cell_type": "markdown",
   "id": "33833a05-777b-4a9c-8c12-827a4c3a0978",
   "metadata": {},
   "source": [
    "### That means we can also use the CrossEntropyLossFlat loss "
   ]
  },
  {
   "cell_type": "code",
   "execution_count": null,
   "id": "6d0d2acd-168e-4311-9e59-8de43e6b3cdb",
   "metadata": {},
   "outputs": [
    {
     "data": {
      "text/html": [
       "\n",
       "<style>\n",
       "    /* Turns off some styling */\n",
       "    progress {\n",
       "        /* gets rid of default border in Firefox and Opera. */\n",
       "        border: none;\n",
       "        /* Needs to be in here for Safari polyfill so background images work as expected. */\n",
       "        background-size: auto;\n",
       "    }\n",
       "    progress:not([value]), progress:not([value])::-webkit-progress-bar {\n",
       "        background: repeating-linear-gradient(45deg, #7e7e7e, #7e7e7e 10px, #5c5c5c 10px, #5c5c5c 20px);\n",
       "    }\n",
       "    .progress-bar-interrupted, .progress-bar-interrupted::-webkit-progress-bar {\n",
       "        background: #F44336;\n",
       "    }\n",
       "</style>\n"
      ],
      "text/plain": [
       "<IPython.core.display.HTML object>"
      ]
     },
     "metadata": {},
     "output_type": "display_data"
    },
    {
     "data": {
      "text/html": [
       "<table border=\"1\" class=\"dataframe\">\n",
       "  <thead>\n",
       "    <tr style=\"text-align: left;\">\n",
       "      <th>epoch</th>\n",
       "      <th>train_loss</th>\n",
       "      <th>valid_loss</th>\n",
       "      <th>time</th>\n",
       "    </tr>\n",
       "  </thead>\n",
       "  <tbody>\n",
       "    <tr>\n",
       "      <td>0</td>\n",
       "      <td>3.180236</td>\n",
       "      <td>2.551947</td>\n",
       "      <td>00:00</td>\n",
       "    </tr>\n",
       "    <tr>\n",
       "      <td>1</td>\n",
       "      <td>2.657809</td>\n",
       "      <td>2.230387</td>\n",
       "      <td>00:00</td>\n",
       "    </tr>\n",
       "    <tr>\n",
       "      <td>2</td>\n",
       "      <td>2.354864</td>\n",
       "      <td>2.102542</td>\n",
       "      <td>00:00</td>\n",
       "    </tr>\n",
       "    <tr>\n",
       "      <td>3</td>\n",
       "      <td>2.152959</td>\n",
       "      <td>2.018605</td>\n",
       "      <td>00:00</td>\n",
       "    </tr>\n",
       "    <tr>\n",
       "      <td>4</td>\n",
       "      <td>2.005427</td>\n",
       "      <td>1.971653</td>\n",
       "      <td>00:00</td>\n",
       "    </tr>\n",
       "    <tr>\n",
       "      <td>5</td>\n",
       "      <td>1.894430</td>\n",
       "      <td>1.939518</td>\n",
       "      <td>00:00</td>\n",
       "    </tr>\n",
       "    <tr>\n",
       "      <td>6</td>\n",
       "      <td>1.805748</td>\n",
       "      <td>1.914371</td>\n",
       "      <td>00:00</td>\n",
       "    </tr>\n",
       "    <tr>\n",
       "      <td>7</td>\n",
       "      <td>1.732585</td>\n",
       "      <td>1.889280</td>\n",
       "      <td>00:00</td>\n",
       "    </tr>\n",
       "    <tr>\n",
       "      <td>8</td>\n",
       "      <td>1.670935</td>\n",
       "      <td>1.873836</td>\n",
       "      <td>00:00</td>\n",
       "    </tr>\n",
       "    <tr>\n",
       "      <td>9</td>\n",
       "      <td>1.625509</td>\n",
       "      <td>1.868808</td>\n",
       "      <td>00:00</td>\n",
       "    </tr>\n",
       "  </tbody>\n",
       "</table>"
      ],
      "text/plain": [
       "<IPython.core.display.HTML object>"
      ]
     },
     "metadata": {},
     "output_type": "display_data"
    }
   ],
   "source": [
    "model = CharXRNNModelMultiOutputStatefulBatchFirst(vocab_size, 256, 1024)\n",
    "learner = Learner(dls, model, loss_func=CrossEntropyLossFlat())\n",
    "learner.fit_one_cycle(10, 1e-2)"
   ]
  },
  {
   "cell_type": "code",
   "execution_count": 58,
   "id": "b2713f67-5f43-4c61-a9fd-a12688a802a9",
   "metadata": {},
   "outputs": [],
   "source": [
    "class CharXMultiRNNModelMultiOutputStateful(nn.Module):\n",
    "    def __init__(self, vocab_size, n_hidden, bs, n_layers):\n",
    "        super().__init__()\n",
    "        self.vocab_size = vocab_size\n",
    "        self.n_hidden = n_hidden\n",
    "        \n",
    "        self.h = torch.zeros(n_layers, bs, self.n_hidden) # [2, 1024, 256]\n",
    "        \n",
    "        self.i_h = nn.Embedding(vocab_size, n_hidden) # [85, 256]\n",
    "        self.rnn = nn.RNN(n_hidden, n_hidden, n_layers, batch_first=True) # [256, 256]\n",
    "        self.h_o = nn.Linear(n_hidden, vocab_size) # [256, 85]\n",
    "        \n",
    "    def forward(self, xs):\n",
    "        # xs = [1024, sl]\n",
    "        \n",
    "        x = self.i_h(xs) # [1024, sl, 256]\n",
    "        \n",
    "        hs, h = self.rnn(x, self.h)\n",
    "        # hs [1024, sl, 256]\n",
    "        # h [2, 1024, 256]\n",
    "        \n",
    "        self.h = h.detach()\n",
    "        \n",
    "        out = self.h_o(hs) # [1024, sl, 85]\n",
    "        return out\n",
    "        "
   ]
  },
  {
   "cell_type": "code",
   "execution_count": 59,
   "id": "9769c12b-f7e9-4535-b194-0a583e6754a1",
   "metadata": {},
   "outputs": [
    {
     "data": {
      "text/html": [
       "\n",
       "<style>\n",
       "    /* Turns off some styling */\n",
       "    progress {\n",
       "        /* gets rid of default border in Firefox and Opera. */\n",
       "        border: none;\n",
       "        /* Needs to be in here for Safari polyfill so background images work as expected. */\n",
       "        background-size: auto;\n",
       "    }\n",
       "    progress:not([value]), progress:not([value])::-webkit-progress-bar {\n",
       "        background: repeating-linear-gradient(45deg, #7e7e7e, #7e7e7e 10px, #5c5c5c 10px, #5c5c5c 20px);\n",
       "    }\n",
       "    .progress-bar-interrupted, .progress-bar-interrupted::-webkit-progress-bar {\n",
       "        background: #F44336;\n",
       "    }\n",
       "</style>\n"
      ],
      "text/plain": [
       "<IPython.core.display.HTML object>"
      ]
     },
     "metadata": {},
     "output_type": "display_data"
    },
    {
     "data": {
      "text/html": [
       "<table border=\"1\" class=\"dataframe\">\n",
       "  <thead>\n",
       "    <tr style=\"text-align: left;\">\n",
       "      <th>epoch</th>\n",
       "      <th>train_loss</th>\n",
       "      <th>valid_loss</th>\n",
       "      <th>time</th>\n",
       "    </tr>\n",
       "  </thead>\n",
       "  <tbody>\n",
       "    <tr>\n",
       "      <td>0</td>\n",
       "      <td>3.171021</td>\n",
       "      <td>2.566434</td>\n",
       "      <td>00:01</td>\n",
       "    </tr>\n",
       "    <tr>\n",
       "      <td>1</td>\n",
       "      <td>2.641303</td>\n",
       "      <td>2.217872</td>\n",
       "      <td>00:01</td>\n",
       "    </tr>\n",
       "    <tr>\n",
       "      <td>2</td>\n",
       "      <td>2.324720</td>\n",
       "      <td>2.058521</td>\n",
       "      <td>00:01</td>\n",
       "    </tr>\n",
       "    <tr>\n",
       "      <td>3</td>\n",
       "      <td>2.101378</td>\n",
       "      <td>1.972325</td>\n",
       "      <td>00:01</td>\n",
       "    </tr>\n",
       "    <tr>\n",
       "      <td>4</td>\n",
       "      <td>1.941963</td>\n",
       "      <td>1.942842</td>\n",
       "      <td>00:01</td>\n",
       "    </tr>\n",
       "    <tr>\n",
       "      <td>5</td>\n",
       "      <td>1.822112</td>\n",
       "      <td>1.925534</td>\n",
       "      <td>00:01</td>\n",
       "    </tr>\n",
       "    <tr>\n",
       "      <td>6</td>\n",
       "      <td>1.723762</td>\n",
       "      <td>1.877729</td>\n",
       "      <td>00:01</td>\n",
       "    </tr>\n",
       "    <tr>\n",
       "      <td>7</td>\n",
       "      <td>1.637169</td>\n",
       "      <td>1.855244</td>\n",
       "      <td>00:01</td>\n",
       "    </tr>\n",
       "    <tr>\n",
       "      <td>8</td>\n",
       "      <td>1.560163</td>\n",
       "      <td>1.837580</td>\n",
       "      <td>00:01</td>\n",
       "    </tr>\n",
       "    <tr>\n",
       "      <td>9</td>\n",
       "      <td>1.501047</td>\n",
       "      <td>1.832978</td>\n",
       "      <td>00:01</td>\n",
       "    </tr>\n",
       "  </tbody>\n",
       "</table>"
      ],
      "text/plain": [
       "<IPython.core.display.HTML object>"
      ]
     },
     "metadata": {},
     "output_type": "display_data"
    }
   ],
   "source": [
    "model = CharXMultiRNNModelMultiOutputStateful(vocab_size, 256, 1024, 2)\n",
    "learner = Learner(dls, model, loss_func=CrossEntropyLossFlat())\n",
    "learner.fit_one_cycle(10, 1e-2)"
   ]
  },
  {
   "cell_type": "markdown",
   "id": "46fce442-4f9d-4493-9179-a730a33d3001",
   "metadata": {},
   "source": [
    "### LSTMs"
   ]
  },
  {
   "cell_type": "markdown",
   "id": "cdac14a0-073a-4a83-b8f2-f41738016a76",
   "metadata": {},
   "source": [
    "![lstm.png](lstm.png)"
   ]
  },
  {
   "cell_type": "markdown",
   "id": "21ed7fd7-2f89-4359-9573-bd7c42867e5a",
   "metadata": {},
   "source": [
    "### Create custom LSTMCell according to the diagram above:"
   ]
  },
  {
   "cell_type": "code",
   "execution_count": 259,
   "id": "2abae760-cd1b-48bb-96e1-68aa60bb65d2",
   "metadata": {},
   "outputs": [],
   "source": [
    "class LSTMCell(nn.Module):\n",
    "    def __init__(self, ni, nh):\n",
    "        super().__init__()\n",
    "        self.ni = ni\n",
    "        self.nh = nh\n",
    "        \n",
    "        self.forget_gate = nn.Linear(ni + nh, nh)\n",
    "        self.input_gate = nn.Linear(ni + nh, nh)\n",
    "        self.cell_gate = nn.Linear(ni + nh, nh)\n",
    "        self.output_gate = nn.Linear(ni + nh, nh)\n",
    "        \n",
    "    def forward(self, inp, state):\n",
    "        # inp [bs, ni]\n",
    "        # state ([bs, nh], [bs, nh])\n",
    "        h,c = state\n",
    "        \n",
    "        h = torch.cat([h, inp], dim=1) # [bs, ni+nh]\n",
    "        \n",
    "        forget = torch.sigmoid(self.forget_gate(h)) # [bs, nh]\n",
    "        c = forget * c\n",
    "        \n",
    "        inp = torch.sigmoid(self.input_gate(h)) # [bs, nh]\n",
    "        cell = torch.tanh(self.cell_gate(h)) # [bs, nh]\n",
    "        \n",
    "        inp = inp * cell \n",
    "        c = c + inp\n",
    "        \n",
    "        output = torch.sigmoid(self.output_gate(h))\n",
    "        output = output * torch.tanh(c)\n",
    "        \n",
    "        return output, (output,c)"
   ]
  },
  {
   "cell_type": "markdown",
   "id": "8ae698f1-60f1-4599-a0ff-f3a408c7bcf2",
   "metadata": {},
   "source": [
    "### And build the model:"
   ]
  },
  {
   "cell_type": "code",
   "execution_count": 264,
   "id": "c7a90856-dc72-47bc-924e-21f800f51727",
   "metadata": {},
   "outputs": [],
   "source": [
    "class LSTMNet(nn.Module):\n",
    "    def __init__(self, vocab_size, n_hidden, bs):\n",
    "        super().__init__()\n",
    "        \n",
    "        self.state = [torch.zeros(bs, n_hidden), torch.zeros(bs, n_hidden)] # ([1024, 256], [1024, 256])\n",
    "        \n",
    "        self.i_h = nn.Embedding(vocab_size, n_hidden) # [85, 256]\n",
    "        self.lstm = LSTMCell(n_hidden, n_hidden)\n",
    "        self.h_o = nn.Linear(n_hidden, vocab_size) # [256, 85]\n",
    "        \n",
    "    def forward(self, xs):\n",
    "        # xs = [1024, 3]\n",
    "        \n",
    "        x = self.i_h(xs) # [1024, 3, 256]\n",
    "                \n",
    "        outs = []\n",
    "        out, self.state = self.lstm(x[:,0,:], self.state)\n",
    "        outs.append(out)\n",
    "        out, self.state = self.lstm(x[:,1,:], self.state)\n",
    "        outs.append(out)\n",
    "        out, self.state = self.lstm(x[:,2,:], self.state)\n",
    "        outs.append(out)\n",
    "        \n",
    "        self.state = [i.detach() for i in self.state]\n",
    "        \n",
    "        out = self.h_o(torch.stack(outs, dim=1)) # [1024, sl, 85]\n",
    "        return out\n",
    "        "
   ]
  },
  {
   "cell_type": "code",
   "execution_count": 265,
   "id": "eabc6da3-ad26-4681-99b9-d618b19785a3",
   "metadata": {},
   "outputs": [],
   "source": [
    "model = LSTMNet(vocab_size, 256, 1024)\n",
    "learner = Learner(dls, model, loss_func=CrossEntropyLossFlat())"
   ]
  },
  {
   "cell_type": "code",
   "execution_count": 266,
   "id": "5e41bb12-6e9a-46aa-8419-14d153ecbb9e",
   "metadata": {},
   "outputs": [
    {
     "data": {
      "text/html": [
       "\n",
       "<style>\n",
       "    /* Turns off some styling */\n",
       "    progress {\n",
       "        /* gets rid of default border in Firefox and Opera. */\n",
       "        border: none;\n",
       "        /* Needs to be in here for Safari polyfill so background images work as expected. */\n",
       "        background-size: auto;\n",
       "    }\n",
       "    progress:not([value]), progress:not([value])::-webkit-progress-bar {\n",
       "        background: repeating-linear-gradient(45deg, #7e7e7e, #7e7e7e 10px, #5c5c5c 10px, #5c5c5c 20px);\n",
       "    }\n",
       "    .progress-bar-interrupted, .progress-bar-interrupted::-webkit-progress-bar {\n",
       "        background: #F44336;\n",
       "    }\n",
       "</style>\n"
      ],
      "text/plain": [
       "<IPython.core.display.HTML object>"
      ]
     },
     "metadata": {},
     "output_type": "display_data"
    },
    {
     "data": {
      "text/html": [
       "<table border=\"1\" class=\"dataframe\">\n",
       "  <thead>\n",
       "    <tr style=\"text-align: left;\">\n",
       "      <th>epoch</th>\n",
       "      <th>train_loss</th>\n",
       "      <th>valid_loss</th>\n",
       "      <th>time</th>\n",
       "    </tr>\n",
       "  </thead>\n",
       "  <tbody>\n",
       "    <tr>\n",
       "      <td>0</td>\n",
       "      <td>2.864736</td>\n",
       "      <td>2.338626</td>\n",
       "      <td>00:02</td>\n",
       "    </tr>\n",
       "    <tr>\n",
       "      <td>1</td>\n",
       "      <td>2.422578</td>\n",
       "      <td>2.156112</td>\n",
       "      <td>00:02</td>\n",
       "    </tr>\n",
       "    <tr>\n",
       "      <td>2</td>\n",
       "      <td>2.224717</td>\n",
       "      <td>2.109260</td>\n",
       "      <td>00:02</td>\n",
       "    </tr>\n",
       "    <tr>\n",
       "      <td>3</td>\n",
       "      <td>2.092041</td>\n",
       "      <td>2.061114</td>\n",
       "      <td>00:02</td>\n",
       "    </tr>\n",
       "    <tr>\n",
       "      <td>4</td>\n",
       "      <td>1.985551</td>\n",
       "      <td>2.021141</td>\n",
       "      <td>00:02</td>\n",
       "    </tr>\n",
       "    <tr>\n",
       "      <td>5</td>\n",
       "      <td>1.891941</td>\n",
       "      <td>1.976507</td>\n",
       "      <td>00:02</td>\n",
       "    </tr>\n",
       "    <tr>\n",
       "      <td>6</td>\n",
       "      <td>1.804668</td>\n",
       "      <td>1.929145</td>\n",
       "      <td>00:02</td>\n",
       "    </tr>\n",
       "    <tr>\n",
       "      <td>7</td>\n",
       "      <td>1.718539</td>\n",
       "      <td>1.906536</td>\n",
       "      <td>00:02</td>\n",
       "    </tr>\n",
       "    <tr>\n",
       "      <td>8</td>\n",
       "      <td>1.639218</td>\n",
       "      <td>1.879113</td>\n",
       "      <td>00:02</td>\n",
       "    </tr>\n",
       "    <tr>\n",
       "      <td>9</td>\n",
       "      <td>1.576758</td>\n",
       "      <td>1.875072</td>\n",
       "      <td>00:02</td>\n",
       "    </tr>\n",
       "  </tbody>\n",
       "</table>"
      ],
      "text/plain": [
       "<IPython.core.display.HTML object>"
      ]
     },
     "metadata": {},
     "output_type": "display_data"
    }
   ],
   "source": [
    "learner.fit_one_cycle(10, 5e-2)"
   ]
  },
  {
   "cell_type": "markdown",
   "id": "e602b36c-31f0-4342-954d-36a3dc915d9f",
   "metadata": {},
   "source": [
    "### Factor out the LSTMLayer"
   ]
  },
  {
   "cell_type": "code",
   "execution_count": 263,
   "id": "49cafea1-d921-4f42-8ba4-1043722ce504",
   "metadata": {},
   "outputs": [],
   "source": [
    "class LSTMLayer(nn.Module):\n",
    "    def __init__(self, cell, *cell_args):\n",
    "        super().__init__()\n",
    "        self.cell = cell(*cell_args)\n",
    "\n",
    "    def forward(self, input, state):\n",
    "        inputs = input.unbind(1)\n",
    "        outputs = []\n",
    "        for i in range(len(inputs)):\n",
    "            out, state = self.cell(inputs[i], state)\n",
    "            outputs += [out]\n",
    "        return torch.stack(outputs, dim=1), state"
   ]
  },
  {
   "cell_type": "code",
   "execution_count": 267,
   "id": "3c9c3046-8313-406e-94fc-07f71a986f9a",
   "metadata": {},
   "outputs": [],
   "source": [
    "class LSTMNet1(nn.Module):\n",
    "    def __init__(self, vocab_size, n_hidden, bs, lstm_cell):\n",
    "        super().__init__()\n",
    "        \n",
    "        self.h = [torch.zeros(bs, n_hidden), torch.zeros(bs, n_hidden)] # ([1024, 256], [1024, 256])\n",
    "        \n",
    "        self.i_h = nn.Embedding(vocab_size, n_hidden) # [85, 256]\n",
    "        self.lstm = LSTMLayer(lstm_cell, n_hidden, n_hidden)\n",
    "        self.h_o = nn.Linear(n_hidden, vocab_size) # [256, 85]\n",
    "        \n",
    "    def forward(self, xs):\n",
    "        # xs = [1024, 3]\n",
    "        \n",
    "        x = self.i_h(xs) # [1024, 3, 256]\n",
    "        \n",
    "        outs, self.h = self.lstm(x, self.h)\n",
    "        self.h = [i.detach() for i in self.h]\n",
    "        \n",
    "        out = self.h_o(outs) # [1024, sl, 85]\n",
    "        return out\n",
    "        "
   ]
  },
  {
   "cell_type": "code",
   "execution_count": 268,
   "id": "68c20d5f-922b-4d9a-adb5-d4f232e8135f",
   "metadata": {},
   "outputs": [
    {
     "data": {
      "text/html": [
       "\n",
       "<style>\n",
       "    /* Turns off some styling */\n",
       "    progress {\n",
       "        /* gets rid of default border in Firefox and Opera. */\n",
       "        border: none;\n",
       "        /* Needs to be in here for Safari polyfill so background images work as expected. */\n",
       "        background-size: auto;\n",
       "    }\n",
       "    progress:not([value]), progress:not([value])::-webkit-progress-bar {\n",
       "        background: repeating-linear-gradient(45deg, #7e7e7e, #7e7e7e 10px, #5c5c5c 10px, #5c5c5c 20px);\n",
       "    }\n",
       "    .progress-bar-interrupted, .progress-bar-interrupted::-webkit-progress-bar {\n",
       "        background: #F44336;\n",
       "    }\n",
       "</style>\n"
      ],
      "text/plain": [
       "<IPython.core.display.HTML object>"
      ]
     },
     "metadata": {},
     "output_type": "display_data"
    },
    {
     "data": {
      "text/html": [
       "<table border=\"1\" class=\"dataframe\">\n",
       "  <thead>\n",
       "    <tr style=\"text-align: left;\">\n",
       "      <th>epoch</th>\n",
       "      <th>train_loss</th>\n",
       "      <th>valid_loss</th>\n",
       "      <th>time</th>\n",
       "    </tr>\n",
       "  </thead>\n",
       "  <tbody>\n",
       "    <tr>\n",
       "      <td>0</td>\n",
       "      <td>2.872561</td>\n",
       "      <td>2.352835</td>\n",
       "      <td>00:02</td>\n",
       "    </tr>\n",
       "    <tr>\n",
       "      <td>1</td>\n",
       "      <td>2.415869</td>\n",
       "      <td>2.148014</td>\n",
       "      <td>00:02</td>\n",
       "    </tr>\n",
       "    <tr>\n",
       "      <td>2</td>\n",
       "      <td>2.209810</td>\n",
       "      <td>2.093563</td>\n",
       "      <td>00:02</td>\n",
       "    </tr>\n",
       "    <tr>\n",
       "      <td>3</td>\n",
       "      <td>2.073610</td>\n",
       "      <td>2.049113</td>\n",
       "      <td>00:02</td>\n",
       "    </tr>\n",
       "    <tr>\n",
       "      <td>4</td>\n",
       "      <td>1.966854</td>\n",
       "      <td>2.011589</td>\n",
       "      <td>00:02</td>\n",
       "    </tr>\n",
       "    <tr>\n",
       "      <td>5</td>\n",
       "      <td>1.874174</td>\n",
       "      <td>1.973702</td>\n",
       "      <td>00:02</td>\n",
       "    </tr>\n",
       "    <tr>\n",
       "      <td>6</td>\n",
       "      <td>1.784474</td>\n",
       "      <td>1.925455</td>\n",
       "      <td>00:02</td>\n",
       "    </tr>\n",
       "    <tr>\n",
       "      <td>7</td>\n",
       "      <td>1.695859</td>\n",
       "      <td>1.900301</td>\n",
       "      <td>00:02</td>\n",
       "    </tr>\n",
       "    <tr>\n",
       "      <td>8</td>\n",
       "      <td>1.615563</td>\n",
       "      <td>1.876360</td>\n",
       "      <td>00:02</td>\n",
       "    </tr>\n",
       "    <tr>\n",
       "      <td>9</td>\n",
       "      <td>1.552560</td>\n",
       "      <td>1.871616</td>\n",
       "      <td>00:02</td>\n",
       "    </tr>\n",
       "  </tbody>\n",
       "</table>"
      ],
      "text/plain": [
       "<IPython.core.display.HTML object>"
      ]
     },
     "metadata": {},
     "output_type": "display_data"
    }
   ],
   "source": [
    "model = LSTMNet1(vocab_size, 256, 1024, LSTMCell)\n",
    "learner = Learner(dls, model, loss_func=CrossEntropyLossFlat())\n",
    "learner.fit_one_cycle(10, 5e-2)"
   ]
  },
  {
   "cell_type": "markdown",
   "id": "8cea81bc-dd84-4dbf-99ca-4fc6964b9d1e",
   "metadata": {},
   "source": [
    "### LSTMCell that \"adds\" instead of \"concats\" the input and hidden state together"
   ]
  },
  {
   "cell_type": "code",
   "execution_count": 269,
   "id": "ea660e9b-8c00-4ed3-a7b6-b5a14d0dbb62",
   "metadata": {},
   "outputs": [],
   "source": [
    "class LSTMCellAdd(nn.Module):\n",
    "    def __init__(self, ni, nh):\n",
    "        super().__init__()\n",
    "        self.ni = ni\n",
    "        self.nh = nh\n",
    "        \n",
    "        self.forget_gate = nn.Linear(ni, nh)\n",
    "        self.input_gate = nn.Linear(ni, nh)\n",
    "        self.cell_gate = nn.Linear(ni, nh)\n",
    "        self.output_gate = nn.Linear(ni, nh)\n",
    "        \n",
    "    def forward(self, inp, state):\n",
    "        # inp [bs, ni]\n",
    "        # state ([bs, nh], [bs, nh])\n",
    "        h,c = state\n",
    "        \n",
    "        h = h + inp\n",
    "        \n",
    "        forget = torch.sigmoid(self.forget_gate(h)) # [bs, nh]\n",
    "        c = forget * c\n",
    "        \n",
    "        inp = torch.sigmoid(self.input_gate(h)) # [bs, nh]\n",
    "        cell = torch.tanh(self.cell_gate(h)) # [bs, nh]\n",
    "        \n",
    "        inp = inp * cell \n",
    "        c = c + inp\n",
    "        \n",
    "        output = torch.sigmoid(self.output_gate(h))\n",
    "        output = output * torch.tanh(c)\n",
    "        \n",
    "        return output, (output,c)\n"
   ]
  },
  {
   "cell_type": "code",
   "execution_count": 270,
   "id": "bf3d992f-4d04-4d74-9cba-a4a3394ae150",
   "metadata": {},
   "outputs": [
    {
     "data": {
      "text/html": [
       "\n",
       "<style>\n",
       "    /* Turns off some styling */\n",
       "    progress {\n",
       "        /* gets rid of default border in Firefox and Opera. */\n",
       "        border: none;\n",
       "        /* Needs to be in here for Safari polyfill so background images work as expected. */\n",
       "        background-size: auto;\n",
       "    }\n",
       "    progress:not([value]), progress:not([value])::-webkit-progress-bar {\n",
       "        background: repeating-linear-gradient(45deg, #7e7e7e, #7e7e7e 10px, #5c5c5c 10px, #5c5c5c 20px);\n",
       "    }\n",
       "    .progress-bar-interrupted, .progress-bar-interrupted::-webkit-progress-bar {\n",
       "        background: #F44336;\n",
       "    }\n",
       "</style>\n"
      ],
      "text/plain": [
       "<IPython.core.display.HTML object>"
      ]
     },
     "metadata": {},
     "output_type": "display_data"
    },
    {
     "data": {
      "text/html": [
       "<table border=\"1\" class=\"dataframe\">\n",
       "  <thead>\n",
       "    <tr style=\"text-align: left;\">\n",
       "      <th>epoch</th>\n",
       "      <th>train_loss</th>\n",
       "      <th>valid_loss</th>\n",
       "      <th>time</th>\n",
       "    </tr>\n",
       "  </thead>\n",
       "  <tbody>\n",
       "    <tr>\n",
       "      <td>0</td>\n",
       "      <td>2.906466</td>\n",
       "      <td>2.364460</td>\n",
       "      <td>00:01</td>\n",
       "    </tr>\n",
       "    <tr>\n",
       "      <td>1</td>\n",
       "      <td>2.430810</td>\n",
       "      <td>2.150088</td>\n",
       "      <td>00:01</td>\n",
       "    </tr>\n",
       "    <tr>\n",
       "      <td>2</td>\n",
       "      <td>2.213123</td>\n",
       "      <td>2.092140</td>\n",
       "      <td>00:01</td>\n",
       "    </tr>\n",
       "    <tr>\n",
       "      <td>3</td>\n",
       "      <td>2.072024</td>\n",
       "      <td>2.052454</td>\n",
       "      <td>00:01</td>\n",
       "    </tr>\n",
       "    <tr>\n",
       "      <td>4</td>\n",
       "      <td>1.963137</td>\n",
       "      <td>2.020215</td>\n",
       "      <td>00:01</td>\n",
       "    </tr>\n",
       "    <tr>\n",
       "      <td>5</td>\n",
       "      <td>1.869209</td>\n",
       "      <td>1.966592</td>\n",
       "      <td>00:01</td>\n",
       "    </tr>\n",
       "    <tr>\n",
       "      <td>6</td>\n",
       "      <td>1.778399</td>\n",
       "      <td>1.934537</td>\n",
       "      <td>00:01</td>\n",
       "    </tr>\n",
       "    <tr>\n",
       "      <td>7</td>\n",
       "      <td>1.688962</td>\n",
       "      <td>1.900550</td>\n",
       "      <td>00:01</td>\n",
       "    </tr>\n",
       "    <tr>\n",
       "      <td>8</td>\n",
       "      <td>1.607550</td>\n",
       "      <td>1.877616</td>\n",
       "      <td>00:01</td>\n",
       "    </tr>\n",
       "    <tr>\n",
       "      <td>9</td>\n",
       "      <td>1.544713</td>\n",
       "      <td>1.873836</td>\n",
       "      <td>00:01</td>\n",
       "    </tr>\n",
       "  </tbody>\n",
       "</table>"
      ],
      "text/plain": [
       "<IPython.core.display.HTML object>"
      ]
     },
     "metadata": {},
     "output_type": "display_data"
    }
   ],
   "source": [
    "model = LSTMNet1(vocab_size, 256, 1024, LSTMCellAdd)\n",
    "learner = Learner(dls, model, loss_func=CrossEntropyLossFlat())\n",
    "learner.fit_one_cycle(10, 5e-2)"
   ]
  },
  {
   "cell_type": "markdown",
   "id": "a8b9d326-0480-4fab-85da-7ec43b190b62",
   "metadata": {},
   "source": [
    "### PyTorch is using a different LSTMCell:"
   ]
  },
  {
   "cell_type": "markdown",
   "id": "2c7aa6e2-0a59-45e5-8166-cc26a154060d",
   "metadata": {},
   "source": [
    "![torch_lstm.png](torch_lstm.png)"
   ]
  },
  {
   "cell_type": "code",
   "execution_count": 171,
   "id": "d7ffef9c-0edb-4a3b-b418-ce262f015d98",
   "metadata": {},
   "outputs": [],
   "source": [
    "class LSTMCellTorch(nn.Module):\n",
    "    def __init__(self, ni, nh):\n",
    "        super().__init__()\n",
    "        self.ni = ni\n",
    "        self.nh = nh\n",
    "        \n",
    "        self.forget_gate_inp = nn.Linear(ni, nh)\n",
    "        self.forget_gate_h = nn.Linear(ni, nh)\n",
    "        \n",
    "        self.input_gate_inp = nn.Linear(ni, nh)\n",
    "        self.input_gate_h = nn.Linear(ni, nh)\n",
    "        \n",
    "        self.cell_gate_inp = nn.Linear(ni, nh)\n",
    "        self.cell_gate_h = nn.Linear(ni, nh)\n",
    "        \n",
    "        self.output_gate_inp = nn.Linear(ni, nh)\n",
    "        self.output_gate_h = nn.Linear(ni, nh)\n",
    "        \n",
    "    def forward(self, inp, state):\n",
    "        # inp [bs, ni]\n",
    "        # state ([bs, nh], [bs, nh])\n",
    "        h,c = state\n",
    "        \n",
    "        i = (self.input_gate_inp(inp) + self.input_gate_h(h)).sigmoid()\n",
    "        f = (self.forget_gate_inp(inp) + self.forget_gate_h(h)).sigmoid()\n",
    "        g = (self.cell_gate_inp(inp) + self.cell_gate_h(h)).tanh()\n",
    "        o = (self.output_gate_inp(inp) + self.output_gate_h(h)).sigmoid()\n",
    "        \n",
    "        c = f * c + i * g\n",
    "        output = o * c.tanh()\n",
    "        \n",
    "        return output, (output,c)"
   ]
  },
  {
   "cell_type": "code",
   "execution_count": 271,
   "id": "78bf79b0-ff34-4146-a63c-ab9c71cfa1e4",
   "metadata": {},
   "outputs": [
    {
     "data": {
      "text/html": [
       "\n",
       "<style>\n",
       "    /* Turns off some styling */\n",
       "    progress {\n",
       "        /* gets rid of default border in Firefox and Opera. */\n",
       "        border: none;\n",
       "        /* Needs to be in here for Safari polyfill so background images work as expected. */\n",
       "        background-size: auto;\n",
       "    }\n",
       "    progress:not([value]), progress:not([value])::-webkit-progress-bar {\n",
       "        background: repeating-linear-gradient(45deg, #7e7e7e, #7e7e7e 10px, #5c5c5c 10px, #5c5c5c 20px);\n",
       "    }\n",
       "    .progress-bar-interrupted, .progress-bar-interrupted::-webkit-progress-bar {\n",
       "        background: #F44336;\n",
       "    }\n",
       "</style>\n"
      ],
      "text/plain": [
       "<IPython.core.display.HTML object>"
      ]
     },
     "metadata": {},
     "output_type": "display_data"
    },
    {
     "data": {
      "text/html": [
       "<table border=\"1\" class=\"dataframe\">\n",
       "  <thead>\n",
       "    <tr style=\"text-align: left;\">\n",
       "      <th>epoch</th>\n",
       "      <th>train_loss</th>\n",
       "      <th>valid_loss</th>\n",
       "      <th>time</th>\n",
       "    </tr>\n",
       "  </thead>\n",
       "  <tbody>\n",
       "    <tr>\n",
       "      <td>0</td>\n",
       "      <td>2.855768</td>\n",
       "      <td>2.333830</td>\n",
       "      <td>00:02</td>\n",
       "    </tr>\n",
       "    <tr>\n",
       "      <td>1</td>\n",
       "      <td>2.400611</td>\n",
       "      <td>2.139885</td>\n",
       "      <td>00:02</td>\n",
       "    </tr>\n",
       "    <tr>\n",
       "      <td>2</td>\n",
       "      <td>2.200271</td>\n",
       "      <td>2.086586</td>\n",
       "      <td>00:02</td>\n",
       "    </tr>\n",
       "    <tr>\n",
       "      <td>3</td>\n",
       "      <td>2.067042</td>\n",
       "      <td>2.050319</td>\n",
       "      <td>00:02</td>\n",
       "    </tr>\n",
       "    <tr>\n",
       "      <td>4</td>\n",
       "      <td>1.959790</td>\n",
       "      <td>2.010012</td>\n",
       "      <td>00:02</td>\n",
       "    </tr>\n",
       "    <tr>\n",
       "      <td>5</td>\n",
       "      <td>1.867491</td>\n",
       "      <td>1.971201</td>\n",
       "      <td>00:02</td>\n",
       "    </tr>\n",
       "    <tr>\n",
       "      <td>6</td>\n",
       "      <td>1.777975</td>\n",
       "      <td>1.918855</td>\n",
       "      <td>00:02</td>\n",
       "    </tr>\n",
       "    <tr>\n",
       "      <td>7</td>\n",
       "      <td>1.689493</td>\n",
       "      <td>1.895441</td>\n",
       "      <td>00:02</td>\n",
       "    </tr>\n",
       "    <tr>\n",
       "      <td>8</td>\n",
       "      <td>1.606820</td>\n",
       "      <td>1.871696</td>\n",
       "      <td>00:02</td>\n",
       "    </tr>\n",
       "    <tr>\n",
       "      <td>9</td>\n",
       "      <td>1.541801</td>\n",
       "      <td>1.867780</td>\n",
       "      <td>00:02</td>\n",
       "    </tr>\n",
       "  </tbody>\n",
       "</table>"
      ],
      "text/plain": [
       "<IPython.core.display.HTML object>"
      ]
     },
     "metadata": {},
     "output_type": "display_data"
    }
   ],
   "source": [
    "model = LSTMNet1(vocab_size, 256, 1024, LSTMCellTorch)\n",
    "learner = Learner(dls, model, loss_func=multi_output_ce)\n",
    "learner.fit_one_cycle(10, 5e-2)"
   ]
  },
  {
   "cell_type": "markdown",
   "id": "2e334ddf-0158-455b-85ef-7e204804a602",
   "metadata": {},
   "source": [
    "### To use the nn.LSTMCell we have to change our LSTMLayer, since nn.LSTMCell has a slightly different API"
   ]
  },
  {
   "cell_type": "code",
   "execution_count": 274,
   "id": "e367dc2b-58f4-44d4-a0cc-ca32d18095f6",
   "metadata": {},
   "outputs": [],
   "source": [
    "class LSTMLayerTorch(nn.Module):\n",
    "    def __init__(self, cell, *cell_args):\n",
    "        super().__init__()\n",
    "        self.cell = cell(*cell_args)\n",
    "\n",
    "    def forward(self, input, state):\n",
    "        inputs = input.unbind(1)\n",
    "        outputs = []\n",
    "        for i in range(len(inputs)):\n",
    "            out, state = self.cell(inputs[i], state)\n",
    "            state = (out, state)\n",
    "            outputs += [out]\n",
    "        return torch.stack(outputs, dim=1), state\n",
    "\n",
    "class LSTMNetTorch(nn.Module):\n",
    "    def __init__(self, vocab_size, n_hidden, bs):\n",
    "        super().__init__()\n",
    "        \n",
    "        self.h = [torch.zeros(bs, n_hidden), torch.zeros(bs, n_hidden)] # ([1024, 256], [1024, 256])\n",
    "        \n",
    "        self.i_h = nn.Embedding(vocab_size, n_hidden) # [85, 256]\n",
    "        self.lstm = LSTMLayerTorch(nn.LSTMCell, n_hidden, n_hidden)\n",
    "        self.h_o = nn.Linear(n_hidden, vocab_size) # [256, 85]\n",
    "        \n",
    "    def forward(self, xs):\n",
    "        # xs = [1024, 3]\n",
    "        \n",
    "        x = self.i_h(xs) # [1024, 3, 256]\n",
    "        \n",
    "        outs, self.h = self.lstm(x, self.h)\n",
    "        self.h = [i.detach() for i in self.h]\n",
    "        \n",
    "        out = self.h_o(outs) # [1024, sl, 85]\n",
    "        return out"
   ]
  },
  {
   "cell_type": "code",
   "execution_count": 275,
   "id": "452aad56-bcb3-47fb-aae1-d5a7e06b00f0",
   "metadata": {},
   "outputs": [],
   "source": [
    "model = LSTMNetTorch(vocab_size, 256, 1024)\n",
    "learner = Learner(dls, model, loss_func=multi_output_ce)"
   ]
  },
  {
   "cell_type": "code",
   "execution_count": 276,
   "id": "8f706c43-6de0-4c9d-a75d-19683412a581",
   "metadata": {},
   "outputs": [
    {
     "data": {
      "text/html": [
       "\n",
       "<style>\n",
       "    /* Turns off some styling */\n",
       "    progress {\n",
       "        /* gets rid of default border in Firefox and Opera. */\n",
       "        border: none;\n",
       "        /* Needs to be in here for Safari polyfill so background images work as expected. */\n",
       "        background-size: auto;\n",
       "    }\n",
       "    progress:not([value]), progress:not([value])::-webkit-progress-bar {\n",
       "        background: repeating-linear-gradient(45deg, #7e7e7e, #7e7e7e 10px, #5c5c5c 10px, #5c5c5c 20px);\n",
       "    }\n",
       "    .progress-bar-interrupted, .progress-bar-interrupted::-webkit-progress-bar {\n",
       "        background: #F44336;\n",
       "    }\n",
       "</style>\n"
      ],
      "text/plain": [
       "<IPython.core.display.HTML object>"
      ]
     },
     "metadata": {},
     "output_type": "display_data"
    },
    {
     "data": {
      "text/html": [
       "<table border=\"1\" class=\"dataframe\">\n",
       "  <thead>\n",
       "    <tr style=\"text-align: left;\">\n",
       "      <th>epoch</th>\n",
       "      <th>train_loss</th>\n",
       "      <th>valid_loss</th>\n",
       "      <th>time</th>\n",
       "    </tr>\n",
       "  </thead>\n",
       "  <tbody>\n",
       "    <tr>\n",
       "      <td>0</td>\n",
       "      <td>2.870847</td>\n",
       "      <td>2.355901</td>\n",
       "      <td>00:02</td>\n",
       "    </tr>\n",
       "    <tr>\n",
       "      <td>1</td>\n",
       "      <td>2.419330</td>\n",
       "      <td>2.163442</td>\n",
       "      <td>00:01</td>\n",
       "    </tr>\n",
       "    <tr>\n",
       "      <td>2</td>\n",
       "      <td>2.215185</td>\n",
       "      <td>2.105365</td>\n",
       "      <td>00:02</td>\n",
       "    </tr>\n",
       "    <tr>\n",
       "      <td>3</td>\n",
       "      <td>2.080186</td>\n",
       "      <td>2.051028</td>\n",
       "      <td>00:01</td>\n",
       "    </tr>\n",
       "    <tr>\n",
       "      <td>4</td>\n",
       "      <td>1.971298</td>\n",
       "      <td>2.011527</td>\n",
       "      <td>00:01</td>\n",
       "    </tr>\n",
       "    <tr>\n",
       "      <td>5</td>\n",
       "      <td>1.877012</td>\n",
       "      <td>1.957065</td>\n",
       "      <td>00:02</td>\n",
       "    </tr>\n",
       "    <tr>\n",
       "      <td>6</td>\n",
       "      <td>1.787701</td>\n",
       "      <td>1.921162</td>\n",
       "      <td>00:01</td>\n",
       "    </tr>\n",
       "    <tr>\n",
       "      <td>7</td>\n",
       "      <td>1.701306</td>\n",
       "      <td>1.894734</td>\n",
       "      <td>00:02</td>\n",
       "    </tr>\n",
       "    <tr>\n",
       "      <td>8</td>\n",
       "      <td>1.621861</td>\n",
       "      <td>1.872823</td>\n",
       "      <td>00:02</td>\n",
       "    </tr>\n",
       "    <tr>\n",
       "      <td>9</td>\n",
       "      <td>1.559144</td>\n",
       "      <td>1.868233</td>\n",
       "      <td>00:02</td>\n",
       "    </tr>\n",
       "  </tbody>\n",
       "</table>"
      ],
      "text/plain": [
       "<IPython.core.display.HTML object>"
      ]
     },
     "metadata": {},
     "output_type": "display_data"
    }
   ],
   "source": [
    "learner.fit_one_cycle(10, 5e-2)"
   ]
  },
  {
   "cell_type": "markdown",
   "id": "2be7e3bf-6e56-4ee1-a451-a48077195e96",
   "metadata": {},
   "source": [
    "### Let's now use the native LSTM module"
   ]
  },
  {
   "cell_type": "code",
   "execution_count": 281,
   "id": "823b28f3-8995-46d2-968e-c657233760b9",
   "metadata": {},
   "outputs": [],
   "source": [
    "class LSTMNetTorch2(nn.Module):\n",
    "    def __init__(self, vocab_size, n_hidden, bs, n_layers):\n",
    "        super().__init__()\n",
    "        \n",
    "        self.h = [torch.zeros(n_layers, bs, n_hidden), torch.zeros(n_layers, bs, n_hidden)] # ([1024, 256], [1024, 256])\n",
    "        \n",
    "        self.i_h = nn.Embedding(vocab_size, n_hidden) # [85, 256]\n",
    "        self.lstm = nn.LSTM(n_hidden, n_hidden, n_layers, batch_first=True)\n",
    "        \n",
    "        self.h_o = nn.Linear(n_hidden, vocab_size) # [256, 85]\n",
    "        \n",
    "    def forward(self, xs):\n",
    "        # xs = [1024, 3]\n",
    "        \n",
    "        x = self.i_h(xs) # [1024, 3, 256]\n",
    "        \n",
    "        outs, self.h = self.lstm(x, self.h)\n",
    "        self.h = [i.detach() for i in self.h]\n",
    "        \n",
    "        out = self.h_o(outs) # [1024, 3, 85]\n",
    "        return out"
   ]
  },
  {
   "cell_type": "code",
   "execution_count": 282,
   "id": "223c01f5-5f58-4cf8-9015-a42d848b9089",
   "metadata": {},
   "outputs": [
    {
     "data": {
      "text/html": [
       "\n",
       "<style>\n",
       "    /* Turns off some styling */\n",
       "    progress {\n",
       "        /* gets rid of default border in Firefox and Opera. */\n",
       "        border: none;\n",
       "        /* Needs to be in here for Safari polyfill so background images work as expected. */\n",
       "        background-size: auto;\n",
       "    }\n",
       "    progress:not([value]), progress:not([value])::-webkit-progress-bar {\n",
       "        background: repeating-linear-gradient(45deg, #7e7e7e, #7e7e7e 10px, #5c5c5c 10px, #5c5c5c 20px);\n",
       "    }\n",
       "    .progress-bar-interrupted, .progress-bar-interrupted::-webkit-progress-bar {\n",
       "        background: #F44336;\n",
       "    }\n",
       "</style>\n"
      ],
      "text/plain": [
       "<IPython.core.display.HTML object>"
      ]
     },
     "metadata": {},
     "output_type": "display_data"
    },
    {
     "data": {
      "text/html": [
       "<table border=\"1\" class=\"dataframe\">\n",
       "  <thead>\n",
       "    <tr style=\"text-align: left;\">\n",
       "      <th>epoch</th>\n",
       "      <th>train_loss</th>\n",
       "      <th>valid_loss</th>\n",
       "      <th>time</th>\n",
       "    </tr>\n",
       "  </thead>\n",
       "  <tbody>\n",
       "    <tr>\n",
       "      <td>0</td>\n",
       "      <td>2.871213</td>\n",
       "      <td>2.338685</td>\n",
       "      <td>00:02</td>\n",
       "    </tr>\n",
       "    <tr>\n",
       "      <td>1</td>\n",
       "      <td>2.415540</td>\n",
       "      <td>2.146561</td>\n",
       "      <td>00:02</td>\n",
       "    </tr>\n",
       "    <tr>\n",
       "      <td>2</td>\n",
       "      <td>2.217885</td>\n",
       "      <td>2.092503</td>\n",
       "      <td>00:02</td>\n",
       "    </tr>\n",
       "    <tr>\n",
       "      <td>3</td>\n",
       "      <td>2.079339</td>\n",
       "      <td>2.043810</td>\n",
       "      <td>00:02</td>\n",
       "    </tr>\n",
       "    <tr>\n",
       "      <td>4</td>\n",
       "      <td>1.972076</td>\n",
       "      <td>2.004945</td>\n",
       "      <td>00:02</td>\n",
       "    </tr>\n",
       "    <tr>\n",
       "      <td>5</td>\n",
       "      <td>1.879082</td>\n",
       "      <td>1.968960</td>\n",
       "      <td>00:02</td>\n",
       "    </tr>\n",
       "    <tr>\n",
       "      <td>6</td>\n",
       "      <td>1.790795</td>\n",
       "      <td>1.926751</td>\n",
       "      <td>00:02</td>\n",
       "    </tr>\n",
       "    <tr>\n",
       "      <td>7</td>\n",
       "      <td>1.704880</td>\n",
       "      <td>1.891241</td>\n",
       "      <td>00:02</td>\n",
       "    </tr>\n",
       "    <tr>\n",
       "      <td>8</td>\n",
       "      <td>1.624404</td>\n",
       "      <td>1.866451</td>\n",
       "      <td>00:02</td>\n",
       "    </tr>\n",
       "    <tr>\n",
       "      <td>9</td>\n",
       "      <td>1.560885</td>\n",
       "      <td>1.863476</td>\n",
       "      <td>00:02</td>\n",
       "    </tr>\n",
       "  </tbody>\n",
       "</table>"
      ],
      "text/plain": [
       "<IPython.core.display.HTML object>"
      ]
     },
     "metadata": {},
     "output_type": "display_data"
    }
   ],
   "source": [
    "model = LSTMNetTorch2(vocab_size, 256, 1024, 1)\n",
    "learner = Learner(dls, model, loss_func=multi_output_ce)\n",
    "learner.fit_one_cycle(10, 5e-2)"
   ]
  },
  {
   "cell_type": "markdown",
   "id": "3e54648e-aca7-4486-8719-e6621cab6cfd",
   "metadata": {},
   "source": [
    "### After this, we could continue with more NLP based stuff and get into transformers etc, we would do that by following this [course](https://www.youtube.com/playlist?list=PLtmWHNX-gukKocXQOkQjuVxglSDYWsSh9)"
   ]
  },
  {
   "cell_type": "markdown",
   "id": "57d0f8aa-c040-4c66-947c-a64e25b96989",
   "metadata": {},
   "source": [
    "Two great resources:\n",
    "\n",
    "- https://colah.github.io/posts/2015-08-Understanding-LSTMs/\n",
    "- http://karpathy.github.io/2015/05/21/rnn-effectiveness/"
   ]
  },
  {
   "cell_type": "code",
   "execution_count": null,
   "id": "ffcfc8f4-f174-4b99-8a19-7ff632367c19",
   "metadata": {},
   "outputs": [],
   "source": []
  }
 ],
 "metadata": {
  "kernelspec": {
   "display_name": "Python 3 (ipykernel)",
   "language": "python",
   "name": "python3"
  },
  "language_info": {
   "codemirror_mode": {
    "name": "ipython",
    "version": 3
   },
   "file_extension": ".py",
   "mimetype": "text/x-python",
   "name": "python",
   "nbconvert_exporter": "python",
   "pygments_lexer": "ipython3",
   "version": "3.10.8"
  }
 },
 "nbformat": 4,
 "nbformat_minor": 5
}
