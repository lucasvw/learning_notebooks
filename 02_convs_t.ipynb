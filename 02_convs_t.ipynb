{
 "cells": [
  {
   "cell_type": "code",
   "execution_count": 10,
   "id": "85affc40-bd95-483f-8b46-d13abddf9c2b",
   "metadata": {},
   "outputs": [],
   "source": [
    "from fastai.vision.all import *"
   ]
  },
  {
   "cell_type": "code",
   "execution_count": 2,
   "id": "1883d351-a13a-4d47-a5bf-6b642b62a57d",
   "metadata": {},
   "outputs": [],
   "source": [
    "# let's create a single input picture: batch of 1, 3 image channel, images of size 224x224\n",
    "x = torch.randn(size=(1, 3, 224, 224))"
   ]
  },
  {
   "cell_type": "code",
   "execution_count": 3,
   "id": "14e2af39-0fcd-476b-b148-e3d018d8be65",
   "metadata": {},
   "outputs": [
    {
     "data": {
      "text/plain": [
       "Conv2d(3, 64, kernel_size=(3, 3), stride=(1, 1))"
      ]
     },
     "execution_count": 3,
     "metadata": {},
     "output_type": "execute_result"
    }
   ],
   "source": [
    "# The first conv layer: 3x3 kernel with 3 input channel and 64 output channels\n",
    "conv1 = torch.nn.Conv2d(3, 64, (3,3))\n",
    "conv1"
   ]
  },
  {
   "cell_type": "code",
   "execution_count": 4,
   "id": "dbc0b28f-a691-42dd-b964-5504127402a8",
   "metadata": {},
   "outputs": [
    {
     "data": {
      "text/plain": [
       "torch.Size([64, 3, 3, 3])"
      ]
     },
     "execution_count": 4,
     "metadata": {},
     "output_type": "execute_result"
    }
   ],
   "source": [
    "conv1.weight.shape"
   ]
  },
  {
   "cell_type": "code",
   "execution_count": 5,
   "id": "f64358fc-4bfc-4af9-819d-192b8806fe9d",
   "metadata": {},
   "outputs": [
    {
     "data": {
      "text/plain": [
       "torch.Size([1, 64, 222, 222])"
      ]
     },
     "execution_count": 5,
     "metadata": {},
     "output_type": "execute_result"
    }
   ],
   "source": [
    "# output: batch of 1, with now 64 channels \n",
    "y = conv1(x)\n",
    "y.shape"
   ]
  },
  {
   "cell_type": "code",
   "execution_count": 6,
   "id": "8563f251-4747-4bcf-a2d2-899bc7548642",
   "metadata": {},
   "outputs": [
    {
     "data": {
      "text/plain": [
       "torch.Size([1, 3, 3, 3])"
      ]
     },
     "execution_count": 6,
     "metadata": {},
     "output_type": "execute_result"
    }
   ],
   "source": [
    "# Now let's take the top left corner of the image the first 3 values x and y and all the 3 channels\n",
    "x_33 = x[:,:,0:3,0:3]\n",
    "x_33.shape"
   ]
  },
  {
   "cell_type": "code",
   "execution_count": 7,
   "id": "ba645f11-4334-46f2-a9a6-42fdc84440b2",
   "metadata": {},
   "outputs": [
    {
     "data": {
      "text/plain": [
       "torch.Size([1, 64, 1, 1])"
      ]
     },
     "execution_count": 7,
     "metadata": {},
     "output_type": "execute_result"
    }
   ],
   "source": [
    "# Now pass this top left corner through our conv\n",
    "y33 = conv1(x_33)\n",
    "y33.shape"
   ]
  },
  {
   "cell_type": "code",
   "execution_count": 8,
   "id": "59acad0d-66cc-409e-a09d-426bb421bffb",
   "metadata": {},
   "outputs": [
    {
     "data": {
      "text/plain": [
       "False"
      ]
     },
     "execution_count": 8,
     "metadata": {},
     "output_type": "execute_result"
    }
   ],
   "source": [
    "# And compare whether y33 equals to y in the very first location (top right corner) of the feature map\n",
    "torch.allclose(y33, y[:,:,0:1,0:1])"
   ]
  },
  {
   "cell_type": "code",
   "execution_count": 9,
   "id": "d3f93a1a-81ce-4177-b501-32f057b1b345",
   "metadata": {},
   "outputs": [
    {
     "data": {
      "text/plain": [
       "(27, 64)"
      ]
     },
     "execution_count": 9,
     "metadata": {},
     "output_type": "execute_result"
    }
   ],
   "source": [
    "x_33.nelement(), y33.nelement()"
   ]
  },
  {
   "cell_type": "code",
   "execution_count": null,
   "id": "6bbab714-350f-48e1-9e89-d9164502d437",
   "metadata": {},
   "outputs": [],
   "source": []
  }
 ],
 "metadata": {
  "kernelspec": {
   "display_name": "Python 3 (ipykernel)",
   "language": "python",
   "name": "python3"
  },
  "language_info": {
   "codemirror_mode": {
    "name": "ipython",
    "version": 3
   },
   "file_extension": ".py",
   "mimetype": "text/x-python",
   "name": "python",
   "nbconvert_exporter": "python",
   "pygments_lexer": "ipython3",
   "version": "3.10.8"
  }
 },
 "nbformat": 4,
 "nbformat_minor": 5
}
